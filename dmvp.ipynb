{
 "cells": [
  {
   "cell_type": "code",
   "execution_count": 1,
   "id": "3ff6b664",
   "metadata": {},
   "outputs": [],
   "source": [
    "import pandas as pd"
   ]
  },
  {
   "cell_type": "code",
   "execution_count": 2,
   "id": "1f116c20",
   "metadata": {},
   "outputs": [],
   "source": [
    "df = pd.read_csv('dmvp.csv',index_col=0)"
   ]
  },
  {
   "cell_type": "code",
   "execution_count": 3,
   "id": "ce490a20",
   "metadata": {},
   "outputs": [
    {
     "data": {
      "text/html": [
       "<div>\n",
       "<style scoped>\n",
       "    .dataframe tbody tr th:only-of-type {\n",
       "        vertical-align: middle;\n",
       "    }\n",
       "\n",
       "    .dataframe tbody tr th {\n",
       "        vertical-align: top;\n",
       "    }\n",
       "\n",
       "    .dataframe thead th {\n",
       "        text-align: right;\n",
       "    }\n",
       "</style>\n",
       "<table border=\"1\" class=\"dataframe\">\n",
       "  <thead>\n",
       "    <tr style=\"text-align: right;\">\n",
       "      <th></th>\n",
       "      <th>adp</th>\n",
       "      <th>bye_week</th>\n",
       "      <th>projected_games</th>\n",
       "      <th>ppg_played</th>\n",
       "      <th>projected_points</th>\n",
       "      <th>dmvp</th>\n",
       "    </tr>\n",
       "    <tr>\n",
       "      <th>name</th>\n",
       "      <th></th>\n",
       "      <th></th>\n",
       "      <th></th>\n",
       "      <th></th>\n",
       "      <th></th>\n",
       "      <th></th>\n",
       "    </tr>\n",
       "  </thead>\n",
       "  <tbody>\n",
       "    <tr>\n",
       "      <th>1Justin JeffersonMIN</th>\n",
       "      <td>1.01</td>\n",
       "      <td>13</td>\n",
       "      <td>16</td>\n",
       "      <td>21.4</td>\n",
       "      <td>348.9</td>\n",
       "      <td>100.0</td>\n",
       "    </tr>\n",
       "    <tr>\n",
       "      <th>2Ja'Marr ChaseCIN</th>\n",
       "      <td>1.03</td>\n",
       "      <td>7</td>\n",
       "      <td>15</td>\n",
       "      <td>21.3</td>\n",
       "      <td>332.0</td>\n",
       "      <td>92.1</td>\n",
       "    </tr>\n",
       "    <tr>\n",
       "      <th>3Tyreek HillMIA</th>\n",
       "      <td>1.05</td>\n",
       "      <td>10</td>\n",
       "      <td>15</td>\n",
       "      <td>21.1</td>\n",
       "      <td>328.7</td>\n",
       "      <td>90.6</td>\n",
       "    </tr>\n",
       "    <tr>\n",
       "      <th>4Cooper KuppLAR</th>\n",
       "      <td>1.06</td>\n",
       "      <td>10</td>\n",
       "      <td>16</td>\n",
       "      <td>19.8</td>\n",
       "      <td>323.0</td>\n",
       "      <td>87.9</td>\n",
       "    </tr>\n",
       "    <tr>\n",
       "      <th>5Stefon DiggsBUF</th>\n",
       "      <td>1.08</td>\n",
       "      <td>13</td>\n",
       "      <td>16</td>\n",
       "      <td>18.8</td>\n",
       "      <td>306.8</td>\n",
       "      <td>80.3</td>\n",
       "    </tr>\n",
       "  </tbody>\n",
       "</table>\n",
       "</div>"
      ],
      "text/plain": [
       "                       adp  bye_week  projected_games  ppg_played  \\\n",
       "name                                                                \n",
       "1Justin JeffersonMIN  1.01        13               16        21.4   \n",
       "2Ja'Marr ChaseCIN     1.03         7               15        21.3   \n",
       "3Tyreek HillMIA       1.05        10               15        21.1   \n",
       "4Cooper KuppLAR       1.06        10               16        19.8   \n",
       "5Stefon DiggsBUF      1.08        13               16        18.8   \n",
       "\n",
       "                      projected_points   dmvp  \n",
       "name                                           \n",
       "1Justin JeffersonMIN             348.9  100.0  \n",
       "2Ja'Marr ChaseCIN                332.0   92.1  \n",
       "3Tyreek HillMIA                  328.7   90.6  \n",
       "4Cooper KuppLAR                  323.0   87.9  \n",
       "5Stefon DiggsBUF                 306.8   80.3  "
      ]
     },
     "execution_count": 3,
     "metadata": {},
     "output_type": "execute_result"
    }
   ],
   "source": [
    "df.head()"
   ]
  },
  {
   "cell_type": "code",
   "execution_count": 5,
   "id": "1d1bb783",
   "metadata": {},
   "outputs": [
    {
     "ename": "AttributeError",
     "evalue": "'Index' object has no attribute 'sample'",
     "output_type": "error",
     "traceback": [
      "\u001b[0;31m---------------------------------------------------------------------------\u001b[0m",
      "\u001b[0;31mAttributeError\u001b[0m                            Traceback (most recent call last)",
      "Cell \u001b[0;32mIn[5], line 1\u001b[0m\n\u001b[0;32m----> 1\u001b[0m \u001b[43mdf\u001b[49m\u001b[38;5;241;43m.\u001b[39;49m\u001b[43mindex\u001b[49m\u001b[38;5;241;43m.\u001b[39;49m\u001b[43msample\u001b[49m(\u001b[38;5;241m20\u001b[39m)\n",
      "\u001b[0;31mAttributeError\u001b[0m: 'Index' object has no attribute 'sample'"
     ]
    }
   ],
   "source": []
  },
  {
   "cell_type": "code",
   "execution_count": null,
   "id": "4ccc9aef",
   "metadata": {},
   "outputs": [],
   "source": []
  }
 ],
 "metadata": {
  "kernelspec": {
   "display_name": "Python 3 (ipykernel)",
   "language": "python",
   "name": "python3"
  },
  "language_info": {
   "codemirror_mode": {
    "name": "ipython",
    "version": 3
   },
   "file_extension": ".py",
   "mimetype": "text/x-python",
   "name": "python",
   "nbconvert_exporter": "python",
   "pygments_lexer": "ipython3",
   "version": "3.9.7"
  }
 },
 "nbformat": 4,
 "nbformat_minor": 5
}
