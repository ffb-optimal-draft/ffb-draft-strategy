{
 "cells": [
  {
   "cell_type": "code",
   "execution_count": 23,
   "id": "b4e7f9b4",
   "metadata": {},
   "outputs": [],
   "source": [
    "import pandas as pd\n",
    "import time\n",
    "from bs4 import BeautifulSoup\n",
    "import requests\n",
    "from playwright.async_api import async_playwright, TimeoutError as PlaywrightTimeout\n"
   ]
  },
  {
   "cell_type": "code",
   "execution_count": 86,
   "id": "7ca52970",
   "metadata": {},
   "outputs": [],
   "source": [
    "async def get_html(url, sleep=5, retries=3):\n",
    "    html = None\n",
    "    for i in range(1, retries+1):\n",
    "        time.sleep(sleep * i)\n",
    "        try:\n",
    "            async with async_playwright() as p:\n",
    "                browser = await p.firefox.launch()\n",
    "                page = await browser.new_page()\n",
    "                await page.goto(url)\n",
    "                print(await page.title())\n",
    "                await page.mouse.wheel(15000,15000)\n",
    "                time.sleep(2)\n",
    "                html = await page.innerHTML('body')\n",
    "        except PlaywrightTimeout:\n",
    "            print(f\"Timeout error on {url}\")\n",
    "            continue\n",
    "        else:\n",
    "            break\n",
    "    return html"
   ]
  },
  {
   "cell_type": "code",
   "execution_count": 305,
   "id": "91ce6662",
   "metadata": {},
   "outputs": [],
   "source": [
    "df = pd.read_html('https://football.fantasysports.yahoo.com/f1/1/settings')"
   ]
  },
  {
   "cell_type": "code",
   "execution_count": 306,
   "id": "83a29981",
   "metadata": {},
   "outputs": [
    {
     "data": {
      "text/html": [
       "<div>\n",
       "<style scoped>\n",
       "    .dataframe tbody tr th:only-of-type {\n",
       "        vertical-align: middle;\n",
       "    }\n",
       "\n",
       "    .dataframe tbody tr th {\n",
       "        vertical-align: top;\n",
       "    }\n",
       "\n",
       "    .dataframe thead th {\n",
       "        text-align: right;\n",
       "    }\n",
       "</style>\n",
       "<table border=\"1\" class=\"dataframe\">\n",
       "  <thead>\n",
       "    <tr style=\"text-align: right;\">\n",
       "      <th></th>\n",
       "      <th>Offense</th>\n",
       "      <th>League Value</th>\n",
       "      <th>Yahoo Default Value</th>\n",
       "    </tr>\n",
       "  </thead>\n",
       "  <tbody>\n",
       "    <tr>\n",
       "      <th>0</th>\n",
       "      <td>Passing Yards</td>\n",
       "      <td>25 yards per point</td>\n",
       "      <td>NaN</td>\n",
       "    </tr>\n",
       "    <tr>\n",
       "      <th>1</th>\n",
       "      <td>Passing Touchdowns</td>\n",
       "      <td>4</td>\n",
       "      <td>NaN</td>\n",
       "    </tr>\n",
       "    <tr>\n",
       "      <th>2</th>\n",
       "      <td>Interceptions</td>\n",
       "      <td>-1</td>\n",
       "      <td>NaN</td>\n",
       "    </tr>\n",
       "    <tr>\n",
       "      <th>3</th>\n",
       "      <td>Rushing Yards</td>\n",
       "      <td>10 yards per point</td>\n",
       "      <td>NaN</td>\n",
       "    </tr>\n",
       "    <tr>\n",
       "      <th>4</th>\n",
       "      <td>Rushing Touchdowns</td>\n",
       "      <td>6</td>\n",
       "      <td>NaN</td>\n",
       "    </tr>\n",
       "    <tr>\n",
       "      <th>5</th>\n",
       "      <td>Receptions</td>\n",
       "      <td>0.5</td>\n",
       "      <td>NaN</td>\n",
       "    </tr>\n",
       "    <tr>\n",
       "      <th>6</th>\n",
       "      <td>Receiving Yards</td>\n",
       "      <td>10 yards per point</td>\n",
       "      <td>NaN</td>\n",
       "    </tr>\n",
       "    <tr>\n",
       "      <th>7</th>\n",
       "      <td>Receiving Touchdowns</td>\n",
       "      <td>6</td>\n",
       "      <td>NaN</td>\n",
       "    </tr>\n",
       "    <tr>\n",
       "      <th>8</th>\n",
       "      <td>Return Touchdowns</td>\n",
       "      <td>6</td>\n",
       "      <td>NaN</td>\n",
       "    </tr>\n",
       "    <tr>\n",
       "      <th>9</th>\n",
       "      <td>2-Point Conversions</td>\n",
       "      <td>2</td>\n",
       "      <td>NaN</td>\n",
       "    </tr>\n",
       "    <tr>\n",
       "      <th>10</th>\n",
       "      <td>Fumbles Lost</td>\n",
       "      <td>-2</td>\n",
       "      <td>NaN</td>\n",
       "    </tr>\n",
       "    <tr>\n",
       "      <th>11</th>\n",
       "      <td>Offensive Fumble Return TD</td>\n",
       "      <td>6</td>\n",
       "      <td>NaN</td>\n",
       "    </tr>\n",
       "  </tbody>\n",
       "</table>\n",
       "</div>"
      ],
      "text/plain": [
       "                       Offense        League Value  Yahoo Default Value\n",
       "0                Passing Yards  25 yards per point                  NaN\n",
       "1           Passing Touchdowns                   4                  NaN\n",
       "2                Interceptions                  -1                  NaN\n",
       "3                Rushing Yards  10 yards per point                  NaN\n",
       "4           Rushing Touchdowns                   6                  NaN\n",
       "5                   Receptions                 0.5                  NaN\n",
       "6              Receiving Yards  10 yards per point                  NaN\n",
       "7         Receiving Touchdowns                   6                  NaN\n",
       "8            Return Touchdowns                   6                  NaN\n",
       "9          2-Point Conversions                   2                  NaN\n",
       "10                Fumbles Lost                  -2                  NaN\n",
       "11  Offensive Fumble Return TD                   6                  NaN"
      ]
     },
     "execution_count": 306,
     "metadata": {},
     "output_type": "execute_result"
    }
   ],
   "source": [
    "df[1]"
   ]
  },
  {
   "cell_type": "code",
   "execution_count": 321,
   "id": "83987ba2",
   "metadata": {},
   "outputs": [],
   "source": [
    "a = pd.read_html('https://football.fantasysports.yahoo.com/f1/1003/settings')"
   ]
  },
  {
   "cell_type": "code",
   "execution_count": 326,
   "id": "0854720f",
   "metadata": {},
   "outputs": [
    {
     "data": {
      "text/plain": [
       "('Offense', 'Kickers', 'Defense/Special Teams', 'Defensive Players')"
      ]
     },
     "execution_count": 326,
     "metadata": {},
     "output_type": "execute_result"
    }
   ],
   "source": [
    "a[1].iloc[:,0].name"
   ]
  },
  {
   "cell_type": "code",
   "execution_count": 327,
   "id": "7127c316",
   "metadata": {},
   "outputs": [],
   "source": [
    "b = pd.read_html('https://football.fantasysports.yahoo.com/f1/1/settings')"
   ]
  },
  {
   "cell_type": "code",
   "execution_count": 328,
   "id": "8474f07b",
   "metadata": {},
   "outputs": [
    {
     "data": {
      "text/plain": [
       "'Offense'"
      ]
     },
     "execution_count": 328,
     "metadata": {},
     "output_type": "execute_result"
    }
   ],
   "source": [
    "b[1].iloc[:,0].name"
   ]
  },
  {
   "cell_type": "code",
   "execution_count": null,
   "id": "240efb58",
   "metadata": {},
   "outputs": [],
   "source": []
  },
  {
   "cell_type": "markdown",
   "id": "8f09d56f",
   "metadata": {},
   "source": [
    "## "
   ]
  },
  {
   "cell_type": "code",
   "execution_count": 272,
   "id": "a209f6d1",
   "metadata": {},
   "outputs": [
    {
     "data": {
      "text/plain": [
       "12"
      ]
     },
     "execution_count": 272,
     "metadata": {},
     "output_type": "execute_result"
    }
   ],
   "source": [
    "df0 = df[0]\n",
    "int(df0[df0.Setting=='Max Teams:']['Value'].iloc[0])"
   ]
  },
  {
   "cell_type": "code",
   "execution_count": 273,
   "id": "418f4d64",
   "metadata": {},
   "outputs": [],
   "source": [
    "df1 = df[1]"
   ]
  },
  {
   "cell_type": "code",
   "execution_count": 320,
   "id": "e3ef5ea0",
   "metadata": {},
   "outputs": [
    {
     "data": {
      "text/html": [
       "<div>\n",
       "<style scoped>\n",
       "    .dataframe tbody tr th:only-of-type {\n",
       "        vertical-align: middle;\n",
       "    }\n",
       "\n",
       "    .dataframe tbody tr th {\n",
       "        vertical-align: top;\n",
       "    }\n",
       "\n",
       "    .dataframe thead tr th {\n",
       "        text-align: left;\n",
       "    }\n",
       "</style>\n",
       "<table border=\"1\" class=\"dataframe\">\n",
       "  <thead>\n",
       "    <tr>\n",
       "      <th></th>\n",
       "      <th>Offense</th>\n",
       "      <th>League Value</th>\n",
       "      <th>Yahoo Default Value</th>\n",
       "    </tr>\n",
       "    <tr>\n",
       "      <th></th>\n",
       "      <th>Kickers</th>\n",
       "      <th>League Value</th>\n",
       "      <th>Yahoo Default Value</th>\n",
       "    </tr>\n",
       "    <tr>\n",
       "      <th></th>\n",
       "      <th>Defense/Special Teams</th>\n",
       "      <th>League Value</th>\n",
       "      <th>Yahoo Default Value</th>\n",
       "    </tr>\n",
       "    <tr>\n",
       "      <th></th>\n",
       "      <th>Defensive Players</th>\n",
       "      <th>League Value</th>\n",
       "      <th>Yahoo Default Value</th>\n",
       "    </tr>\n",
       "  </thead>\n",
       "  <tbody>\n",
       "    <tr>\n",
       "      <th>0</th>\n",
       "      <td>Passing Yards</td>\n",
       "      <td>25 yards per point; 7 points at 250 yards</td>\n",
       "      <td>NaN</td>\n",
       "    </tr>\n",
       "    <tr>\n",
       "      <th>1</th>\n",
       "      <td>Passing TouchdownsYahoo Default</td>\n",
       "      <td>7</td>\n",
       "      <td>4.0</td>\n",
       "    </tr>\n",
       "    <tr>\n",
       "      <th>2</th>\n",
       "      <td>InterceptionsYahoo Default</td>\n",
       "      <td>-2</td>\n",
       "      <td>-1.0</td>\n",
       "    </tr>\n",
       "    <tr>\n",
       "      <th>3</th>\n",
       "      <td>SacksYahoo Default</td>\n",
       "      <td>-1</td>\n",
       "      <td>0.0</td>\n",
       "    </tr>\n",
       "    <tr>\n",
       "      <th>4</th>\n",
       "      <td>Rushing Yards</td>\n",
       "      <td>10 yards per point; 7 points at 100 yards</td>\n",
       "      <td>NaN</td>\n",
       "    </tr>\n",
       "    <tr>\n",
       "      <th>...</th>\n",
       "      <td>...</td>\n",
       "      <td>...</td>\n",
       "      <td>...</td>\n",
       "    </tr>\n",
       "    <tr>\n",
       "      <th>65</th>\n",
       "      <td>SafetyYahoo Default</td>\n",
       "      <td>10</td>\n",
       "      <td>2.0</td>\n",
       "    </tr>\n",
       "    <tr>\n",
       "      <th>66</th>\n",
       "      <td>Pass DefendedYahoo Default</td>\n",
       "      <td>3</td>\n",
       "      <td>1.0</td>\n",
       "    </tr>\n",
       "    <tr>\n",
       "      <th>67</th>\n",
       "      <td>Block KickYahoo Default</td>\n",
       "      <td>5</td>\n",
       "      <td>2.0</td>\n",
       "    </tr>\n",
       "    <tr>\n",
       "      <th>68</th>\n",
       "      <td>Tackles for LossYahoo Default</td>\n",
       "      <td>3</td>\n",
       "      <td>0.0</td>\n",
       "    </tr>\n",
       "    <tr>\n",
       "      <th>69</th>\n",
       "      <td>Turnover Return Yards</td>\n",
       "      <td>5 yards per point</td>\n",
       "      <td>0.0</td>\n",
       "    </tr>\n",
       "  </tbody>\n",
       "</table>\n",
       "<p>70 rows × 3 columns</p>\n",
       "</div>"
      ],
      "text/plain": [
       "                            Offense  \\\n",
       "                            Kickers   \n",
       "              Defense/Special Teams   \n",
       "                  Defensive Players   \n",
       "0                     Passing Yards   \n",
       "1   Passing TouchdownsYahoo Default   \n",
       "2        InterceptionsYahoo Default   \n",
       "3                SacksYahoo Default   \n",
       "4                     Rushing Yards   \n",
       "..                              ...   \n",
       "65              SafetyYahoo Default   \n",
       "66       Pass DefendedYahoo Default   \n",
       "67          Block KickYahoo Default   \n",
       "68    Tackles for LossYahoo Default   \n",
       "69            Turnover Return Yards   \n",
       "\n",
       "                                 League Value Yahoo Default Value  \n",
       "                                 League Value Yahoo Default Value  \n",
       "                                 League Value Yahoo Default Value  \n",
       "                                 League Value Yahoo Default Value  \n",
       "0   25 yards per point; 7 points at 250 yards                 NaN  \n",
       "1                                           7                 4.0  \n",
       "2                                          -2                -1.0  \n",
       "3                                          -1                 0.0  \n",
       "4   10 yards per point; 7 points at 100 yards                 NaN  \n",
       "..                                        ...                 ...  \n",
       "65                                         10                 2.0  \n",
       "66                                          3                 1.0  \n",
       "67                                          5                 2.0  \n",
       "68                                          3                 0.0  \n",
       "69                          5 yards per point                 0.0  \n",
       "\n",
       "[70 rows x 3 columns]"
      ]
     },
     "execution_count": 320,
     "metadata": {},
     "output_type": "execute_result"
    }
   ],
   "source": [
    "df1."
   ]
  },
  {
   "cell_type": "code",
   "execution_count": 319,
   "id": "9634a4e9",
   "metadata": {},
   "outputs": [
    {
     "data": {
      "text/html": [
       "<div>\n",
       "<style scoped>\n",
       "    .dataframe tbody tr th:only-of-type {\n",
       "        vertical-align: middle;\n",
       "    }\n",
       "\n",
       "    .dataframe tbody tr th {\n",
       "        vertical-align: top;\n",
       "    }\n",
       "\n",
       "    .dataframe thead th {\n",
       "        text-align: right;\n",
       "    }\n",
       "</style>\n",
       "<table border=\"1\" class=\"dataframe\">\n",
       "  <thead>\n",
       "    <tr style=\"text-align: right;\">\n",
       "      <th></th>\n",
       "      <th>Defensive Players</th>\n",
       "    </tr>\n",
       "  </thead>\n",
       "  <tbody>\n",
       "    <tr>\n",
       "      <th>0</th>\n",
       "      <td>Passing Yards</td>\n",
       "    </tr>\n",
       "    <tr>\n",
       "      <th>1</th>\n",
       "      <td>Passing TouchdownsYahoo Default</td>\n",
       "    </tr>\n",
       "    <tr>\n",
       "      <th>2</th>\n",
       "      <td>InterceptionsYahoo Default</td>\n",
       "    </tr>\n",
       "    <tr>\n",
       "      <th>3</th>\n",
       "      <td>SacksYahoo Default</td>\n",
       "    </tr>\n",
       "    <tr>\n",
       "      <th>4</th>\n",
       "      <td>Rushing Yards</td>\n",
       "    </tr>\n",
       "    <tr>\n",
       "      <th>...</th>\n",
       "      <td>...</td>\n",
       "    </tr>\n",
       "    <tr>\n",
       "      <th>65</th>\n",
       "      <td>SafetyYahoo Default</td>\n",
       "    </tr>\n",
       "    <tr>\n",
       "      <th>66</th>\n",
       "      <td>Pass DefendedYahoo Default</td>\n",
       "    </tr>\n",
       "    <tr>\n",
       "      <th>67</th>\n",
       "      <td>Block KickYahoo Default</td>\n",
       "    </tr>\n",
       "    <tr>\n",
       "      <th>68</th>\n",
       "      <td>Tackles for LossYahoo Default</td>\n",
       "    </tr>\n",
       "    <tr>\n",
       "      <th>69</th>\n",
       "      <td>Turnover Return Yards</td>\n",
       "    </tr>\n",
       "  </tbody>\n",
       "</table>\n",
       "<p>70 rows × 1 columns</p>\n",
       "</div>"
      ],
      "text/plain": [
       "                  Defensive Players\n",
       "0                     Passing Yards\n",
       "1   Passing TouchdownsYahoo Default\n",
       "2        InterceptionsYahoo Default\n",
       "3                SacksYahoo Default\n",
       "4                     Rushing Yards\n",
       "..                              ...\n",
       "65              SafetyYahoo Default\n",
       "66       Pass DefendedYahoo Default\n",
       "67          Block KickYahoo Default\n",
       "68    Tackles for LossYahoo Default\n",
       "69            Turnover Return Yards\n",
       "\n",
       "[70 rows x 1 columns]"
      ]
     },
     "execution_count": 319,
     "metadata": {},
     "output_type": "execute_result"
    }
   ],
   "source": [
    "df1['Offense']['Kickers']['Defense/Special Teams']"
   ]
  },
  {
   "cell_type": "code",
   "execution_count": 279,
   "id": "947e380c",
   "metadata": {},
   "outputs": [
    {
     "data": {
      "text/plain": [
       "'1'"
      ]
     },
     "execution_count": 279,
     "metadata": {},
     "output_type": "execute_result"
    }
   ],
   "source": [
    "df1[df1.iloc[:,0].str.contains('Receptions')].iloc[0,1]"
   ]
  },
  {
   "cell_type": "code",
   "execution_count": 276,
   "id": "cb3c988a",
   "metadata": {},
   "outputs": [
    {
     "ename": "IndexError",
     "evalue": "single positional indexer is out-of-bounds",
     "output_type": "error",
     "traceback": [
      "\u001b[0;31m---------------------------------------------------------------------------\u001b[0m",
      "\u001b[0;31mIndexError\u001b[0m                                Traceback (most recent call last)",
      "Cell \u001b[0;32mIn[276], line 1\u001b[0m\n\u001b[0;32m----> 1\u001b[0m \u001b[43mdf1\u001b[49m\u001b[43m[\u001b[49m\u001b[43mdf1\u001b[49m\u001b[38;5;241;43m.\u001b[39;49m\u001b[43miloc\u001b[49m\u001b[43m[\u001b[49m\u001b[43m:\u001b[49m\u001b[43m,\u001b[49m\u001b[38;5;241;43m0\u001b[39;49m\u001b[43m]\u001b[49m\u001b[38;5;241;43m==\u001b[39;49m\u001b[38;5;124;43m'\u001b[39;49m\u001b[38;5;124;43mReceptions\u001b[39;49m\u001b[38;5;124;43m'\u001b[39;49m\u001b[43m]\u001b[49m\u001b[38;5;241;43m.\u001b[39;49m\u001b[43miloc\u001b[49m\u001b[43m[\u001b[49m\u001b[38;5;241;43m0\u001b[39;49m\u001b[43m,\u001b[49m\u001b[38;5;241;43m1\u001b[39;49m\u001b[43m]\u001b[49m\n",
      "File \u001b[0;32m/opt/anaconda3/lib/python3.9/site-packages/pandas/core/indexing.py:925\u001b[0m, in \u001b[0;36m_LocationIndexer.__getitem__\u001b[0;34m(self, key)\u001b[0m\n\u001b[1;32m    923\u001b[0m         \u001b[38;5;28;01mwith\u001b[39;00m suppress(\u001b[38;5;167;01mKeyError\u001b[39;00m, \u001b[38;5;167;01mIndexError\u001b[39;00m):\n\u001b[1;32m    924\u001b[0m             \u001b[38;5;28;01mreturn\u001b[39;00m \u001b[38;5;28mself\u001b[39m\u001b[38;5;241m.\u001b[39mobj\u001b[38;5;241m.\u001b[39m_get_value(\u001b[38;5;241m*\u001b[39mkey, takeable\u001b[38;5;241m=\u001b[39m\u001b[38;5;28mself\u001b[39m\u001b[38;5;241m.\u001b[39m_takeable)\n\u001b[0;32m--> 925\u001b[0m     \u001b[38;5;28;01mreturn\u001b[39;00m \u001b[38;5;28;43mself\u001b[39;49m\u001b[38;5;241;43m.\u001b[39;49m\u001b[43m_getitem_tuple\u001b[49m\u001b[43m(\u001b[49m\u001b[43mkey\u001b[49m\u001b[43m)\u001b[49m\n\u001b[1;32m    926\u001b[0m \u001b[38;5;28;01melse\u001b[39;00m:\n\u001b[1;32m    927\u001b[0m     \u001b[38;5;66;03m# we by definition only have the 0th axis\u001b[39;00m\n\u001b[1;32m    928\u001b[0m     axis \u001b[38;5;241m=\u001b[39m \u001b[38;5;28mself\u001b[39m\u001b[38;5;241m.\u001b[39maxis \u001b[38;5;129;01mor\u001b[39;00m \u001b[38;5;241m0\u001b[39m\n",
      "File \u001b[0;32m/opt/anaconda3/lib/python3.9/site-packages/pandas/core/indexing.py:1506\u001b[0m, in \u001b[0;36m_iLocIndexer._getitem_tuple\u001b[0;34m(self, tup)\u001b[0m\n\u001b[1;32m   1504\u001b[0m \u001b[38;5;28;01mdef\u001b[39;00m \u001b[38;5;21m_getitem_tuple\u001b[39m(\u001b[38;5;28mself\u001b[39m, tup: \u001b[38;5;28mtuple\u001b[39m):\n\u001b[0;32m-> 1506\u001b[0m     \u001b[38;5;28;43mself\u001b[39;49m\u001b[38;5;241;43m.\u001b[39;49m\u001b[43m_has_valid_tuple\u001b[49m\u001b[43m(\u001b[49m\u001b[43mtup\u001b[49m\u001b[43m)\u001b[49m\n\u001b[1;32m   1507\u001b[0m     \u001b[38;5;28;01mwith\u001b[39;00m suppress(IndexingError):\n\u001b[1;32m   1508\u001b[0m         \u001b[38;5;28;01mreturn\u001b[39;00m \u001b[38;5;28mself\u001b[39m\u001b[38;5;241m.\u001b[39m_getitem_lowerdim(tup)\n",
      "File \u001b[0;32m/opt/anaconda3/lib/python3.9/site-packages/pandas/core/indexing.py:754\u001b[0m, in \u001b[0;36m_LocationIndexer._has_valid_tuple\u001b[0;34m(self, key)\u001b[0m\n\u001b[1;32m    752\u001b[0m \u001b[38;5;28;01mfor\u001b[39;00m i, k \u001b[38;5;129;01min\u001b[39;00m \u001b[38;5;28menumerate\u001b[39m(key):\n\u001b[1;32m    753\u001b[0m     \u001b[38;5;28;01mtry\u001b[39;00m:\n\u001b[0;32m--> 754\u001b[0m         \u001b[38;5;28;43mself\u001b[39;49m\u001b[38;5;241;43m.\u001b[39;49m\u001b[43m_validate_key\u001b[49m\u001b[43m(\u001b[49m\u001b[43mk\u001b[49m\u001b[43m,\u001b[49m\u001b[43m \u001b[49m\u001b[43mi\u001b[49m\u001b[43m)\u001b[49m\n\u001b[1;32m    755\u001b[0m     \u001b[38;5;28;01mexcept\u001b[39;00m \u001b[38;5;167;01mValueError\u001b[39;00m \u001b[38;5;28;01mas\u001b[39;00m err:\n\u001b[1;32m    756\u001b[0m         \u001b[38;5;28;01mraise\u001b[39;00m \u001b[38;5;167;01mValueError\u001b[39;00m(\n\u001b[1;32m    757\u001b[0m             \u001b[38;5;124m\"\u001b[39m\u001b[38;5;124mLocation based indexing can only have \u001b[39m\u001b[38;5;124m\"\u001b[39m\n\u001b[1;32m    758\u001b[0m             \u001b[38;5;124mf\u001b[39m\u001b[38;5;124m\"\u001b[39m\u001b[38;5;124m[\u001b[39m\u001b[38;5;132;01m{\u001b[39;00m\u001b[38;5;28mself\u001b[39m\u001b[38;5;241m.\u001b[39m_valid_types\u001b[38;5;132;01m}\u001b[39;00m\u001b[38;5;124m] types\u001b[39m\u001b[38;5;124m\"\u001b[39m\n\u001b[1;32m    759\u001b[0m         ) \u001b[38;5;28;01mfrom\u001b[39;00m \u001b[38;5;21;01merr\u001b[39;00m\n",
      "File \u001b[0;32m/opt/anaconda3/lib/python3.9/site-packages/pandas/core/indexing.py:1409\u001b[0m, in \u001b[0;36m_iLocIndexer._validate_key\u001b[0;34m(self, key, axis)\u001b[0m\n\u001b[1;32m   1407\u001b[0m     \u001b[38;5;28;01mreturn\u001b[39;00m\n\u001b[1;32m   1408\u001b[0m \u001b[38;5;28;01melif\u001b[39;00m is_integer(key):\n\u001b[0;32m-> 1409\u001b[0m     \u001b[38;5;28;43mself\u001b[39;49m\u001b[38;5;241;43m.\u001b[39;49m\u001b[43m_validate_integer\u001b[49m\u001b[43m(\u001b[49m\u001b[43mkey\u001b[49m\u001b[43m,\u001b[49m\u001b[43m \u001b[49m\u001b[43maxis\u001b[49m\u001b[43m)\u001b[49m\n\u001b[1;32m   1410\u001b[0m \u001b[38;5;28;01melif\u001b[39;00m \u001b[38;5;28misinstance\u001b[39m(key, \u001b[38;5;28mtuple\u001b[39m):\n\u001b[1;32m   1411\u001b[0m     \u001b[38;5;66;03m# a tuple should already have been caught by this point\u001b[39;00m\n\u001b[1;32m   1412\u001b[0m     \u001b[38;5;66;03m# so don't treat a tuple as a valid indexer\u001b[39;00m\n\u001b[1;32m   1413\u001b[0m     \u001b[38;5;28;01mraise\u001b[39;00m IndexingError(\u001b[38;5;124m\"\u001b[39m\u001b[38;5;124mToo many indexers\u001b[39m\u001b[38;5;124m\"\u001b[39m)\n",
      "File \u001b[0;32m/opt/anaconda3/lib/python3.9/site-packages/pandas/core/indexing.py:1500\u001b[0m, in \u001b[0;36m_iLocIndexer._validate_integer\u001b[0;34m(self, key, axis)\u001b[0m\n\u001b[1;32m   1498\u001b[0m len_axis \u001b[38;5;241m=\u001b[39m \u001b[38;5;28mlen\u001b[39m(\u001b[38;5;28mself\u001b[39m\u001b[38;5;241m.\u001b[39mobj\u001b[38;5;241m.\u001b[39m_get_axis(axis))\n\u001b[1;32m   1499\u001b[0m \u001b[38;5;28;01mif\u001b[39;00m key \u001b[38;5;241m>\u001b[39m\u001b[38;5;241m=\u001b[39m len_axis \u001b[38;5;129;01mor\u001b[39;00m key \u001b[38;5;241m<\u001b[39m \u001b[38;5;241m-\u001b[39mlen_axis:\n\u001b[0;32m-> 1500\u001b[0m     \u001b[38;5;28;01mraise\u001b[39;00m \u001b[38;5;167;01mIndexError\u001b[39;00m(\u001b[38;5;124m\"\u001b[39m\u001b[38;5;124msingle positional indexer is out-of-bounds\u001b[39m\u001b[38;5;124m\"\u001b[39m)\n",
      "\u001b[0;31mIndexError\u001b[0m: single positional indexer is out-of-bounds"
     ]
    }
   ],
   "source": [
    "df1[df1.iloc[:,0]=='Receptions'].iloc[0,1]"
   ]
  },
  {
   "cell_type": "code",
   "execution_count": 87,
   "id": "77b3d0eb",
   "metadata": {},
   "outputs": [],
   "source": [
    "html = get_html(url)"
   ]
  },
  {
   "cell_type": "code",
   "execution_count": 103,
   "id": "c1b2f866",
   "metadata": {},
   "outputs": [],
   "source": [
    "leagues0 = []"
   ]
  },
  {
   "cell_type": "code",
   "execution_count": 140,
   "id": "d812d2f5",
   "metadata": {},
   "outputs": [
    {
     "data": {
      "text/plain": [
       "10"
      ]
     },
     "execution_count": 140,
     "metadata": {},
     "output_type": "execute_result"
    }
   ],
   "source": [
    "int(df[0].loc[5,\"Value\"])"
   ]
  },
  {
   "cell_type": "code",
   "execution_count": 149,
   "id": "808b6a0f",
   "metadata": {},
   "outputs": [
    {
     "data": {
      "text/plain": [
       "'0.5'"
      ]
     },
     "execution_count": 149,
     "metadata": {},
     "output_type": "execute_result"
    }
   ],
   "source": [
    "df[1].loc[5,'League Value']"
   ]
  },
  {
   "cell_type": "code",
   "execution_count": 263,
   "id": "4657d665",
   "metadata": {},
   "outputs": [
    {
     "data": {
      "text/plain": [
       "'0.5'"
      ]
     },
     "execution_count": 263,
     "metadata": {},
     "output_type": "execute_result"
    }
   ],
   "source": [
    "df1[df1.iloc[:,0]=='Receptions'].iloc[0,1]"
   ]
  },
  {
   "cell_type": "code",
   "execution_count": null,
   "id": "aa5009dd",
   "metadata": {},
   "outputs": [],
   "source": [
    "print(df[1]['League Value'].loc[5])"
   ]
  },
  {
   "cell_type": "code",
   "execution_count": 167,
   "id": "8768624a",
   "metadata": {},
   "outputs": [],
   "source": []
  },
  {
   "cell_type": "code",
   "execution_count": 369,
   "id": "a4f1c5f5",
   "metadata": {},
   "outputs": [],
   "source": [
    "import pandas as pd\n",
    "import time\n",
    "\n",
    "def get_yahoo_leagues(beg,num):    \n",
    "    '''\n",
    "    Scrape yahoo leagues to determine league id, points format, and teams in league\n",
    "    Returns a df\n",
    "    '''\n",
    "    league_id = []\n",
    "    league_player_count = []\n",
    "    league_scoring_format = []\n",
    "    league_positions = []\n",
    "    \n",
    "    for i in range (beg,num+1):\n",
    "        try:\n",
    "            df = pd.read_html(f'https://football.fantasysports.yahoo.com/f1/{i}/settings') \n",
    "            df0 = df[0]\n",
    "            df1 = df[1]\n",
    "            league_id.append(i)\n",
    "            league_scoring_format.append(df1[df1.iloc[:,0].str.contains('Receptions')].iloc[0,1])\n",
    "            league_player_count.append(int(df0[df0.Setting=='Max Teams:']['Value'].iloc[0]))\n",
    "            league_positions.append(df[1].iloc[:,0].name)\n",
    "          \n",
    "        except:\n",
    "            pass\n",
    "\n",
    "        time.sleep(5)\n",
    "\n",
    "    return pd.DataFrame({'id':league_id,\n",
    "                         'player_count':league_player_count,'format':league_scoring_format,\n",
    "                         'positions':league_positions})"
   ]
  },
  {
   "cell_type": "code",
   "execution_count": 374,
   "id": "f6befc4a",
   "metadata": {},
   "outputs": [],
   "source": [
    "leagues = []"
   ]
  },
  {
   "cell_type": "code",
   "execution_count": 414,
   "id": "c807c46a",
   "metadata": {},
   "outputs": [],
   "source": [
    "df = get_yahoo_leagues(1290,1300)\n"
   ]
  },
  {
   "cell_type": "code",
   "execution_count": 415,
   "id": "229ca9da",
   "metadata": {},
   "outputs": [
    {
     "data": {
      "text/html": [
       "<div>\n",
       "<style scoped>\n",
       "    .dataframe tbody tr th:only-of-type {\n",
       "        vertical-align: middle;\n",
       "    }\n",
       "\n",
       "    .dataframe tbody tr th {\n",
       "        vertical-align: top;\n",
       "    }\n",
       "\n",
       "    .dataframe thead th {\n",
       "        text-align: right;\n",
       "    }\n",
       "</style>\n",
       "<table border=\"1\" class=\"dataframe\">\n",
       "  <thead>\n",
       "    <tr style=\"text-align: right;\">\n",
       "      <th></th>\n",
       "      <th>id</th>\n",
       "      <th>player_count</th>\n",
       "      <th>format</th>\n",
       "      <th>positions</th>\n",
       "    </tr>\n",
       "  </thead>\n",
       "  <tbody>\n",
       "  </tbody>\n",
       "</table>\n",
       "</div>"
      ],
      "text/plain": [
       "Empty DataFrame\n",
       "Columns: [id, player_count, format, positions]\n",
       "Index: []"
      ]
     },
     "execution_count": 415,
     "metadata": {},
     "output_type": "execute_result"
    }
   ],
   "source": [
    "df"
   ]
  },
  {
   "cell_type": "code",
   "execution_count": 411,
   "id": "1d60d37b",
   "metadata": {},
   "outputs": [],
   "source": [
    "leagues.append(df)"
   ]
  },
  {
   "cell_type": "code",
   "execution_count": 406,
   "id": "a1396046",
   "metadata": {},
   "outputs": [
    {
     "data": {
      "text/plain": [
       "8"
      ]
     },
     "execution_count": 406,
     "metadata": {},
     "output_type": "execute_result"
    }
   ],
   "source": [
    "len(leagues)"
   ]
  },
  {
   "cell_type": "code",
   "execution_count": 407,
   "id": "9c5ba662",
   "metadata": {},
   "outputs": [
    {
     "data": {
      "text/plain": [
       "8"
      ]
     },
     "execution_count": 407,
     "metadata": {},
     "output_type": "execute_result"
    }
   ],
   "source": [
    "len(leagues)"
   ]
  },
  {
   "cell_type": "code",
   "execution_count": 408,
   "id": "ad79098f",
   "metadata": {},
   "outputs": [
    {
     "data": {
      "text/html": [
       "<div>\n",
       "<style scoped>\n",
       "    .dataframe tbody tr th:only-of-type {\n",
       "        vertical-align: middle;\n",
       "    }\n",
       "\n",
       "    .dataframe tbody tr th {\n",
       "        vertical-align: top;\n",
       "    }\n",
       "\n",
       "    .dataframe thead th {\n",
       "        text-align: right;\n",
       "    }\n",
       "</style>\n",
       "<table border=\"1\" class=\"dataframe\">\n",
       "  <thead>\n",
       "    <tr style=\"text-align: right;\">\n",
       "      <th></th>\n",
       "      <th>id</th>\n",
       "      <th>player_count</th>\n",
       "      <th>format</th>\n",
       "      <th>positions</th>\n",
       "    </tr>\n",
       "  </thead>\n",
       "  <tbody>\n",
       "    <tr>\n",
       "      <th>0</th>\n",
       "      <td>5.0</td>\n",
       "      <td>10.0</td>\n",
       "      <td>0.5</td>\n",
       "      <td>Offense</td>\n",
       "    </tr>\n",
       "    <tr>\n",
       "      <th>0</th>\n",
       "      <td>1200.0</td>\n",
       "      <td>10.0</td>\n",
       "      <td>0.5</td>\n",
       "      <td>(Offense, Kickers, Defense/Special Teams)</td>\n",
       "    </tr>\n",
       "    <tr>\n",
       "      <th>1</th>\n",
       "      <td>1203.0</td>\n",
       "      <td>10.0</td>\n",
       "      <td>0.5</td>\n",
       "      <td>(Offense, Kickers, Defense/Special Teams)</td>\n",
       "    </tr>\n",
       "    <tr>\n",
       "      <th>2</th>\n",
       "      <td>1204.0</td>\n",
       "      <td>12.0</td>\n",
       "      <td>.5</td>\n",
       "      <td>(Offense, Kickers, Defense/Special Teams)</td>\n",
       "    </tr>\n",
       "    <tr>\n",
       "      <th>3</th>\n",
       "      <td>1205.0</td>\n",
       "      <td>10.0</td>\n",
       "      <td>0.5</td>\n",
       "      <td>(Offense, Kickers, Defense/Special Teams)</td>\n",
       "    </tr>\n",
       "    <tr>\n",
       "      <th>4</th>\n",
       "      <td>1207.0</td>\n",
       "      <td>12.0</td>\n",
       "      <td>.5</td>\n",
       "      <td>(Offense, Kickers, Defense/Special Teams)</td>\n",
       "    </tr>\n",
       "    <tr>\n",
       "      <th>5</th>\n",
       "      <td>1208.0</td>\n",
       "      <td>10.0</td>\n",
       "      <td>0.5</td>\n",
       "      <td>(Offense, Kickers, Defense/Special Teams)</td>\n",
       "    </tr>\n",
       "    <tr>\n",
       "      <th>6</th>\n",
       "      <td>1209.0</td>\n",
       "      <td>10.0</td>\n",
       "      <td>0.5</td>\n",
       "      <td>(Offense, Kickers, Defense/Special Teams)</td>\n",
       "    </tr>\n",
       "    <tr>\n",
       "      <th>7</th>\n",
       "      <td>1211.0</td>\n",
       "      <td>10.0</td>\n",
       "      <td>0.5</td>\n",
       "      <td>(Offense, Kickers, Defense/Special Teams)</td>\n",
       "    </tr>\n",
       "    <tr>\n",
       "      <th>8</th>\n",
       "      <td>1212.0</td>\n",
       "      <td>10.0</td>\n",
       "      <td>0.5</td>\n",
       "      <td>(Offense, Kickers, Defense/Special Teams)</td>\n",
       "    </tr>\n",
       "    <tr>\n",
       "      <th>9</th>\n",
       "      <td>1213.0</td>\n",
       "      <td>10.0</td>\n",
       "      <td>0.5</td>\n",
       "      <td>(Offense, Kickers, Defense/Special Teams)</td>\n",
       "    </tr>\n",
       "    <tr>\n",
       "      <th>10</th>\n",
       "      <td>1214.0</td>\n",
       "      <td>10.0</td>\n",
       "      <td>0.5</td>\n",
       "      <td>(Offense, Kickers, Defense/Special Teams)</td>\n",
       "    </tr>\n",
       "    <tr>\n",
       "      <th>11</th>\n",
       "      <td>1216.0</td>\n",
       "      <td>10.0</td>\n",
       "      <td>0.5</td>\n",
       "      <td>(Offense, Kickers, Defense/Special Teams)</td>\n",
       "    </tr>\n",
       "    <tr>\n",
       "      <th>12</th>\n",
       "      <td>1217.0</td>\n",
       "      <td>10.0</td>\n",
       "      <td>0.5</td>\n",
       "      <td>(Offense, Kickers, Defense/Special Teams)</td>\n",
       "    </tr>\n",
       "    <tr>\n",
       "      <th>13</th>\n",
       "      <td>1219.0</td>\n",
       "      <td>10.0</td>\n",
       "      <td>0.5</td>\n",
       "      <td>(Offense, Kickers, Defense/Special Teams)</td>\n",
       "    </tr>\n",
       "    <tr>\n",
       "      <th>0</th>\n",
       "      <td>1224.0</td>\n",
       "      <td>10.0</td>\n",
       "      <td>0.5</td>\n",
       "      <td>(Offense, Kickers, Defense/Special Teams)</td>\n",
       "    </tr>\n",
       "    <tr>\n",
       "      <th>1</th>\n",
       "      <td>1227.0</td>\n",
       "      <td>16.0</td>\n",
       "      <td>1</td>\n",
       "      <td>(Offense, Kickers, Defensive Players)</td>\n",
       "    </tr>\n",
       "    <tr>\n",
       "      <th>2</th>\n",
       "      <td>1229.0</td>\n",
       "      <td>10.0</td>\n",
       "      <td>0.5</td>\n",
       "      <td>(Offense, Kickers, Defense/Special Teams)</td>\n",
       "    </tr>\n",
       "    <tr>\n",
       "      <th>3</th>\n",
       "      <td>1231.0</td>\n",
       "      <td>10.0</td>\n",
       "      <td>0.5</td>\n",
       "      <td>(Offense, Kickers, Defense/Special Teams)</td>\n",
       "    </tr>\n",
       "    <tr>\n",
       "      <th>0</th>\n",
       "      <td>1233.0</td>\n",
       "      <td>10.0</td>\n",
       "      <td>0.5</td>\n",
       "      <td>(Offense, Kickers, Defense/Special Teams)</td>\n",
       "    </tr>\n",
       "    <tr>\n",
       "      <th>1</th>\n",
       "      <td>1234.0</td>\n",
       "      <td>16.0</td>\n",
       "      <td>1</td>\n",
       "      <td>(Offense, Kickers, Defensive Players)</td>\n",
       "    </tr>\n",
       "    <tr>\n",
       "      <th>2</th>\n",
       "      <td>1235.0</td>\n",
       "      <td>10.0</td>\n",
       "      <td>0.5</td>\n",
       "      <td>(Offense, Kickers, Defense/Special Teams)</td>\n",
       "    </tr>\n",
       "    <tr>\n",
       "      <th>3</th>\n",
       "      <td>1237.0</td>\n",
       "      <td>10.0</td>\n",
       "      <td>0.5</td>\n",
       "      <td>(Offense, Kickers, Defense/Special Teams)</td>\n",
       "    </tr>\n",
       "    <tr>\n",
       "      <th>4</th>\n",
       "      <td>1238.0</td>\n",
       "      <td>10.0</td>\n",
       "      <td>0.5</td>\n",
       "      <td>(Offense, Kickers, Defense/Special Teams)</td>\n",
       "    </tr>\n",
       "    <tr>\n",
       "      <th>5</th>\n",
       "      <td>1239.0</td>\n",
       "      <td>10.0</td>\n",
       "      <td>0.5</td>\n",
       "      <td>(Offense, Kickers, Defense/Special Teams)</td>\n",
       "    </tr>\n",
       "  </tbody>\n",
       "</table>\n",
       "</div>"
      ],
      "text/plain": [
       "        id  player_count format                                  positions\n",
       "0      5.0          10.0    0.5                                    Offense\n",
       "0   1200.0          10.0    0.5  (Offense, Kickers, Defense/Special Teams)\n",
       "1   1203.0          10.0    0.5  (Offense, Kickers, Defense/Special Teams)\n",
       "2   1204.0          12.0     .5  (Offense, Kickers, Defense/Special Teams)\n",
       "3   1205.0          10.0    0.5  (Offense, Kickers, Defense/Special Teams)\n",
       "4   1207.0          12.0     .5  (Offense, Kickers, Defense/Special Teams)\n",
       "5   1208.0          10.0    0.5  (Offense, Kickers, Defense/Special Teams)\n",
       "6   1209.0          10.0    0.5  (Offense, Kickers, Defense/Special Teams)\n",
       "7   1211.0          10.0    0.5  (Offense, Kickers, Defense/Special Teams)\n",
       "8   1212.0          10.0    0.5  (Offense, Kickers, Defense/Special Teams)\n",
       "9   1213.0          10.0    0.5  (Offense, Kickers, Defense/Special Teams)\n",
       "10  1214.0          10.0    0.5  (Offense, Kickers, Defense/Special Teams)\n",
       "11  1216.0          10.0    0.5  (Offense, Kickers, Defense/Special Teams)\n",
       "12  1217.0          10.0    0.5  (Offense, Kickers, Defense/Special Teams)\n",
       "13  1219.0          10.0    0.5  (Offense, Kickers, Defense/Special Teams)\n",
       "0   1224.0          10.0    0.5  (Offense, Kickers, Defense/Special Teams)\n",
       "1   1227.0          16.0      1      (Offense, Kickers, Defensive Players)\n",
       "2   1229.0          10.0    0.5  (Offense, Kickers, Defense/Special Teams)\n",
       "3   1231.0          10.0    0.5  (Offense, Kickers, Defense/Special Teams)\n",
       "0   1233.0          10.0    0.5  (Offense, Kickers, Defense/Special Teams)\n",
       "1   1234.0          16.0      1      (Offense, Kickers, Defensive Players)\n",
       "2   1235.0          10.0    0.5  (Offense, Kickers, Defense/Special Teams)\n",
       "3   1237.0          10.0    0.5  (Offense, Kickers, Defense/Special Teams)\n",
       "4   1238.0          10.0    0.5  (Offense, Kickers, Defense/Special Teams)\n",
       "5   1239.0          10.0    0.5  (Offense, Kickers, Defense/Special Teams)"
      ]
     },
     "execution_count": 408,
     "metadata": {},
     "output_type": "execute_result"
    }
   ],
   "source": [
    "pd.concat(leagues)"
   ]
  },
  {
   "cell_type": "code",
   "execution_count": null,
   "id": "61d50836",
   "metadata": {},
   "outputs": [],
   "source": []
  }
 ],
 "metadata": {
  "kernelspec": {
   "display_name": "Python 3 (ipykernel)",
   "language": "python",
   "name": "python3"
  },
  "language_info": {
   "codemirror_mode": {
    "name": "ipython",
    "version": 3
   },
   "file_extension": ".py",
   "mimetype": "text/x-python",
   "name": "python",
   "nbconvert_exporter": "python",
   "pygments_lexer": "ipython3",
   "version": "3.9.7"
  }
 },
 "nbformat": 4,
 "nbformat_minor": 5
}
