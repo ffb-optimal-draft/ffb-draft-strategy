{
 "cells": [
  {
   "cell_type": "markdown",
   "id": "e361e18a",
   "metadata": {},
   "source": [
    "# Fantasy Football - Optimal Drafting Guide and Predictions"
   ]
  },
  {
   "cell_type": "markdown",
   "id": "09a31fe8",
   "metadata": {},
   "source": [
    "### Goals:  \n",
    "1. Create a PPR drafting strategy guide.\n",
    "    - Round by round analysis\n",
    "    - General drafting principles\n",
    "      \n",
    "2. Create 2023 player ppr projections and tier list"
   ]
  },
  {
   "cell_type": "code",
   "execution_count": 1,
   "id": "ce889adf",
   "metadata": {
    "code_folding": []
   },
   "outputs": [
    {
     "ename": "SyntaxError",
     "evalue": "invalid syntax (modeling_functions.py, line 4)",
     "output_type": "error",
     "traceback": [
      "Traceback \u001b[0;36m(most recent call last)\u001b[0m:\n",
      "\u001b[0m  File \u001b[1;32m/opt/anaconda3/lib/python3.9/site-packages/IPython/core/interactiveshell.py:3442\u001b[0m in \u001b[1;35mrun_code\u001b[0m\n    exec(code_obj, self.user_global_ns, self.user_ns)\u001b[0m\n",
      "\u001b[0;36m  Cell \u001b[0;32mIn[1], line 24\u001b[0;36m\n\u001b[0;31m    import modeling_functions as m\u001b[0;36m\n",
      "\u001b[0;36m  File \u001b[0;32m~/codeup-data-science/ffb-draft-strategy/modeling_functions.py:4\u001b[0;36m\u001b[0m\n\u001b[0;31m    <<<<<<< HEAD\u001b[0m\n\u001b[0m    ^\u001b[0m\n\u001b[0;31mSyntaxError\u001b[0m\u001b[0;31m:\u001b[0m invalid syntax\n"
     ]
    }
   ],
   "source": [
    "# Imports\n",
    "import pandas as pd\n",
    "import numpy as np\n",
    "import time\n",
    "\n",
    "import matplotlib.pyplot as plt\n",
    "import seaborn as sns\n",
    "\n",
    "from sklearn.preprocessing import MinMaxScaler\n",
    "from sklearn.model_selection import GridSearchCV\n",
    "from sklearn.ensemble import GradientBoostingRegressor\n",
    "from sklearn.linear_model import LinearRegression\n",
    "from sklearn.metrics import mean_squared_error\n",
    "from sklearn.ensemble import RandomForestRegressor\n",
    "from sklearn.linear_model import Ridge\n",
    "from sklearn.feature_selection import SequentialFeatureSelector\n",
    "from sklearn.model_selection import TimeSeriesSplit\n",
    "\n",
    "import xgboost \n",
    "\n",
    "from sklearn.preprocessing import StandardScaler, RobustScaler\n",
    "\n",
    "import explore_functions as e\n",
    "import modeling_functions as m\n",
    "from prepare import x_y_split, rmse"
   ]
  },
  {
   "cell_type": "code",
   "execution_count": null,
   "id": "b0e75a92",
   "metadata": {},
   "outputs": [],
   "source": [
    "# Load dataframe\n",
    "df = pd.read_csv('season1.csv',index_col=0)\n",
    "df = df.sort_values('year').reset_index(drop=True)"
   ]
  },
  {
   "cell_type": "markdown",
   "id": "83904707",
   "metadata": {},
   "source": [
    "# Exploration"
   ]
  },
  {
   "cell_type": "code",
   "execution_count": null,
   "id": "96a5fb8a",
   "metadata": {},
   "outputs": [],
   "source": [
    "# Create visualizations\n",
    "e.avg_pts_by_adp(df)"
   ]
  },
  {
   "cell_type": "markdown",
   "id": "0b862a77",
   "metadata": {},
   "source": [
    "### Viz Takeaways"
   ]
  },
  {
   "cell_type": "code",
   "execution_count": null,
   "id": "28dd645f",
   "metadata": {},
   "outputs": [],
   "source": [
    "# Create visualizations\n",
    "e.pnt_avg_by_pos_rank(df)"
   ]
  },
  {
   "cell_type": "markdown",
   "id": "eaf438af",
   "metadata": {},
   "source": [
    "### Viz Takeaways"
   ]
  },
  {
   "cell_type": "code",
   "execution_count": null,
   "id": "dc80a52f",
   "metadata": {
    "scrolled": true
   },
   "outputs": [],
   "source": [
    "# Create visualizations\n",
    "success_rate = pd.read_csv('success_rate.csv')\n",
    "e.success_rate_by_season(success_rate)"
   ]
  },
  {
   "cell_type": "markdown",
   "id": "ba475a66",
   "metadata": {},
   "source": [
    "### Viz Takeaways"
   ]
  },
  {
   "cell_type": "markdown",
   "id": "d1eadac2",
   "metadata": {},
   "source": [
    "# Modeling"
   ]
  },
  {
   "cell_type": "code",
   "execution_count": null,
   "id": "6f1c0814",
   "metadata": {},
   "outputs": [],
   "source": [
    "# Add 'target' column, create df for each position\n",
    "df = df.groupby('player').apply(m.add_target)\n",
    "qb_df, rb_df, wr_df, te_df = m.split_pos(df)"
   ]
  },
  {
   "cell_type": "code",
   "execution_count": null,
   "id": "71c96ce5",
   "metadata": {},
   "outputs": [],
   "source": [
    "# Model and predict\n",
    "qb_cols = ['age','g','gs','pass_yds','pass_tds','rush_att','rush_yard','y/a','rush_tds',\n",
    "           'fmb','fl','rush_rec_tds','pos_rank','avg_draft_pos','avg_draft_pos_ppr','adp_by_pos','round','ppr_pts']\n",
    "\n",
    "preds, val_preds, pos_2022 = m.xgb_modeling(qb_df, qb_cols)"
   ]
  },
  {
   "cell_type": "code",
   "execution_count": null,
   "id": "88281952",
   "metadata": {},
   "outputs": [],
   "source": [
    "# Print out projections\n",
    "pos_2022.sort_values('preds',ascending = False).head(12)"
   ]
  },
  {
   "cell_type": "code",
   "execution_count": null,
   "id": "a41f4b26",
   "metadata": {},
   "outputs": [],
   "source": [
    "# Model and predict\n",
    "rb_cols = ['age','g','gs','rush_att','rush_yard','y/a','rush_tds','tgt','rec','rec_yards','y/r','rec_tds','fmb',\n",
    "           'fl','rush_rec_tds','ppr_pts','pos_rank','avg_draft_pos','avg_draft_pos_ppr','adp_by_pos','round']\n",
    "\n",
    "preds, val_preds, pos_2022 = m.xgb_modeling(rb_df, rb_cols)\n",
    "\n",
    "# Print out predictions\n",
    "pos_2022.sort_values('preds',ascending = False).head(12)"
   ]
  },
  {
   "cell_type": "code",
   "execution_count": null,
   "id": "ac906d01",
   "metadata": {
    "code_folding": []
   },
   "outputs": [],
   "source": [
    "# Model and predict\n",
    "wr_cols = ['age','g','gs','tgt','rec','rec_yards','y/r','rec_tds','fmb','fl','rush_rec_tds','ppr_pts','pos_rank',\n",
    "           'avg_draft_pos','avg_draft_pos_ppr','adp_by_pos','round']\n",
    "\n",
    "preds, val_preds, pos_2022 = m.xgb_modeling(wr_df, wr_cols)\n",
    "\n",
    "# Print out predictions\n",
    "pos_2022.sort_values('preds',ascending = False).head(12)"
   ]
  },
  {
   "cell_type": "code",
   "execution_count": null,
   "id": "b6ad9105",
   "metadata": {},
   "outputs": [],
   "source": [
    "# Model and predict\n",
    "te_cols = ['age','g','gs','tgt','rec','rec_yards','y/r','rec_tds','fmb','fl','rush_rec_tds','ppr_pts','pos_rank',\n",
    "           'avg_draft_pos','avg_draft_pos_ppr','adp_by_pos','round']\n",
    "\n",
    "preds, val_preds, pos_2022 = m.xgb_modeling(te_df, te_cols)\n",
    "\n",
    "# Print out predictions\n",
    "pos_2022.sort_values('preds',ascending = False).head(12)"
   ]
  },
  {
   "cell_type": "markdown",
   "id": "c4f770ef",
   "metadata": {},
   "source": [
    "# Recommendations"
   ]
  },
  {
   "cell_type": "markdown",
   "id": "351d7ad1",
   "metadata": {},
   "source": [
    "# Next Steps"
   ]
  },
  {
   "cell_type": "code",
   "execution_count": null,
   "id": "68910bbf",
   "metadata": {},
   "outputs": [],
   "source": []
  }
 ],
 "metadata": {
  "kernelspec": {
   "display_name": "Python 3 (ipykernel)",
   "language": "python",
   "name": "python3"
  },
  "language_info": {
   "codemirror_mode": {
    "name": "ipython",
    "version": 3
   },
   "file_extension": ".py",
   "mimetype": "text/x-python",
   "name": "python",
   "nbconvert_exporter": "python",
   "pygments_lexer": "ipython3",
   "version": "3.9.7"
  }
 },
 "nbformat": 4,
 "nbformat_minor": 5
}
