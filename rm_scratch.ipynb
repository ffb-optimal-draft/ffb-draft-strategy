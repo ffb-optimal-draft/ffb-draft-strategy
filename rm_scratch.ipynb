{
 "cells": [
  {
   "cell_type": "code",
   "execution_count": null,
   "id": "6e1249de",
   "metadata": {},
   "outputs": [],
   "source": [
    "import pandas as pd\n",
    "import time"
   ]
  },
  {
   "cell_type": "code",
   "execution_count": null,
   "id": "0809a71c",
   "metadata": {},
   "outputs": [],
   "source": [
    "leagues = []"
   ]
  },
  {
   "cell_type": "code",
   "execution_count": null,
   "id": "f5626554",
   "metadata": {},
   "outputs": [],
   "source": [
    "leagues"
   ]
  },
  {
   "cell_type": "code",
   "execution_count": null,
   "id": "479c0f2f",
   "metadata": {},
   "outputs": [],
   "source": [
    "for i in range (1,1000000):\n",
    "    try:\n",
    "        df = pd.read_html(f'https://football.fantasysports.yahoo.com/f1/{i}/settings') \n",
    "        dic ={}\n",
    "        dic['id'] = i\n",
    "        dic['format'] = df[1]\n",
    "        leagues.append(dic)\n",
    "    except:\n",
    "        pass"
   ]
  },
  {
   "cell_type": "code",
   "execution_count": null,
   "id": "0c76bed8",
   "metadata": {},
   "outputs": [],
   "source": [
    "async def get_html(url, selector, sleep=5, retries=3):\n",
    "    html = None\n",
    "    for i in range(1, retries+1):\n",
    "        time.sleep(sleep * i)\n",
    "        try:\n",
    "            async with async_playwright() as p:\n",
    "                browser = await p.firefox.launch()\n",
    "                page = await browser.new_page()\n",
    "                await page.goto(url)\n",
    "                print(await page.title())\n",
    "                html = await page.inner_html(selector)\n",
    "        except PlaywrightTimeout:\n",
    "            print(f\"Timeout error on {url}\")\n",
    "            continue\n",
    "        else:\n",
    "            break\n",
    "    return html"
   ]
  },
  {
   "cell_type": "code",
   "execution_count": null,
   "id": "e4236d13",
   "metadata": {},
   "outputs": [],
   "source": [
    "len(leagues)"
   ]
  },
  {
   "cell_type": "code",
   "execution_count": null,
   "id": "7858374c",
   "metadata": {},
   "outputs": [],
   "source": [
    "leagues[0]"
   ]
  },
  {
   "cell_type": "code",
   "execution_count": null,
   "id": "20b6b3d4",
   "metadata": {},
   "outputs": [],
   "source": [
    "leagues[2]"
   ]
  },
  {
   "cell_type": "code",
   "execution_count": null,
   "id": "667e3529",
   "metadata": {},
   "outputs": [],
   "source": []
  }
 ],
 "metadata": {
  "kernelspec": {
   "display_name": "Python 3 (ipykernel)",
   "language": "python",
   "name": "python3"
  },
  "language_info": {
   "codemirror_mode": {
    "name": "ipython",
    "version": 3
   },
   "file_extension": ".py",
   "mimetype": "text/x-python",
   "name": "python",
   "nbconvert_exporter": "python",
   "pygments_lexer": "ipython3",
   "version": "3.9.7"
  }
 },
 "nbformat": 4,
 "nbformat_minor": 5
}
