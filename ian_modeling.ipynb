{
 "cells": [
  {
   "cell_type": "code",
   "execution_count": 1,
   "id": "8a079ee6",
   "metadata": {},
   "outputs": [],
   "source": [
    "import pandas as pd\n",
    "import numpy as np\n",
    "import seaborn as sns\n",
    "import matplotlib.pyplot as plt\n",
    "import xgboost \n",
    "\n",
    "import warnings\n",
    "warnings.filterwarnings('ignore')\n",
    "\n",
    "pd.set_option('display.max_columns', 100)\n",
    "\n",
    "import xgboost\n",
    "from sklearn.linear_model import LassoLars\n",
    "from sklearn.preprocessing import PolynomialFeatures\n",
    "from sklearn.linear_model import TweedieRegressor\n",
    "\n",
    "from sklearn.feature_selection import SelectKBest, f_regression, RFE\n",
    "from sklearn.linear_model import LinearRegression\n",
    "from sklearn.preprocessing import MinMaxScaler, StandardScaler, RobustScaler, QuantileTransformer\n",
    "\n",
    "from prepare import x_y_split, rmse, select_kbest, rfe\n",
    "\n",
    "from sklearn.model_selection import GridSearchCV\n",
    "\n",
    "from hypopt import GridSearch"
   ]
  },
  {
   "cell_type": "code",
   "execution_count": 2,
   "id": "cb80d7c8",
   "metadata": {},
   "outputs": [],
   "source": [
    "df = pd.read_csv('season1.csv', index_col=0)"
   ]
  },
  {
   "cell_type": "code",
   "execution_count": 3,
   "id": "b42a38c2",
   "metadata": {},
   "outputs": [],
   "source": [
    "s_2018 = df[df['year']>2017]"
   ]
  },
  {
   "cell_type": "code",
   "execution_count": 4,
   "id": "9f54b188",
   "metadata": {},
   "outputs": [],
   "source": [
    "passing = pd.read_csv('passing.csv')\n",
    "rec = pd.read_csv('receive.csv')\n",
    "rush = pd.read_csv('rush.csv')"
   ]
  },
  {
   "cell_type": "code",
   "execution_count": 5,
   "id": "30511f77",
   "metadata": {},
   "outputs": [],
   "source": [
    "passing['date'] = pd.to_datetime(passing['date'])\n",
    "rush['date'] = pd.to_datetime(rush['date'])\n",
    "rec['date'] = pd.to_datetime(rec['date'])"
   ]
  },
  {
   "cell_type": "code",
   "execution_count": 6,
   "id": "57cc4f82",
   "metadata": {},
   "outputs": [],
   "source": [
    "passing['year'] = passing['date'].dt.year\n",
    "rec['year'] = rec['date'].dt.year\n",
    "rush['year'] = rush['date'].dt.year"
   ]
  },
  {
   "cell_type": "code",
   "execution_count": 7,
   "id": "b4c39173",
   "metadata": {},
   "outputs": [],
   "source": [
    "passing.drop(columns=['Unnamed: 0'], inplace=True)\n",
    "rush.drop(columns=['Unnamed: 0'], inplace=True)\n",
    "rec.drop(columns=['Unnamed: 0'], inplace=True)"
   ]
  },
  {
   "cell_type": "code",
   "execution_count": 88,
   "id": "f7806d73",
   "metadata": {},
   "outputs": [],
   "source": [
    "def find_pts_averages(player):\n",
    "    pts_var_avg = player.pts_var.abs().mean()\n",
    "    return pts_var_avg"
   ]
  },
  {
   "cell_type": "code",
   "execution_count": 90,
   "id": "938ddd8b",
   "metadata": {},
   "outputs": [],
   "source": [
    "weekly = pd.DataFrame(columns=['player', 'pts_var'])\n",
    "pts_var_avg = pd.DataFrame(columns=['player', 'pts_var', 'year'])\n",
    "\n",
    "for year in range(2022, 2017, -1):\n",
    "    res = rec[rec['year']==year].groupby('player')['tgt'].mean()> 5\n",
    "    res = res[res==True].index.to_list()\n",
    "    \n",
    "    rec_temp = rec[(rec['year']==year) & (rec['player'].isin(res))]\n",
    "    weekly = weekly.append(rec_temp[['player'] + ['pts_var']])\n",
    "\n",
    "    qbs = passing[passing['year']==year].groupby('player')['att'].mean()> 5\n",
    "    qbs = qbs[qbs==True].index.to_list()\n",
    "    \n",
    "    pass_temp = passing[(passing['year']==year) & (passing['player'].isin(qbs))]\n",
    "    weekly = weekly.append(pass_temp[['player'] + ['pts_var']])\n",
    "\n",
    "    rbs = rush[rush['year']==year].groupby('player')['att'].mean()> 5\n",
    "    rbs = rbs[rbs==True].index.to_list()\n",
    "    \n",
    "    rush_temp = rush[(rush['year']==year) & (rush['player'].isin(rbs))]\n",
    "    weekly = weekly.append(rush_temp[['player'] + ['pts_var']])\n",
    "    \n",
    "    pts_avg = weekly.groupby('player', group_keys=False).apply(find_pts_averages)\n",
    "    weekly_temp = pd.DataFrame(pts_avg, columns=['pts_var_avg'])\n",
    "\n",
    "    weekly_temp['year'] = year\n",
    "    \n",
    "    pts_var_avg = pts_var_avg.append(weekly_temp)"
   ]
  },
  {
   "cell_type": "code",
   "execution_count": 93,
   "id": "9a593e50",
   "metadata": {},
   "outputs": [],
   "source": [
    "pts_var_avg = pts_var_avg.reset_index()"
   ]
  },
  {
   "cell_type": "code",
   "execution_count": 95,
   "id": "3f374ab4",
   "metadata": {},
   "outputs": [],
   "source": [
    "pts_var_avg.drop(columns=['player','pts_var'],inplace=True)"
   ]
  },
  {
   "cell_type": "code",
   "execution_count": 98,
   "id": "ebbc57f4",
   "metadata": {},
   "outputs": [],
   "source": [
    "pts_var_avg.rename(columns={'index':'player'}, inplace=True)"
   ]
  },
  {
   "cell_type": "code",
   "execution_count": 101,
   "id": "6783160d",
   "metadata": {},
   "outputs": [],
   "source": [
    "df1 = pd.merge(left=s_2018, right=pts_var_avg, on=['player','year'], how='left')\n",
    "df1.rename(columns={'pts_var':'pts_var_avg'}, inplace=True)"
   ]
  },
  {
   "cell_type": "code",
   "execution_count": 102,
   "id": "9072a274",
   "metadata": {},
   "outputs": [],
   "source": [
    "qb_df = df1[df1['pos']=='QB']\n",
    "rb_df = df1[df1['pos']=='RB']\n",
    "wr_df = df1[df1['pos']=='WR']\n",
    "te_df = df1[df1['pos']=='TE']"
   ]
  },
  {
   "cell_type": "code",
   "execution_count": 103,
   "id": "0c277eb0",
   "metadata": {},
   "outputs": [],
   "source": [
    "qb_df.drop(columns=['rk','pos','tgt','rec','rec_yards','y/r','rec_tds','vbd', 'team'], inplace=True)"
   ]
  },
  {
   "cell_type": "code",
   "execution_count": 104,
   "id": "9db2cd64",
   "metadata": {},
   "outputs": [],
   "source": [
    "qb_df['rating'] = round(((((((qb_df['cmp']/qb_df['pass_att'])-.3)*5) + \n",
    "                  ((qb_df['pass_yds']/qb_df['pass_att']-3)*.25) +\n",
    "                  ((qb_df['pass_tds']/qb_df['pass_att'])*20) +\n",
    "                  (2.375-((qb_df['int']/qb_df['pass_att'])*25)))/6)*100),2)"
   ]
  },
  {
   "cell_type": "code",
   "execution_count": 105,
   "id": "4ab13f57",
   "metadata": {},
   "outputs": [],
   "source": [
    "def add_target(group):\n",
    "    group['target'] = group['ppr_pts'].shift(-1)\n",
    "    group = group.fillna(0)\n",
    "    return group"
   ]
  },
  {
   "cell_type": "code",
   "execution_count": 106,
   "id": "4a24681e",
   "metadata": {},
   "outputs": [],
   "source": [
    "qb_df = add_target(qb_df)"
   ]
  },
  {
   "cell_type": "code",
   "execution_count": 107,
   "id": "16e35ac7",
   "metadata": {},
   "outputs": [],
   "source": [
    "qb_df = qb_df[(qb_df['player']!= 'Tom Brady') & (qb_df['player']!='Marcus Mariota')]"
   ]
  },
  {
   "cell_type": "code",
   "execution_count": 108,
   "id": "8c2c4563",
   "metadata": {},
   "outputs": [],
   "source": [
    "qb_df['comp%'] = round((qb_df['cmp'] / qb_df['pass_att']) * 100, 2)\n",
    "qb_df['int%'] = round((qb_df['int'] / qb_df['pass_att']) * 100, 2)"
   ]
  },
  {
   "cell_type": "code",
   "execution_count": 109,
   "id": "24f77026",
   "metadata": {},
   "outputs": [],
   "source": [
    "qb_df.drop(columns=['cmp','pass_att','int'], inplace=True)"
   ]
  },
  {
   "cell_type": "code",
   "execution_count": 118,
   "id": "a038e885",
   "metadata": {},
   "outputs": [],
   "source": [
    "rb_df.drop(columns=['rk','team','pos','cmp','pass_att','pass_yds','pass_tds','int','vbd'], inplace=True)"
   ]
  },
  {
   "cell_type": "code",
   "execution_count": 119,
   "id": "04412000",
   "metadata": {},
   "outputs": [],
   "source": [
    "rb_df = add_target(rb_df)"
   ]
  },
  {
   "cell_type": "code",
   "execution_count": 121,
   "id": "ff6463cd",
   "metadata": {},
   "outputs": [],
   "source": [
    "rb_df['rec%'] = round(((rb_df['rec']/rb_df['tgt'])*100),2)"
   ]
  },
  {
   "cell_type": "code",
   "execution_count": 127,
   "id": "055575b0",
   "metadata": {},
   "outputs": [],
   "source": [
    "wr_df.drop(columns=['rk','team','pos','cmp','pass_tds','pass_att','pass_yds','int','rush_att','rush_yard',\n",
    "                    'y/a','rush_tds','vbd'],inplace=True)"
   ]
  },
  {
   "cell_type": "code",
   "execution_count": 128,
   "id": "bf177c37",
   "metadata": {},
   "outputs": [],
   "source": [
    "wr_df = add_target(wr_df)"
   ]
  },
  {
   "cell_type": "code",
   "execution_count": 130,
   "id": "eb7547d7",
   "metadata": {},
   "outputs": [],
   "source": [
    "wr_df['rec%'] = round(((wr_df['rec']/wr_df['tgt'])*100),2)"
   ]
  },
  {
   "cell_type": "code",
   "execution_count": 131,
   "id": "addeba59",
   "metadata": {},
   "outputs": [],
   "source": [
    "wr_df = wr_df[wr_df['player']!='KaVontae Turpin']"
   ]
  },
  {
   "cell_type": "code",
   "execution_count": 138,
   "id": "9376a4e1",
   "metadata": {},
   "outputs": [],
   "source": [
    "te_df = add_target(te_df)"
   ]
  },
  {
   "cell_type": "code",
   "execution_count": 140,
   "id": "ff430421",
   "metadata": {},
   "outputs": [],
   "source": [
    "te_df['rec%'] = round(((te_df['rec']/te_df['tgt'])*100),2)"
   ]
  },
  {
   "cell_type": "code",
   "execution_count": 142,
   "id": "82eb8430",
   "metadata": {},
   "outputs": [],
   "source": [
    "te_df = te_df[(te_df['player']!='Richard Rodgers') & (te_df['player']!='Feleipe Franks')]"
   ]
  },
  {
   "cell_type": "code",
   "execution_count": 148,
   "id": "d96d78f1",
   "metadata": {},
   "outputs": [],
   "source": [
    "parameters = {'learning_rate': [.03, .07, .1, .15, .2],\n",
    "              'max_depth': [3, 4, 5, 6, 7],\n",
    "              'min_child_weight': [1, 5, 15, 200],\n",
    "              'subsample': [.65, 0.7, .8, .85],\n",
    "              'colsample_bytree': [0.7, .8, .85],\n",
    "              'n_estimators': [250, 500],\n",
    "              'gamma':[0, 1, 10]}"
   ]
  },
  {
   "cell_type": "code",
   "execution_count": 149,
   "id": "7c2b0df2",
   "metadata": {},
   "outputs": [],
   "source": [
    "xgb = xgboost.XGBRegressor()"
   ]
  },
  {
   "cell_type": "code",
   "execution_count": 150,
   "id": "44185848",
   "metadata": {},
   "outputs": [],
   "source": [
    "xgb_grid = GridSearchCV(xgb,\n",
    "                        parameters,\n",
    "                        cv = 4,\n",
    "                        n_jobs = -1,\n",
    "                        verbose=True,\n",
    "                        scoring='neg_root_mean_squared_error')\n"
   ]
  },
  {
   "cell_type": "code",
   "execution_count": 184,
   "id": "a660806e",
   "metadata": {},
   "outputs": [],
   "source": [
    "X_train = qb_df[qb_df['year']<2020]\n",
    "X_val = qb_df[qb_df['year']<2022]\n",
    "X_test = qb_df[qb_df['year']==2022]\n",
    "\n",
    "y_train = X_train['target']\n",
    "X_train.drop(columns=['target'], inplace = True)\n",
    "\n",
    "y_val = X_val['target']\n",
    "X_val.drop(columns=['target'], inplace = True)\n",
    "\n",
    "X_test.drop(columns=['target'], inplace = True)\n",
    "\n",
    "ss = StandardScaler()\n",
    "\n",
    "X_train[qb_cols] = ss.fit_transform(X_train[qb_cols])\n",
    "X_val[qb_cols] = ss.transform(X_val[qb_cols])\n",
    "X_test[qb_cols] = ss.transform(X_test[qb_cols])"
   ]
  },
  {
   "cell_type": "code",
   "execution_count": 185,
   "id": "a02945ea",
   "metadata": {},
   "outputs": [],
   "source": [
    "qb_cols = ['age','g','gs','pass_yds','pass_tds','rush_att','rush_yard','y/a','rush_tds',\n",
    "           'fmb','fl','rush_rec_tds','pos_rank','adp','adp_by_pos','round','ppr_pts',\n",
    "           'comp%', 'int%', 'rating','success', 'pts_var_avg']"
   ]
  },
  {
   "cell_type": "code",
   "execution_count": null,
   "id": "373bb2b5",
   "metadata": {},
   "outputs": [
    {
     "name": "stdout",
     "output_type": "stream",
     "text": [
      "Fitting 4 folds for each of 7200 candidates, totalling 28800 fits\n"
     ]
    }
   ],
   "source": [
    "xgb_grid.fit(X_train[qb_cols],\n",
    "             y_train)\n",
    "\n",
    "#print(xgb_grid.best_score_)\n",
    "print(xgb_grid.best_params_)"
   ]
  },
  {
   "cell_type": "code",
   "execution_count": 154,
   "id": "e1c921b0",
   "metadata": {},
   "outputs": [],
   "source": [
    "qb_xgb = xgboost.XGBRegressor(colsample_bytree=.7, gamma=10, eta=.1, max_depth=3,\n",
    "                           min_child_weight=5,n_estimators=500,subsample.8)"
   ]
  },
  {
   "cell_type": "code",
   "execution_count": null,
   "id": "71f14930",
   "metadata": {},
   "outputs": [],
   "source": [
    "rb_cols = ['age','g','gs','rush_att','rush_yard','y/a','rush_tds','tgt','rec','rec_yards','y/r','rec_tds','fmb',\n",
    "           'fl','rush_rec_tds','ppr_pts','pos_rank','adp','adp_by_pos','round', 'rec%', 'pts_var_avg']"
   ]
  },
  {
   "cell_type": "code",
   "execution_count": null,
   "id": "ad4e184a",
   "metadata": {},
   "outputs": [],
   "source": [
    "X_train = rb_df[rb_df['year']<2020]\n",
    "X_val = rb_df[rb_df['year']<2022]\n",
    "X_test = rb_df[rb_df['year']==2022]\n",
    "\n",
    "y_train = X_train['target']\n",
    "X_train.drop(columns=['target'], inplace = True)\n",
    "\n",
    "y_val = X_val['target']\n",
    "X_val.drop(columns=['target'], inplace = True)\n",
    "\n",
    "X_test.drop(columns=['target'], inplace = True)\n",
    "\n",
    "ss = StandardScaler()\n",
    "\n",
    "X_train[rb_cols] = ss.fit_transform(X_train[rb_cols])\n",
    "X_val[rb_cols] = ss.transform(X_val[rb_cols])\n",
    "X_test[rb_cols] = ss.transform(X_test[rb_cols])"
   ]
  },
  {
   "cell_type": "code",
   "execution_count": null,
   "id": "1dbd0dbc",
   "metadata": {},
   "outputs": [],
   "source": [
    "rb_xgb = xgboost.XGBRegressor(colsample_bytree=.7, gamma=10, eta=.1, max_depth=3,\n",
    "                            min_child_weight=5,n_estimators=500,subsample.8)"
   ]
  },
  {
   "cell_type": "code",
   "execution_count": null,
   "id": "46f9724e",
   "metadata": {},
   "outputs": [],
   "source": [
    "wr_cols = ['age','g','gs','tgt','rec','rec_yards','y/r','rec_tds','fmb','fl','rush_rec_tds','ppr_pts','pos_rank',\n",
    "           'adp','adp_by_pos','round', 'rec%','pts_var_avg']"
   ]
  },
  {
   "cell_type": "code",
   "execution_count": null,
   "id": "7993558d",
   "metadata": {},
   "outputs": [],
   "source": [
    "X_train = wr_df[wr_df['year']<2020]\n",
    "X_val = wr_df[wr_df['year']<2022]\n",
    "X_test = wr_df[wr_df['year']==2022]\n",
    "\n",
    "y_train = X_train['target']\n",
    "X_train.drop(columns=['target'], inplace = True)\n",
    "\n",
    "y_val = X_val['target']\n",
    "X_val.drop(columns=['target'], inplace = True)\n",
    "\n",
    "X_test.drop(columns=['target'], inplace = True)\n",
    "\n",
    "ss = StandardScaler()\n",
    "\n",
    "X_train[wr_cols] = ss.fit_transform(X_train[wr_cols])\n",
    "X_val[wr_cols] = ss.transform(X_val[wr_cols])\n",
    "X_test[wr_cols] = ss.transform(X_test[wr_cols])"
   ]
  },
  {
   "cell_type": "code",
   "execution_count": null,
   "id": "c6f10b4a",
   "metadata": {},
   "outputs": [],
   "source": [
    "wrte_xgb = xgboost.XGBRegressor(colsample_bytree=.7, gamma=10, eta=.1, max_depth=3,\n",
    "                           min_child_weight=5,n_estimators=500,subsample.8)"
   ]
  },
  {
   "cell_type": "code",
   "execution_count": 155,
   "id": "5d2c6b18",
   "metadata": {},
   "outputs": [],
   "source": [
    "def qb_xgb_modeling(df, cols):\n",
    "    \n",
    "    X_train = df[df['year']<2020]\n",
    "    X_val = df[df['year']<2022]\n",
    "    X_test = df[df['year']==2022]\n",
    "    \n",
    "    y_train = X_train['target']\n",
    "    X_train.drop(columns=['target'], inplace = True)\n",
    "    \n",
    "    y_val = X_val['target']\n",
    "    X_val.drop(columns=['target'], inplace = True)\n",
    "\n",
    "    X_test.drop(columns=['target'], inplace = True)\n",
    "    \n",
    "    ss = StandardScaler()\n",
    "    \n",
    "    X_train[cols] = ss.fit_transform(X_train[cols])\n",
    "    X_val[cols] = ss.transform(X_val[cols])\n",
    "    X_test[cols] = ss.transform(X_test[cols])\n",
    "    \n",
    "    cols.append('success')\n",
    "    \n",
    "    xgb = xgboost.XGBRegressor(colsample_bytree=.7, gamma=10, eta=.1, max_depth=3,\n",
    "                               min_child_weight=5,n_estimators=500,subsample=.8)\n",
    "    \n",
    "    xgb.fit(X_train[cols], y_train, eval_set=[(X_train[cols], y_train), (X_val[cols], y_val)],\n",
    "           early_stopping_rounds=25)\n",
    "    xgb_preds = xgb.predict(X_train[cols])\n",
    "    \n",
    "    preds = pd.DataFrame({'actual':y_train,\n",
    "                          'baseline':y_train.mean(),\n",
    "                          'xgb_preds':xgb_preds})\n",
    "    \n",
    "    xgb_val_preds = xgb.predict(X_val[cols])\n",
    "    \n",
    "    val_preds = pd.DataFrame({'actual':y_val,\n",
    "                              'baseline':y_train.mean(),\n",
    "                              'xgb_val_preds':xgb_val_preds})\n",
    "    \n",
    "    \n",
    "    pos_2023 = pd.DataFrame({'player':X_test['player'],\n",
    "                             'preds':xgb.predict(X_test[cols])})\n",
    "    \n",
    "    val_2022 = X_val[X_val['year']==2021]\n",
    "    pos_2022 = pd.DataFrame({'player':val_2022['player'],\n",
    "                             'actual':val_2022['ppr_pts'],\n",
    "                             'preds':xgb.predict(val_2022[cols])})\n",
    "    \n",
    "    return preds, val_preds, pos_2023, pos_2022"
   ]
  },
  {
   "cell_type": "code",
   "execution_count": 156,
   "id": "5d642c8e",
   "metadata": {},
   "outputs": [],
   "source": [
    "qb_cols = ['age','g','gs','pass_yds','pass_tds','rush_att','rush_yard','y/a','rush_tds',\n",
    "           'fmb','fl','rush_rec_tds','pos_rank','adp','adp_by_pos','round','ppr_pts',\n",
    "           'comp%', 'int%', 'rating','pts_var_avg']"
   ]
  },
  {
   "cell_type": "code",
   "execution_count": 157,
   "id": "01799e07",
   "metadata": {},
   "outputs": [
    {
     "name": "stdout",
     "output_type": "stream",
     "text": [
      "[0]\tvalidation_0-rmse:153.79402\tvalidation_1-rmse:152.76804\n",
      "[1]\tvalidation_0-rmse:140.25306\tvalidation_1-rmse:139.63573\n",
      "[2]\tvalidation_0-rmse:127.88357\tvalidation_1-rmse:127.66720\n",
      "[3]\tvalidation_0-rmse:117.14615\tvalidation_1-rmse:117.36296\n",
      "[4]\tvalidation_0-rmse:107.84204\tvalidation_1-rmse:108.56321\n",
      "[5]\tvalidation_0-rmse:98.92421\tvalidation_1-rmse:100.17391\n",
      "[6]\tvalidation_0-rmse:90.93965\tvalidation_1-rmse:92.80046\n",
      "[7]\tvalidation_0-rmse:83.59905\tvalidation_1-rmse:85.98719\n",
      "[8]\tvalidation_0-rmse:77.10436\tvalidation_1-rmse:80.04100\n",
      "[9]\tvalidation_0-rmse:71.15029\tvalidation_1-rmse:74.60838\n",
      "[10]\tvalidation_0-rmse:65.93092\tvalidation_1-rmse:69.84244\n",
      "[11]\tvalidation_0-rmse:61.30069\tvalidation_1-rmse:65.63480\n",
      "[12]\tvalidation_0-rmse:56.77654\tvalidation_1-rmse:61.86896\n",
      "[13]\tvalidation_0-rmse:53.24280\tvalidation_1-rmse:58.71708\n",
      "[14]\tvalidation_0-rmse:49.88896\tvalidation_1-rmse:55.63968\n",
      "[15]\tvalidation_0-rmse:47.13386\tvalidation_1-rmse:53.42689\n",
      "[16]\tvalidation_0-rmse:44.58650\tvalidation_1-rmse:51.20142\n",
      "[17]\tvalidation_0-rmse:42.09336\tvalidation_1-rmse:49.35342\n",
      "[18]\tvalidation_0-rmse:39.86758\tvalidation_1-rmse:47.82610\n",
      "[19]\tvalidation_0-rmse:38.28407\tvalidation_1-rmse:46.46824\n",
      "[20]\tvalidation_0-rmse:37.01979\tvalidation_1-rmse:45.56046\n",
      "[21]\tvalidation_0-rmse:35.66134\tvalidation_1-rmse:44.51609\n",
      "[22]\tvalidation_0-rmse:34.43565\tvalidation_1-rmse:43.59648\n",
      "[23]\tvalidation_0-rmse:32.94906\tvalidation_1-rmse:42.46503\n",
      "[24]\tvalidation_0-rmse:31.72318\tvalidation_1-rmse:41.48056\n",
      "[25]\tvalidation_0-rmse:30.38499\tvalidation_1-rmse:40.71287\n",
      "[26]\tvalidation_0-rmse:29.46246\tvalidation_1-rmse:40.02307\n",
      "[27]\tvalidation_0-rmse:28.54080\tvalidation_1-rmse:39.63813\n",
      "[28]\tvalidation_0-rmse:27.66371\tvalidation_1-rmse:39.20441\n",
      "[29]\tvalidation_0-rmse:27.24171\tvalidation_1-rmse:38.67539\n",
      "[30]\tvalidation_0-rmse:26.43071\tvalidation_1-rmse:38.61127\n",
      "[31]\tvalidation_0-rmse:25.70023\tvalidation_1-rmse:38.02090\n",
      "[32]\tvalidation_0-rmse:25.01286\tvalidation_1-rmse:38.03551\n",
      "[33]\tvalidation_0-rmse:24.48228\tvalidation_1-rmse:37.78391\n",
      "[34]\tvalidation_0-rmse:23.90807\tvalidation_1-rmse:37.76365\n",
      "[35]\tvalidation_0-rmse:23.45432\tvalidation_1-rmse:37.92248\n",
      "[36]\tvalidation_0-rmse:23.23972\tvalidation_1-rmse:37.60838\n",
      "[37]\tvalidation_0-rmse:22.66697\tvalidation_1-rmse:37.63174\n",
      "[38]\tvalidation_0-rmse:22.17028\tvalidation_1-rmse:37.45347\n",
      "[39]\tvalidation_0-rmse:21.94492\tvalidation_1-rmse:37.18476\n",
      "[40]\tvalidation_0-rmse:21.74862\tvalidation_1-rmse:36.92779\n",
      "[41]\tvalidation_0-rmse:21.55942\tvalidation_1-rmse:36.81400\n",
      "[42]\tvalidation_0-rmse:21.45049\tvalidation_1-rmse:36.67606\n",
      "[43]\tvalidation_0-rmse:21.27889\tvalidation_1-rmse:36.59367\n",
      "[44]\tvalidation_0-rmse:20.84646\tvalidation_1-rmse:36.64476\n",
      "[45]\tvalidation_0-rmse:20.45379\tvalidation_1-rmse:36.53284\n",
      "[46]\tvalidation_0-rmse:20.06279\tvalidation_1-rmse:36.70031\n",
      "[47]\tvalidation_0-rmse:19.76151\tvalidation_1-rmse:36.82922\n",
      "[48]\tvalidation_0-rmse:19.36182\tvalidation_1-rmse:36.65800\n",
      "[49]\tvalidation_0-rmse:19.01503\tvalidation_1-rmse:36.50896\n",
      "[50]\tvalidation_0-rmse:18.78706\tvalidation_1-rmse:36.48702\n",
      "[51]\tvalidation_0-rmse:18.56952\tvalidation_1-rmse:36.59663\n",
      "[52]\tvalidation_0-rmse:18.44294\tvalidation_1-rmse:36.49857\n",
      "[53]\tvalidation_0-rmse:18.13899\tvalidation_1-rmse:36.41219\n",
      "[54]\tvalidation_0-rmse:17.83622\tvalidation_1-rmse:36.34396\n",
      "[55]\tvalidation_0-rmse:17.53542\tvalidation_1-rmse:36.47221\n",
      "[56]\tvalidation_0-rmse:17.48804\tvalidation_1-rmse:36.32427\n",
      "[57]\tvalidation_0-rmse:17.18808\tvalidation_1-rmse:36.35591\n",
      "[58]\tvalidation_0-rmse:16.87630\tvalidation_1-rmse:36.61629\n",
      "[59]\tvalidation_0-rmse:16.65372\tvalidation_1-rmse:36.83396\n",
      "[60]\tvalidation_0-rmse:16.33412\tvalidation_1-rmse:36.95636\n",
      "[61]\tvalidation_0-rmse:16.11133\tvalidation_1-rmse:36.84233\n",
      "[62]\tvalidation_0-rmse:15.84596\tvalidation_1-rmse:36.74613\n",
      "[63]\tvalidation_0-rmse:15.59023\tvalidation_1-rmse:36.84004\n",
      "[64]\tvalidation_0-rmse:15.41186\tvalidation_1-rmse:36.79237\n",
      "[65]\tvalidation_0-rmse:15.39660\tvalidation_1-rmse:36.60211\n",
      "[66]\tvalidation_0-rmse:15.03793\tvalidation_1-rmse:36.65170\n",
      "[67]\tvalidation_0-rmse:15.01237\tvalidation_1-rmse:36.37258\n",
      "[68]\tvalidation_0-rmse:14.81057\tvalidation_1-rmse:36.24016\n",
      "[69]\tvalidation_0-rmse:14.68126\tvalidation_1-rmse:36.11750\n",
      "[70]\tvalidation_0-rmse:14.36436\tvalidation_1-rmse:36.41428\n",
      "[71]\tvalidation_0-rmse:14.22494\tvalidation_1-rmse:36.32167\n",
      "[72]\tvalidation_0-rmse:13.98838\tvalidation_1-rmse:36.19943\n",
      "[73]\tvalidation_0-rmse:14.00585\tvalidation_1-rmse:36.03478\n",
      "[74]\tvalidation_0-rmse:13.81825\tvalidation_1-rmse:36.10367\n",
      "[75]\tvalidation_0-rmse:13.55528\tvalidation_1-rmse:36.26846\n",
      "[76]\tvalidation_0-rmse:13.36926\tvalidation_1-rmse:36.15255\n",
      "[77]\tvalidation_0-rmse:13.20623\tvalidation_1-rmse:36.22145\n",
      "[78]\tvalidation_0-rmse:12.92088\tvalidation_1-rmse:36.32836\n",
      "[79]\tvalidation_0-rmse:12.80753\tvalidation_1-rmse:36.19456\n",
      "[80]\tvalidation_0-rmse:12.63903\tvalidation_1-rmse:36.27574\n",
      "[81]\tvalidation_0-rmse:12.38689\tvalidation_1-rmse:36.41316\n",
      "[82]\tvalidation_0-rmse:12.22413\tvalidation_1-rmse:36.60406\n",
      "[83]\tvalidation_0-rmse:12.04473\tvalidation_1-rmse:36.55901\n",
      "[84]\tvalidation_0-rmse:11.87528\tvalidation_1-rmse:36.48373\n",
      "[85]\tvalidation_0-rmse:11.74973\tvalidation_1-rmse:36.46726\n",
      "[86]\tvalidation_0-rmse:11.60783\tvalidation_1-rmse:36.47679\n",
      "[87]\tvalidation_0-rmse:11.54646\tvalidation_1-rmse:36.38845\n",
      "[88]\tvalidation_0-rmse:11.49243\tvalidation_1-rmse:36.26191\n",
      "[89]\tvalidation_0-rmse:11.38344\tvalidation_1-rmse:36.31158\n",
      "[90]\tvalidation_0-rmse:11.27346\tvalidation_1-rmse:36.17310\n",
      "[91]\tvalidation_0-rmse:11.11261\tvalidation_1-rmse:36.29136\n",
      "[92]\tvalidation_0-rmse:11.08749\tvalidation_1-rmse:36.25780\n",
      "[93]\tvalidation_0-rmse:10.92575\tvalidation_1-rmse:36.41468\n",
      "[94]\tvalidation_0-rmse:10.74737\tvalidation_1-rmse:36.52992\n",
      "[95]\tvalidation_0-rmse:10.63039\tvalidation_1-rmse:36.49570\n",
      "[96]\tvalidation_0-rmse:10.49308\tvalidation_1-rmse:36.65942\n",
      "[97]\tvalidation_0-rmse:10.35014\tvalidation_1-rmse:36.58727\n"
     ]
    }
   ],
   "source": [
    "qb_preds, qb_val_preds, qb_2023, qb_2022 = xgb_modeling(qb_df, qb_cols)"
   ]
  },
  {
   "cell_type": "code",
   "execution_count": 161,
   "id": "e6793f0b",
   "metadata": {},
   "outputs": [
    {
     "data": {
      "text/html": [
       "<div>\n",
       "<style scoped>\n",
       "    .dataframe tbody tr th:only-of-type {\n",
       "        vertical-align: middle;\n",
       "    }\n",
       "\n",
       "    .dataframe tbody tr th {\n",
       "        vertical-align: top;\n",
       "    }\n",
       "\n",
       "    .dataframe thead th {\n",
       "        text-align: right;\n",
       "    }\n",
       "</style>\n",
       "<table border=\"1\" class=\"dataframe\">\n",
       "  <thead>\n",
       "    <tr style=\"text-align: right;\">\n",
       "      <th></th>\n",
       "      <th>player</th>\n",
       "      <th>preds</th>\n",
       "    </tr>\n",
       "  </thead>\n",
       "  <tbody>\n",
       "    <tr>\n",
       "      <th>2282</th>\n",
       "      <td>Patrick Mahomes</td>\n",
       "      <td>331.213684</td>\n",
       "    </tr>\n",
       "    <tr>\n",
       "      <th>2283</th>\n",
       "      <td>Josh Allen</td>\n",
       "      <td>329.217285</td>\n",
       "    </tr>\n",
       "    <tr>\n",
       "      <th>2285</th>\n",
       "      <td>Joe Burrow</td>\n",
       "      <td>327.581146</td>\n",
       "    </tr>\n",
       "    <tr>\n",
       "      <th>2284</th>\n",
       "      <td>Jalen Hurts</td>\n",
       "      <td>325.271179</td>\n",
       "    </tr>\n",
       "    <tr>\n",
       "      <th>2286</th>\n",
       "      <td>Geno Smith</td>\n",
       "      <td>295.669830</td>\n",
       "    </tr>\n",
       "  </tbody>\n",
       "</table>\n",
       "</div>"
      ],
      "text/plain": [
       "               player       preds\n",
       "2282  Patrick Mahomes  331.213684\n",
       "2283       Josh Allen  329.217285\n",
       "2285       Joe Burrow  327.581146\n",
       "2284      Jalen Hurts  325.271179\n",
       "2286       Geno Smith  295.669830"
      ]
     },
     "execution_count": 161,
     "metadata": {},
     "output_type": "execute_result"
    }
   ],
   "source": [
    "qb_2023.sort_values('preds',ascending=False).head()"
   ]
  },
  {
   "cell_type": "code",
   "execution_count": 162,
   "id": "12c9e0f3",
   "metadata": {},
   "outputs": [
    {
     "data": {
      "text/plain": [
       "14.005851528540592"
      ]
     },
     "execution_count": 162,
     "metadata": {},
     "output_type": "execute_result"
    }
   ],
   "source": [
    "rmse(qb_preds, 'xgb_preds')"
   ]
  },
  {
   "cell_type": "code",
   "execution_count": 163,
   "id": "462b42b2",
   "metadata": {},
   "outputs": [
    {
     "data": {
      "text/plain": [
       "36.03477700939183"
      ]
     },
     "execution_count": 163,
     "metadata": {},
     "output_type": "execute_result"
    }
   ],
   "source": [
    "rmse(qb_val_preds, 'xgb_val_preds')"
   ]
  },
  {
   "cell_type": "code",
   "execution_count": 164,
   "id": "93ce9086",
   "metadata": {},
   "outputs": [],
   "source": [
    "rb_cols = ['age','g','gs','rush_att','rush_yard','y/a','rush_tds','tgt','rec','rec_yards','y/r','rec_tds','fmb',\n",
    "           'fl','rush_rec_tds','ppr_pts','pos_rank','adp','adp_by_pos','round', 'rec%', 'pts_var_avg']"
   ]
  },
  {
   "cell_type": "code",
   "execution_count": 165,
   "id": "74e8291b",
   "metadata": {},
   "outputs": [
    {
     "name": "stdout",
     "output_type": "stream",
     "text": [
      "[0]\tvalidation_0-rmse:108.73431\tvalidation_1-rmse:103.98682\n",
      "[1]\tvalidation_0-rmse:99.24092\tvalidation_1-rmse:94.82802\n",
      "[2]\tvalidation_0-rmse:90.74731\tvalidation_1-rmse:86.61286\n",
      "[3]\tvalidation_0-rmse:83.30524\tvalidation_1-rmse:79.44119\n",
      "[4]\tvalidation_0-rmse:76.91528\tvalidation_1-rmse:73.49552\n",
      "[5]\tvalidation_0-rmse:70.85677\tvalidation_1-rmse:67.61542\n",
      "[6]\tvalidation_0-rmse:65.38230\tvalidation_1-rmse:62.47749\n",
      "[7]\tvalidation_0-rmse:60.49426\tvalidation_1-rmse:57.83991\n",
      "[8]\tvalidation_0-rmse:56.51700\tvalidation_1-rmse:54.08494\n",
      "[9]\tvalidation_0-rmse:52.43739\tvalidation_1-rmse:50.18230\n",
      "[10]\tvalidation_0-rmse:49.01122\tvalidation_1-rmse:46.91396\n",
      "[11]\tvalidation_0-rmse:45.89651\tvalidation_1-rmse:43.97239\n",
      "[12]\tvalidation_0-rmse:43.17317\tvalidation_1-rmse:41.44732\n",
      "[13]\tvalidation_0-rmse:40.74615\tvalidation_1-rmse:39.16703\n",
      "[14]\tvalidation_0-rmse:38.60132\tvalidation_1-rmse:37.34500\n",
      "[15]\tvalidation_0-rmse:36.48034\tvalidation_1-rmse:35.78148\n",
      "[16]\tvalidation_0-rmse:34.83145\tvalidation_1-rmse:34.33157\n",
      "[17]\tvalidation_0-rmse:33.37214\tvalidation_1-rmse:33.09364\n",
      "[18]\tvalidation_0-rmse:32.09886\tvalidation_1-rmse:32.04267\n",
      "[19]\tvalidation_0-rmse:31.09664\tvalidation_1-rmse:31.22001\n",
      "[20]\tvalidation_0-rmse:30.00696\tvalidation_1-rmse:30.30176\n",
      "[21]\tvalidation_0-rmse:29.09025\tvalidation_1-rmse:29.55310\n",
      "[22]\tvalidation_0-rmse:28.37807\tvalidation_1-rmse:28.88220\n",
      "[23]\tvalidation_0-rmse:27.86002\tvalidation_1-rmse:28.51953\n",
      "[24]\tvalidation_0-rmse:27.36563\tvalidation_1-rmse:28.11223\n",
      "[25]\tvalidation_0-rmse:26.81673\tvalidation_1-rmse:27.89462\n",
      "[26]\tvalidation_0-rmse:26.34434\tvalidation_1-rmse:27.56194\n",
      "[27]\tvalidation_0-rmse:26.01124\tvalidation_1-rmse:27.33894\n",
      "[28]\tvalidation_0-rmse:25.60141\tvalidation_1-rmse:27.34605\n",
      "[29]\tvalidation_0-rmse:25.23978\tvalidation_1-rmse:27.11457\n",
      "[30]\tvalidation_0-rmse:24.88144\tvalidation_1-rmse:26.72007\n",
      "[31]\tvalidation_0-rmse:24.60569\tvalidation_1-rmse:26.58127\n",
      "[32]\tvalidation_0-rmse:24.30062\tvalidation_1-rmse:26.65952\n",
      "[33]\tvalidation_0-rmse:24.05502\tvalidation_1-rmse:26.51338\n",
      "[34]\tvalidation_0-rmse:23.81396\tvalidation_1-rmse:26.38283\n",
      "[35]\tvalidation_0-rmse:23.61914\tvalidation_1-rmse:26.32367\n",
      "[36]\tvalidation_0-rmse:23.48907\tvalidation_1-rmse:26.36121\n",
      "[37]\tvalidation_0-rmse:23.21455\tvalidation_1-rmse:26.00468\n",
      "[38]\tvalidation_0-rmse:22.66821\tvalidation_1-rmse:25.76832\n",
      "[39]\tvalidation_0-rmse:22.38890\tvalidation_1-rmse:25.67560\n",
      "[40]\tvalidation_0-rmse:22.28511\tvalidation_1-rmse:25.62850\n",
      "[41]\tvalidation_0-rmse:22.19164\tvalidation_1-rmse:25.57752\n",
      "[42]\tvalidation_0-rmse:22.11602\tvalidation_1-rmse:25.53409\n",
      "[43]\tvalidation_0-rmse:21.96086\tvalidation_1-rmse:25.46660\n",
      "[44]\tvalidation_0-rmse:21.86543\tvalidation_1-rmse:25.45623\n",
      "[45]\tvalidation_0-rmse:21.73901\tvalidation_1-rmse:25.36831\n",
      "[46]\tvalidation_0-rmse:21.63917\tvalidation_1-rmse:25.27477\n",
      "[47]\tvalidation_0-rmse:21.52510\tvalidation_1-rmse:25.42894\n",
      "[48]\tvalidation_0-rmse:21.44297\tvalidation_1-rmse:25.41264\n",
      "[49]\tvalidation_0-rmse:20.62649\tvalidation_1-rmse:25.37754\n",
      "[50]\tvalidation_0-rmse:20.47523\tvalidation_1-rmse:25.17846\n",
      "[51]\tvalidation_0-rmse:20.24026\tvalidation_1-rmse:25.10596\n",
      "[52]\tvalidation_0-rmse:20.23240\tvalidation_1-rmse:25.00670\n",
      "[53]\tvalidation_0-rmse:20.12470\tvalidation_1-rmse:25.16305\n",
      "[54]\tvalidation_0-rmse:20.01750\tvalidation_1-rmse:25.13611\n",
      "[55]\tvalidation_0-rmse:19.93983\tvalidation_1-rmse:25.10061\n",
      "[56]\tvalidation_0-rmse:19.82844\tvalidation_1-rmse:25.26345\n",
      "[57]\tvalidation_0-rmse:19.61820\tvalidation_1-rmse:25.10508\n",
      "[58]\tvalidation_0-rmse:19.64429\tvalidation_1-rmse:25.08412\n",
      "[59]\tvalidation_0-rmse:19.55094\tvalidation_1-rmse:25.27237\n",
      "[60]\tvalidation_0-rmse:19.47329\tvalidation_1-rmse:25.27128\n",
      "[61]\tvalidation_0-rmse:19.42262\tvalidation_1-rmse:25.28283\n",
      "[62]\tvalidation_0-rmse:19.42720\tvalidation_1-rmse:25.23188\n",
      "[63]\tvalidation_0-rmse:19.44604\tvalidation_1-rmse:25.08779\n",
      "[64]\tvalidation_0-rmse:19.45892\tvalidation_1-rmse:24.96141\n",
      "[65]\tvalidation_0-rmse:19.46248\tvalidation_1-rmse:24.92292\n",
      "[66]\tvalidation_0-rmse:19.35454\tvalidation_1-rmse:24.98049\n",
      "[67]\tvalidation_0-rmse:19.26687\tvalidation_1-rmse:24.92908\n",
      "[68]\tvalidation_0-rmse:19.18257\tvalidation_1-rmse:25.12859\n",
      "[69]\tvalidation_0-rmse:19.11602\tvalidation_1-rmse:25.33052\n",
      "[70]\tvalidation_0-rmse:19.06276\tvalidation_1-rmse:25.54586\n",
      "[71]\tvalidation_0-rmse:18.88183\tvalidation_1-rmse:25.52889\n",
      "[72]\tvalidation_0-rmse:18.83335\tvalidation_1-rmse:25.74721\n",
      "[73]\tvalidation_0-rmse:18.79039\tvalidation_1-rmse:25.94044\n",
      "[74]\tvalidation_0-rmse:18.46711\tvalidation_1-rmse:25.84981\n",
      "[75]\tvalidation_0-rmse:18.38895\tvalidation_1-rmse:26.10950\n",
      "[76]\tvalidation_0-rmse:18.36077\tvalidation_1-rmse:26.14007\n",
      "[77]\tvalidation_0-rmse:18.21954\tvalidation_1-rmse:25.88808\n",
      "[78]\tvalidation_0-rmse:18.24968\tvalidation_1-rmse:25.54524\n",
      "[79]\tvalidation_0-rmse:18.25015\tvalidation_1-rmse:25.36736\n",
      "[80]\tvalidation_0-rmse:18.20689\tvalidation_1-rmse:25.56940\n",
      "[81]\tvalidation_0-rmse:18.17328\tvalidation_1-rmse:25.59182\n",
      "[82]\tvalidation_0-rmse:18.16698\tvalidation_1-rmse:25.64505\n",
      "[83]\tvalidation_0-rmse:17.91376\tvalidation_1-rmse:25.74853\n",
      "[84]\tvalidation_0-rmse:17.87137\tvalidation_1-rmse:25.74670\n",
      "[85]\tvalidation_0-rmse:17.71882\tvalidation_1-rmse:25.49388\n",
      "[86]\tvalidation_0-rmse:17.62703\tvalidation_1-rmse:25.48635\n",
      "[87]\tvalidation_0-rmse:17.07116\tvalidation_1-rmse:25.39949\n",
      "[88]\tvalidation_0-rmse:16.97284\tvalidation_1-rmse:25.22025\n",
      "[89]\tvalidation_0-rmse:16.88642\tvalidation_1-rmse:25.08870\n",
      "[90]\tvalidation_0-rmse:16.93477\tvalidation_1-rmse:24.96594\n"
     ]
    }
   ],
   "source": [
    "rb_preds, rb_val_preds, rb_2023,rb_2022 = xgb_modeling(rb_df, rb_cols)"
   ]
  },
  {
   "cell_type": "code",
   "execution_count": 175,
   "id": "b9a1b44f",
   "metadata": {},
   "outputs": [
    {
     "data": {
      "text/html": [
       "<div>\n",
       "<style scoped>\n",
       "    .dataframe tbody tr th:only-of-type {\n",
       "        vertical-align: middle;\n",
       "    }\n",
       "\n",
       "    .dataframe tbody tr th {\n",
       "        vertical-align: top;\n",
       "    }\n",
       "\n",
       "    .dataframe thead th {\n",
       "        text-align: right;\n",
       "    }\n",
       "</style>\n",
       "<table border=\"1\" class=\"dataframe\">\n",
       "  <thead>\n",
       "    <tr style=\"text-align: right;\">\n",
       "      <th></th>\n",
       "      <th>player</th>\n",
       "      <th>preds</th>\n",
       "    </tr>\n",
       "  </thead>\n",
       "  <tbody>\n",
       "    <tr>\n",
       "      <th>2366</th>\n",
       "      <td>Christian McCaffrey</td>\n",
       "      <td>343.766418</td>\n",
       "    </tr>\n",
       "    <tr>\n",
       "      <th>2365</th>\n",
       "      <td>Austin Ekeler</td>\n",
       "      <td>339.474304</td>\n",
       "    </tr>\n",
       "    <tr>\n",
       "      <th>2367</th>\n",
       "      <td>Josh Jacobs</td>\n",
       "      <td>309.225494</td>\n",
       "    </tr>\n",
       "    <tr>\n",
       "      <th>2368</th>\n",
       "      <td>Derrick Henry</td>\n",
       "      <td>295.166412</td>\n",
       "    </tr>\n",
       "    <tr>\n",
       "      <th>2369</th>\n",
       "      <td>Saquon Barkley</td>\n",
       "      <td>265.912476</td>\n",
       "    </tr>\n",
       "  </tbody>\n",
       "</table>\n",
       "</div>"
      ],
      "text/plain": [
       "                   player       preds\n",
       "2366  Christian McCaffrey  343.766418\n",
       "2365        Austin Ekeler  339.474304\n",
       "2367          Josh Jacobs  309.225494\n",
       "2368        Derrick Henry  295.166412\n",
       "2369       Saquon Barkley  265.912476"
      ]
     },
     "execution_count": 175,
     "metadata": {},
     "output_type": "execute_result"
    }
   ],
   "source": [
    "rb_2023.sort_values('preds',ascending=False).head()"
   ]
  },
  {
   "cell_type": "code",
   "execution_count": 176,
   "id": "2fe9d4d0",
   "metadata": {},
   "outputs": [
    {
     "data": {
      "text/plain": [
       "19.46248136533273"
      ]
     },
     "execution_count": 176,
     "metadata": {},
     "output_type": "execute_result"
    }
   ],
   "source": [
    "rmse(rb_preds, 'xgb_preds')"
   ]
  },
  {
   "cell_type": "code",
   "execution_count": 178,
   "id": "c0aeb6d6",
   "metadata": {},
   "outputs": [
    {
     "data": {
      "text/plain": [
       "24.92291809949817"
      ]
     },
     "execution_count": 178,
     "metadata": {},
     "output_type": "execute_result"
    }
   ],
   "source": [
    "rmse(rb_val_preds, 'xgb_val_preds')"
   ]
  },
  {
   "cell_type": "code",
   "execution_count": 167,
   "id": "3a802ec2",
   "metadata": {},
   "outputs": [],
   "source": [
    "wr_cols = ['age','g','gs','tgt','rec','rec_yards','y/r','rec_tds','fmb','fl','rush_rec_tds','ppr_pts','pos_rank',\n",
    "           'adp','adp_by_pos','round', 'rec%','pts_var_avg']"
   ]
  },
  {
   "cell_type": "code",
   "execution_count": 168,
   "id": "69fa4ad1",
   "metadata": {},
   "outputs": [
    {
     "name": "stdout",
     "output_type": "stream",
     "text": [
      "[0]\tvalidation_0-rmse:105.26974\tvalidation_1-rmse:106.78987\n",
      "[1]\tvalidation_0-rmse:95.86515\tvalidation_1-rmse:97.50085\n",
      "[2]\tvalidation_0-rmse:87.37274\tvalidation_1-rmse:89.10282\n",
      "[3]\tvalidation_0-rmse:79.56367\tvalidation_1-rmse:81.38940\n",
      "[4]\tvalidation_0-rmse:72.66629\tvalidation_1-rmse:74.45000\n",
      "[5]\tvalidation_0-rmse:66.50489\tvalidation_1-rmse:68.35147\n",
      "[6]\tvalidation_0-rmse:61.03557\tvalidation_1-rmse:62.82956\n",
      "[7]\tvalidation_0-rmse:55.97034\tvalidation_1-rmse:57.83032\n",
      "[8]\tvalidation_0-rmse:51.43390\tvalidation_1-rmse:53.30497\n",
      "[9]\tvalidation_0-rmse:47.51513\tvalidation_1-rmse:49.35296\n",
      "[10]\tvalidation_0-rmse:43.89812\tvalidation_1-rmse:45.74389\n",
      "[11]\tvalidation_0-rmse:40.68483\tvalidation_1-rmse:42.55061\n",
      "[12]\tvalidation_0-rmse:37.78742\tvalidation_1-rmse:39.66707\n",
      "[13]\tvalidation_0-rmse:35.33665\tvalidation_1-rmse:37.19939\n",
      "[14]\tvalidation_0-rmse:33.03965\tvalidation_1-rmse:34.89573\n",
      "[15]\tvalidation_0-rmse:31.19844\tvalidation_1-rmse:33.10091\n",
      "[16]\tvalidation_0-rmse:29.46744\tvalidation_1-rmse:31.37431\n",
      "[17]\tvalidation_0-rmse:27.88462\tvalidation_1-rmse:29.82906\n",
      "[18]\tvalidation_0-rmse:26.46393\tvalidation_1-rmse:28.40348\n",
      "[19]\tvalidation_0-rmse:25.35398\tvalidation_1-rmse:27.28168\n",
      "[20]\tvalidation_0-rmse:24.25044\tvalidation_1-rmse:26.15749\n",
      "[21]\tvalidation_0-rmse:23.33925\tvalidation_1-rmse:25.31145\n",
      "[22]\tvalidation_0-rmse:22.63848\tvalidation_1-rmse:24.58987\n",
      "[23]\tvalidation_0-rmse:21.99390\tvalidation_1-rmse:24.05071\n",
      "[24]\tvalidation_0-rmse:21.25961\tvalidation_1-rmse:23.36017\n",
      "[25]\tvalidation_0-rmse:20.70876\tvalidation_1-rmse:22.81832\n",
      "[26]\tvalidation_0-rmse:20.17647\tvalidation_1-rmse:22.26921\n",
      "[27]\tvalidation_0-rmse:19.83176\tvalidation_1-rmse:21.96104\n",
      "[28]\tvalidation_0-rmse:19.48948\tvalidation_1-rmse:21.62029\n",
      "[29]\tvalidation_0-rmse:19.04714\tvalidation_1-rmse:21.20857\n",
      "[30]\tvalidation_0-rmse:18.74295\tvalidation_1-rmse:20.99032\n",
      "[31]\tvalidation_0-rmse:18.46670\tvalidation_1-rmse:20.70872\n",
      "[32]\tvalidation_0-rmse:18.25848\tvalidation_1-rmse:20.50718\n",
      "[33]\tvalidation_0-rmse:17.92283\tvalidation_1-rmse:20.30530\n",
      "[34]\tvalidation_0-rmse:17.61714\tvalidation_1-rmse:20.03869\n",
      "[35]\tvalidation_0-rmse:17.34251\tvalidation_1-rmse:19.79930\n",
      "[36]\tvalidation_0-rmse:17.18887\tvalidation_1-rmse:19.64924\n",
      "[37]\tvalidation_0-rmse:16.98863\tvalidation_1-rmse:19.45425\n",
      "[38]\tvalidation_0-rmse:16.82867\tvalidation_1-rmse:19.30692\n",
      "[39]\tvalidation_0-rmse:16.69781\tvalidation_1-rmse:19.18247\n",
      "[40]\tvalidation_0-rmse:16.54599\tvalidation_1-rmse:19.03864\n",
      "[41]\tvalidation_0-rmse:16.31333\tvalidation_1-rmse:18.86444\n",
      "[42]\tvalidation_0-rmse:16.12728\tvalidation_1-rmse:18.74361\n",
      "[43]\tvalidation_0-rmse:15.95989\tvalidation_1-rmse:18.63706\n",
      "[44]\tvalidation_0-rmse:15.81034\tvalidation_1-rmse:18.56667\n",
      "[45]\tvalidation_0-rmse:15.67067\tvalidation_1-rmse:18.42862\n",
      "[46]\tvalidation_0-rmse:15.54217\tvalidation_1-rmse:18.28919\n",
      "[47]\tvalidation_0-rmse:15.46565\tvalidation_1-rmse:18.21297\n",
      "[48]\tvalidation_0-rmse:15.30049\tvalidation_1-rmse:18.15393\n",
      "[49]\tvalidation_0-rmse:15.01017\tvalidation_1-rmse:18.29302\n",
      "[50]\tvalidation_0-rmse:14.81271\tvalidation_1-rmse:18.24514\n",
      "[51]\tvalidation_0-rmse:14.69891\tvalidation_1-rmse:18.16567\n",
      "[52]\tvalidation_0-rmse:14.32943\tvalidation_1-rmse:18.05462\n",
      "[53]\tvalidation_0-rmse:14.20485\tvalidation_1-rmse:17.93386\n",
      "[54]\tvalidation_0-rmse:14.11357\tvalidation_1-rmse:17.88822\n",
      "[55]\tvalidation_0-rmse:14.09247\tvalidation_1-rmse:17.88619\n",
      "[56]\tvalidation_0-rmse:13.86291\tvalidation_1-rmse:17.74421\n",
      "[57]\tvalidation_0-rmse:13.82685\tvalidation_1-rmse:17.70581\n",
      "[58]\tvalidation_0-rmse:13.64807\tvalidation_1-rmse:17.59227\n",
      "[59]\tvalidation_0-rmse:13.50374\tvalidation_1-rmse:17.50768\n",
      "[60]\tvalidation_0-rmse:13.39535\tvalidation_1-rmse:17.47402\n",
      "[61]\tvalidation_0-rmse:13.26677\tvalidation_1-rmse:17.40651\n",
      "[62]\tvalidation_0-rmse:13.16731\tvalidation_1-rmse:17.31817\n",
      "[63]\tvalidation_0-rmse:12.66841\tvalidation_1-rmse:17.23643\n",
      "[64]\tvalidation_0-rmse:12.63009\tvalidation_1-rmse:17.21185\n",
      "[65]\tvalidation_0-rmse:12.53853\tvalidation_1-rmse:17.21517\n",
      "[66]\tvalidation_0-rmse:12.09250\tvalidation_1-rmse:17.19583\n",
      "[67]\tvalidation_0-rmse:12.04258\tvalidation_1-rmse:17.21447\n",
      "[68]\tvalidation_0-rmse:11.78257\tvalidation_1-rmse:17.19639\n",
      "[69]\tvalidation_0-rmse:11.65183\tvalidation_1-rmse:17.18323\n",
      "[70]\tvalidation_0-rmse:11.56585\tvalidation_1-rmse:17.10942\n",
      "[71]\tvalidation_0-rmse:11.46047\tvalidation_1-rmse:17.12900\n",
      "[72]\tvalidation_0-rmse:11.42562\tvalidation_1-rmse:17.13270\n",
      "[73]\tvalidation_0-rmse:11.34540\tvalidation_1-rmse:17.15331\n",
      "[74]\tvalidation_0-rmse:11.26486\tvalidation_1-rmse:17.12013\n",
      "[75]\tvalidation_0-rmse:11.13895\tvalidation_1-rmse:17.12557\n",
      "[76]\tvalidation_0-rmse:11.05182\tvalidation_1-rmse:17.09126\n",
      "[77]\tvalidation_0-rmse:10.90421\tvalidation_1-rmse:17.22643\n",
      "[78]\tvalidation_0-rmse:10.81604\tvalidation_1-rmse:17.18231\n",
      "[79]\tvalidation_0-rmse:10.46562\tvalidation_1-rmse:17.17113\n",
      "[80]\tvalidation_0-rmse:10.36647\tvalidation_1-rmse:17.08621\n",
      "[81]\tvalidation_0-rmse:10.26040\tvalidation_1-rmse:17.07628\n",
      "[82]\tvalidation_0-rmse:10.23405\tvalidation_1-rmse:17.09126\n",
      "[83]\tvalidation_0-rmse:10.14161\tvalidation_1-rmse:17.11816\n",
      "[84]\tvalidation_0-rmse:9.82499\tvalidation_1-rmse:17.14759\n",
      "[85]\tvalidation_0-rmse:9.72418\tvalidation_1-rmse:17.10350\n",
      "[86]\tvalidation_0-rmse:9.62351\tvalidation_1-rmse:17.10641\n",
      "[87]\tvalidation_0-rmse:9.60690\tvalidation_1-rmse:17.06702\n",
      "[88]\tvalidation_0-rmse:9.49526\tvalidation_1-rmse:16.99375\n",
      "[89]\tvalidation_0-rmse:9.42040\tvalidation_1-rmse:16.97214\n",
      "[90]\tvalidation_0-rmse:9.24927\tvalidation_1-rmse:17.13981\n",
      "[91]\tvalidation_0-rmse:9.13999\tvalidation_1-rmse:17.26263\n",
      "[92]\tvalidation_0-rmse:9.12903\tvalidation_1-rmse:17.19608\n",
      "[93]\tvalidation_0-rmse:9.05856\tvalidation_1-rmse:17.14880\n",
      "[94]\tvalidation_0-rmse:8.97809\tvalidation_1-rmse:17.12056\n",
      "[95]\tvalidation_0-rmse:8.89736\tvalidation_1-rmse:17.16644\n",
      "[96]\tvalidation_0-rmse:8.84418\tvalidation_1-rmse:17.19826\n",
      "[97]\tvalidation_0-rmse:8.81171\tvalidation_1-rmse:17.16940\n",
      "[98]\tvalidation_0-rmse:8.73036\tvalidation_1-rmse:17.11181\n",
      "[99]\tvalidation_0-rmse:8.67915\tvalidation_1-rmse:17.13122\n",
      "[100]\tvalidation_0-rmse:8.59608\tvalidation_1-rmse:17.04343\n",
      "[101]\tvalidation_0-rmse:8.56015\tvalidation_1-rmse:17.07146\n",
      "[102]\tvalidation_0-rmse:8.48763\tvalidation_1-rmse:17.04489\n",
      "[103]\tvalidation_0-rmse:8.44427\tvalidation_1-rmse:17.08833\n",
      "[104]\tvalidation_0-rmse:8.13324\tvalidation_1-rmse:17.16495\n",
      "[105]\tvalidation_0-rmse:8.08663\tvalidation_1-rmse:17.15756\n",
      "[106]\tvalidation_0-rmse:8.07640\tvalidation_1-rmse:17.13245\n",
      "[107]\tvalidation_0-rmse:8.00756\tvalidation_1-rmse:17.12223\n",
      "[108]\tvalidation_0-rmse:7.97416\tvalidation_1-rmse:17.15529\n",
      "[109]\tvalidation_0-rmse:7.96767\tvalidation_1-rmse:17.12288\n",
      "[110]\tvalidation_0-rmse:7.81158\tvalidation_1-rmse:17.17909\n",
      "[111]\tvalidation_0-rmse:7.76561\tvalidation_1-rmse:17.15006\n",
      "[112]\tvalidation_0-rmse:7.70693\tvalidation_1-rmse:17.19501\n",
      "[113]\tvalidation_0-rmse:7.64687\tvalidation_1-rmse:17.19473\n"
     ]
    }
   ],
   "source": [
    "wr_preds, wr_val_preds, wr_2023, wr_2022 = xgb_modeling(wr_df, wr_cols)"
   ]
  },
  {
   "cell_type": "code",
   "execution_count": 170,
   "id": "4d16d0d6",
   "metadata": {},
   "outputs": [
    {
     "data": {
      "text/html": [
       "<div>\n",
       "<style scoped>\n",
       "    .dataframe tbody tr th:only-of-type {\n",
       "        vertical-align: middle;\n",
       "    }\n",
       "\n",
       "    .dataframe tbody tr th {\n",
       "        vertical-align: top;\n",
       "    }\n",
       "\n",
       "    .dataframe thead th {\n",
       "        text-align: right;\n",
       "    }\n",
       "</style>\n",
       "<table border=\"1\" class=\"dataframe\">\n",
       "  <thead>\n",
       "    <tr style=\"text-align: right;\">\n",
       "      <th></th>\n",
       "      <th>player</th>\n",
       "      <th>preds</th>\n",
       "    </tr>\n",
       "  </thead>\n",
       "  <tbody>\n",
       "    <tr>\n",
       "      <th>2529</th>\n",
       "      <td>Davante Adams</td>\n",
       "      <td>319.385406</td>\n",
       "    </tr>\n",
       "    <tr>\n",
       "      <th>2530</th>\n",
       "      <td>Stefon Diggs</td>\n",
       "      <td>319.385406</td>\n",
       "    </tr>\n",
       "    <tr>\n",
       "      <th>2527</th>\n",
       "      <td>Justin Jefferson</td>\n",
       "      <td>306.659302</td>\n",
       "    </tr>\n",
       "    <tr>\n",
       "      <th>2528</th>\n",
       "      <td>Tyreek Hill</td>\n",
       "      <td>305.748993</td>\n",
       "    </tr>\n",
       "    <tr>\n",
       "      <th>2532</th>\n",
       "      <td>A.J. Brown</td>\n",
       "      <td>303.102478</td>\n",
       "    </tr>\n",
       "  </tbody>\n",
       "</table>\n",
       "</div>"
      ],
      "text/plain": [
       "                player       preds\n",
       "2529     Davante Adams  319.385406\n",
       "2530      Stefon Diggs  319.385406\n",
       "2527  Justin Jefferson  306.659302\n",
       "2528       Tyreek Hill  305.748993\n",
       "2532        A.J. Brown  303.102478"
      ]
     },
     "execution_count": 170,
     "metadata": {},
     "output_type": "execute_result"
    }
   ],
   "source": [
    "wr_2023.sort_values('preds',ascending=False).head()"
   ]
  },
  {
   "cell_type": "code",
   "execution_count": 179,
   "id": "a8e462b7",
   "metadata": {},
   "outputs": [
    {
     "data": {
      "text/plain": [
       "9.42040150541751"
      ]
     },
     "execution_count": 179,
     "metadata": {},
     "output_type": "execute_result"
    }
   ],
   "source": [
    "rmse(wr_preds, 'xgb_preds')"
   ]
  },
  {
   "cell_type": "code",
   "execution_count": 180,
   "id": "cf945ebd",
   "metadata": {},
   "outputs": [
    {
     "data": {
      "text/plain": [
       "16.97214030975949"
      ]
     },
     "execution_count": 180,
     "metadata": {},
     "output_type": "execute_result"
    }
   ],
   "source": [
    "rmse(wr_val_preds, 'xgb_val_preds')"
   ]
  },
  {
   "cell_type": "code",
   "execution_count": 171,
   "id": "f2c7b315",
   "metadata": {},
   "outputs": [],
   "source": [
    "te_cols = ['age','g','gs','tgt','rec','rec_yards','y/r','rec_tds','fmb','fl','rush_rec_tds','ppr_pts','pos_rank',\n",
    "           'adp','adp_by_pos','round', 'rec%','pts_var_avg']"
   ]
  },
  {
   "cell_type": "code",
   "execution_count": 172,
   "id": "91677276",
   "metadata": {},
   "outputs": [
    {
     "name": "stdout",
     "output_type": "stream",
     "text": [
      "[0]\tvalidation_0-rmse:72.42422\tvalidation_1-rmse:74.11671\n",
      "[1]\tvalidation_0-rmse:66.82328\tvalidation_1-rmse:68.32488\n",
      "[2]\tvalidation_0-rmse:61.71639\tvalidation_1-rmse:63.03041\n",
      "[3]\tvalidation_0-rmse:56.92671\tvalidation_1-rmse:58.34917\n",
      "[4]\tvalidation_0-rmse:52.89070\tvalidation_1-rmse:54.37743\n",
      "[5]\tvalidation_0-rmse:49.12649\tvalidation_1-rmse:50.71610\n",
      "[6]\tvalidation_0-rmse:45.88527\tvalidation_1-rmse:47.39326\n",
      "[7]\tvalidation_0-rmse:42.83148\tvalidation_1-rmse:44.40353\n",
      "[8]\tvalidation_0-rmse:40.01579\tvalidation_1-rmse:41.62098\n",
      "[9]\tvalidation_0-rmse:37.64660\tvalidation_1-rmse:39.30435\n",
      "[10]\tvalidation_0-rmse:35.46673\tvalidation_1-rmse:37.19305\n",
      "[11]\tvalidation_0-rmse:33.59105\tvalidation_1-rmse:35.47216\n",
      "[12]\tvalidation_0-rmse:31.94049\tvalidation_1-rmse:33.92504\n",
      "[13]\tvalidation_0-rmse:30.49483\tvalidation_1-rmse:32.55304\n",
      "[14]\tvalidation_0-rmse:29.27580\tvalidation_1-rmse:31.33737\n",
      "[15]\tvalidation_0-rmse:28.13314\tvalidation_1-rmse:30.25280\n",
      "[16]\tvalidation_0-rmse:27.11428\tvalidation_1-rmse:29.28546\n",
      "[17]\tvalidation_0-rmse:26.32670\tvalidation_1-rmse:28.64309\n",
      "[18]\tvalidation_0-rmse:25.51591\tvalidation_1-rmse:27.82803\n",
      "[19]\tvalidation_0-rmse:24.88734\tvalidation_1-rmse:27.22200\n",
      "[20]\tvalidation_0-rmse:24.30059\tvalidation_1-rmse:26.67554\n",
      "[21]\tvalidation_0-rmse:23.67467\tvalidation_1-rmse:26.26959\n",
      "[22]\tvalidation_0-rmse:23.19875\tvalidation_1-rmse:25.83482\n",
      "[23]\tvalidation_0-rmse:22.78882\tvalidation_1-rmse:25.36754\n",
      "[24]\tvalidation_0-rmse:22.01894\tvalidation_1-rmse:25.03009\n",
      "[25]\tvalidation_0-rmse:21.62957\tvalidation_1-rmse:24.78178\n",
      "[26]\tvalidation_0-rmse:21.38082\tvalidation_1-rmse:24.54879\n",
      "[27]\tvalidation_0-rmse:21.11216\tvalidation_1-rmse:24.32766\n",
      "[28]\tvalidation_0-rmse:20.88048\tvalidation_1-rmse:24.11710\n",
      "[29]\tvalidation_0-rmse:20.67535\tvalidation_1-rmse:23.94745\n",
      "[30]\tvalidation_0-rmse:20.46633\tvalidation_1-rmse:23.77124\n",
      "[31]\tvalidation_0-rmse:20.22295\tvalidation_1-rmse:23.46484\n",
      "[32]\tvalidation_0-rmse:20.08629\tvalidation_1-rmse:23.42596\n",
      "[33]\tvalidation_0-rmse:19.85980\tvalidation_1-rmse:23.14613\n",
      "[34]\tvalidation_0-rmse:19.68929\tvalidation_1-rmse:23.02568\n",
      "[35]\tvalidation_0-rmse:19.50350\tvalidation_1-rmse:22.78105\n",
      "[36]\tvalidation_0-rmse:19.31453\tvalidation_1-rmse:22.57899\n",
      "[37]\tvalidation_0-rmse:19.16187\tvalidation_1-rmse:22.48073\n",
      "[38]\tvalidation_0-rmse:19.06594\tvalidation_1-rmse:22.42451\n",
      "[39]\tvalidation_0-rmse:18.74608\tvalidation_1-rmse:22.38399\n",
      "[40]\tvalidation_0-rmse:18.58395\tvalidation_1-rmse:22.31328\n",
      "[41]\tvalidation_0-rmse:18.45870\tvalidation_1-rmse:22.24361\n",
      "[42]\tvalidation_0-rmse:18.28380\tvalidation_1-rmse:22.23379\n",
      "[43]\tvalidation_0-rmse:18.15828\tvalidation_1-rmse:22.16710\n",
      "[44]\tvalidation_0-rmse:18.16622\tvalidation_1-rmse:22.18047\n",
      "[45]\tvalidation_0-rmse:18.07605\tvalidation_1-rmse:22.13565\n",
      "[46]\tvalidation_0-rmse:17.79970\tvalidation_1-rmse:21.87624\n",
      "[47]\tvalidation_0-rmse:17.64113\tvalidation_1-rmse:21.73281\n",
      "[48]\tvalidation_0-rmse:17.56888\tvalidation_1-rmse:21.70914\n",
      "[49]\tvalidation_0-rmse:17.43809\tvalidation_1-rmse:21.59908\n",
      "[50]\tvalidation_0-rmse:17.26082\tvalidation_1-rmse:21.55508\n",
      "[51]\tvalidation_0-rmse:17.10564\tvalidation_1-rmse:21.41384\n",
      "[52]\tvalidation_0-rmse:16.95584\tvalidation_1-rmse:21.27445\n",
      "[53]\tvalidation_0-rmse:16.75709\tvalidation_1-rmse:21.12730\n",
      "[54]\tvalidation_0-rmse:16.63872\tvalidation_1-rmse:21.06664\n",
      "[55]\tvalidation_0-rmse:16.55809\tvalidation_1-rmse:21.04339\n",
      "[56]\tvalidation_0-rmse:16.48057\tvalidation_1-rmse:21.02365\n",
      "[57]\tvalidation_0-rmse:16.35401\tvalidation_1-rmse:21.07952\n",
      "[58]\tvalidation_0-rmse:15.97728\tvalidation_1-rmse:20.98438\n",
      "[59]\tvalidation_0-rmse:15.63097\tvalidation_1-rmse:20.84169\n",
      "[60]\tvalidation_0-rmse:15.61910\tvalidation_1-rmse:20.84035\n",
      "[61]\tvalidation_0-rmse:15.54992\tvalidation_1-rmse:20.82691\n",
      "[62]\tvalidation_0-rmse:15.35179\tvalidation_1-rmse:20.85879\n",
      "[63]\tvalidation_0-rmse:15.26614\tvalidation_1-rmse:20.83322\n",
      "[64]\tvalidation_0-rmse:15.24720\tvalidation_1-rmse:20.79905\n",
      "[65]\tvalidation_0-rmse:15.21297\tvalidation_1-rmse:20.80450\n",
      "[66]\tvalidation_0-rmse:15.15472\tvalidation_1-rmse:20.79051\n",
      "[67]\tvalidation_0-rmse:15.03773\tvalidation_1-rmse:20.77073\n",
      "[68]\tvalidation_0-rmse:14.96124\tvalidation_1-rmse:20.79658\n",
      "[69]\tvalidation_0-rmse:14.95490\tvalidation_1-rmse:20.75636\n",
      "[70]\tvalidation_0-rmse:14.92319\tvalidation_1-rmse:20.75193\n",
      "[71]\tvalidation_0-rmse:14.84627\tvalidation_1-rmse:20.79361\n",
      "[72]\tvalidation_0-rmse:14.59169\tvalidation_1-rmse:20.73639\n",
      "[73]\tvalidation_0-rmse:14.47895\tvalidation_1-rmse:20.60658\n",
      "[74]\tvalidation_0-rmse:14.39325\tvalidation_1-rmse:20.59913\n",
      "[75]\tvalidation_0-rmse:14.31043\tvalidation_1-rmse:20.51959\n",
      "[76]\tvalidation_0-rmse:14.20335\tvalidation_1-rmse:20.38765\n",
      "[77]\tvalidation_0-rmse:14.23208\tvalidation_1-rmse:20.37150\n",
      "[78]\tvalidation_0-rmse:14.15688\tvalidation_1-rmse:20.36401\n",
      "[79]\tvalidation_0-rmse:14.07139\tvalidation_1-rmse:20.24092\n",
      "[80]\tvalidation_0-rmse:14.01963\tvalidation_1-rmse:20.22260\n",
      "[81]\tvalidation_0-rmse:13.95675\tvalidation_1-rmse:20.16410\n",
      "[82]\tvalidation_0-rmse:13.96337\tvalidation_1-rmse:20.20157\n",
      "[83]\tvalidation_0-rmse:13.74849\tvalidation_1-rmse:20.04188\n",
      "[84]\tvalidation_0-rmse:13.67732\tvalidation_1-rmse:20.02070\n",
      "[85]\tvalidation_0-rmse:13.62751\tvalidation_1-rmse:20.03037\n",
      "[86]\tvalidation_0-rmse:13.66793\tvalidation_1-rmse:20.11859\n",
      "[87]\tvalidation_0-rmse:13.61271\tvalidation_1-rmse:20.09999\n",
      "[88]\tvalidation_0-rmse:13.55462\tvalidation_1-rmse:20.09209\n",
      "[89]\tvalidation_0-rmse:13.50764\tvalidation_1-rmse:20.08750\n",
      "[90]\tvalidation_0-rmse:13.43793\tvalidation_1-rmse:19.99880\n",
      "[91]\tvalidation_0-rmse:13.41755\tvalidation_1-rmse:19.97536\n",
      "[92]\tvalidation_0-rmse:13.43149\tvalidation_1-rmse:20.00799\n",
      "[93]\tvalidation_0-rmse:13.35194\tvalidation_1-rmse:20.06662\n",
      "[94]\tvalidation_0-rmse:13.28971\tvalidation_1-rmse:20.02922\n",
      "[95]\tvalidation_0-rmse:13.22615\tvalidation_1-rmse:20.00884\n",
      "[96]\tvalidation_0-rmse:13.13984\tvalidation_1-rmse:20.01023\n",
      "[97]\tvalidation_0-rmse:13.09922\tvalidation_1-rmse:20.00146\n",
      "[98]\tvalidation_0-rmse:13.04660\tvalidation_1-rmse:19.90364\n",
      "[99]\tvalidation_0-rmse:13.00190\tvalidation_1-rmse:19.84810\n",
      "[100]\tvalidation_0-rmse:13.00492\tvalidation_1-rmse:19.83768\n",
      "[101]\tvalidation_0-rmse:12.94030\tvalidation_1-rmse:19.74423\n",
      "[102]\tvalidation_0-rmse:12.86969\tvalidation_1-rmse:19.74391\n",
      "[103]\tvalidation_0-rmse:12.66983\tvalidation_1-rmse:19.64601\n",
      "[104]\tvalidation_0-rmse:12.63516\tvalidation_1-rmse:19.60705\n",
      "[105]\tvalidation_0-rmse:12.65740\tvalidation_1-rmse:19.59498\n",
      "[106]\tvalidation_0-rmse:12.53569\tvalidation_1-rmse:19.64180\n",
      "[107]\tvalidation_0-rmse:12.49718\tvalidation_1-rmse:19.62863\n",
      "[108]\tvalidation_0-rmse:12.46724\tvalidation_1-rmse:19.63035\n",
      "[109]\tvalidation_0-rmse:12.42935\tvalidation_1-rmse:19.62331\n",
      "[110]\tvalidation_0-rmse:12.45748\tvalidation_1-rmse:19.60549\n",
      "[111]\tvalidation_0-rmse:12.27225\tvalidation_1-rmse:19.53869\n",
      "[112]\tvalidation_0-rmse:12.23932\tvalidation_1-rmse:19.48319\n",
      "[113]\tvalidation_0-rmse:12.13832\tvalidation_1-rmse:19.52616\n",
      "[114]\tvalidation_0-rmse:12.06232\tvalidation_1-rmse:19.52788\n",
      "[115]\tvalidation_0-rmse:12.01222\tvalidation_1-rmse:19.45636\n",
      "[116]\tvalidation_0-rmse:11.96886\tvalidation_1-rmse:19.43525\n",
      "[117]\tvalidation_0-rmse:11.91796\tvalidation_1-rmse:19.41079\n",
      "[118]\tvalidation_0-rmse:11.85565\tvalidation_1-rmse:19.41155\n",
      "[119]\tvalidation_0-rmse:11.68512\tvalidation_1-rmse:19.48158\n",
      "[120]\tvalidation_0-rmse:11.70123\tvalidation_1-rmse:19.53385\n",
      "[121]\tvalidation_0-rmse:11.66061\tvalidation_1-rmse:19.52066\n",
      "[122]\tvalidation_0-rmse:11.62675\tvalidation_1-rmse:19.51427\n",
      "[123]\tvalidation_0-rmse:11.59184\tvalidation_1-rmse:19.48625\n",
      "[124]\tvalidation_0-rmse:11.63138\tvalidation_1-rmse:19.54692\n",
      "[125]\tvalidation_0-rmse:11.57926\tvalidation_1-rmse:19.50726\n",
      "[126]\tvalidation_0-rmse:11.53778\tvalidation_1-rmse:19.49557\n",
      "[127]\tvalidation_0-rmse:11.48482\tvalidation_1-rmse:19.48370\n",
      "[128]\tvalidation_0-rmse:11.46072\tvalidation_1-rmse:19.48827\n",
      "[129]\tvalidation_0-rmse:11.42556\tvalidation_1-rmse:19.47948\n",
      "[130]\tvalidation_0-rmse:11.36271\tvalidation_1-rmse:19.48514\n",
      "[131]\tvalidation_0-rmse:11.25157\tvalidation_1-rmse:19.47778\n",
      "[132]\tvalidation_0-rmse:11.17045\tvalidation_1-rmse:19.47354\n",
      "[133]\tvalidation_0-rmse:11.09464\tvalidation_1-rmse:19.51704\n",
      "[134]\tvalidation_0-rmse:11.08110\tvalidation_1-rmse:19.49654\n",
      "[135]\tvalidation_0-rmse:11.01186\tvalidation_1-rmse:19.51943\n",
      "[136]\tvalidation_0-rmse:10.94667\tvalidation_1-rmse:19.61803\n",
      "[137]\tvalidation_0-rmse:10.90701\tvalidation_1-rmse:19.62010\n",
      "[138]\tvalidation_0-rmse:10.82208\tvalidation_1-rmse:19.52491\n"
     ]
    },
    {
     "name": "stdout",
     "output_type": "stream",
     "text": [
      "[139]\tvalidation_0-rmse:10.81032\tvalidation_1-rmse:19.53487\n",
      "[140]\tvalidation_0-rmse:10.75814\tvalidation_1-rmse:19.54778\n",
      "[141]\tvalidation_0-rmse:10.76607\tvalidation_1-rmse:19.60753\n",
      "[142]\tvalidation_0-rmse:10.60495\tvalidation_1-rmse:19.58301\n"
     ]
    }
   ],
   "source": [
    "te_preds, te_val_preds, te_2023, te_2022 = xgb_modeling(te_df, te_cols)"
   ]
  },
  {
   "cell_type": "code",
   "execution_count": 174,
   "id": "a67f28e7",
   "metadata": {},
   "outputs": [
    {
     "data": {
      "text/html": [
       "<div>\n",
       "<style scoped>\n",
       "    .dataframe tbody tr th:only-of-type {\n",
       "        vertical-align: middle;\n",
       "    }\n",
       "\n",
       "    .dataframe tbody tr th {\n",
       "        vertical-align: top;\n",
       "    }\n",
       "\n",
       "    .dataframe thead th {\n",
       "        text-align: right;\n",
       "    }\n",
       "</style>\n",
       "<table border=\"1\" class=\"dataframe\">\n",
       "  <thead>\n",
       "    <tr style=\"text-align: right;\">\n",
       "      <th></th>\n",
       "      <th>player</th>\n",
       "      <th>preds</th>\n",
       "    </tr>\n",
       "  </thead>\n",
       "  <tbody>\n",
       "    <tr>\n",
       "      <th>2745</th>\n",
       "      <td>Travis Kelce</td>\n",
       "      <td>248.688889</td>\n",
       "    </tr>\n",
       "    <tr>\n",
       "      <th>2746</th>\n",
       "      <td>T.J. Hockenson</td>\n",
       "      <td>212.971268</td>\n",
       "    </tr>\n",
       "    <tr>\n",
       "      <th>2747</th>\n",
       "      <td>George Kittle</td>\n",
       "      <td>188.657410</td>\n",
       "    </tr>\n",
       "    <tr>\n",
       "      <th>2748</th>\n",
       "      <td>Mark Andrews</td>\n",
       "      <td>184.977936</td>\n",
       "    </tr>\n",
       "    <tr>\n",
       "      <th>2749</th>\n",
       "      <td>Evan Engram</td>\n",
       "      <td>174.655853</td>\n",
       "    </tr>\n",
       "  </tbody>\n",
       "</table>\n",
       "</div>"
      ],
      "text/plain": [
       "              player       preds\n",
       "2745    Travis Kelce  248.688889\n",
       "2746  T.J. Hockenson  212.971268\n",
       "2747   George Kittle  188.657410\n",
       "2748    Mark Andrews  184.977936\n",
       "2749     Evan Engram  174.655853"
      ]
     },
     "execution_count": 174,
     "metadata": {},
     "output_type": "execute_result"
    }
   ],
   "source": [
    "te_2023.sort_values('preds',ascending=False).head()"
   ]
  },
  {
   "cell_type": "code",
   "execution_count": 181,
   "id": "cd9ce5b6",
   "metadata": {},
   "outputs": [
    {
     "data": {
      "text/plain": [
       "11.917962012062912"
      ]
     },
     "execution_count": 181,
     "metadata": {},
     "output_type": "execute_result"
    }
   ],
   "source": [
    "rmse(te_preds, 'xgb_preds')"
   ]
  },
  {
   "cell_type": "code",
   "execution_count": 183,
   "id": "5500dae9",
   "metadata": {},
   "outputs": [
    {
     "data": {
      "text/plain": [
       "19.410786132894856"
      ]
     },
     "execution_count": 183,
     "metadata": {},
     "output_type": "execute_result"
    }
   ],
   "source": [
    "rmse(te_val_preds, 'xgb_val_preds')"
   ]
  },
  {
   "cell_type": "code",
   "execution_count": null,
   "id": "d4975677",
   "metadata": {},
   "outputs": [],
   "source": []
  }
 ],
 "metadata": {
  "kernelspec": {
   "display_name": "Python 3 (ipykernel)",
   "language": "python",
   "name": "python3"
  },
  "language_info": {
   "codemirror_mode": {
    "name": "ipython",
    "version": 3
   },
   "file_extension": ".py",
   "mimetype": "text/x-python",
   "name": "python",
   "nbconvert_exporter": "python",
   "pygments_lexer": "ipython3",
   "version": "3.9.13"
  }
 },
 "nbformat": 4,
 "nbformat_minor": 5
}
