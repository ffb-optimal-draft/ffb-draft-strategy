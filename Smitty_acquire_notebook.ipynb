{
 "cells": [
  {
   "cell_type": "code",
   "execution_count": 1,
   "id": "8a0f454c",
   "metadata": {},
   "outputs": [],
   "source": [
    "import pandas as pd\n",
    "import numpy as np\n"
   ]
  },
  {
   "cell_type": "code",
   "execution_count": null,
   "id": "cc91c243",
   "metadata": {},
   "outputs": [],
   "source": [
    "def get_pass_data():\n",
    "    \n",
    "    pa18w1 = pd.read_csv('18paweek1 - Sheet1.csv')\n",
    "    pa18w2 = pd.read_csv('18paweek2 - Sheet1.csv')\n",
    "    pa18w3 = pd.read_csv('18paweek3 - Sheet1.csv')\n",
    "    pa18w4 = pd.read_csv('18paweek4 - Sheet1.csv')\n",
    "    pa18w5 = pd.read_csv('18paweek5 - Sheet1.csv')\n",
    "    pa18w6 = pd.read_csv('18paweek6 - Sheet1.csv')\n",
    "    pa18w7 = pd.read_csv('18paweek7 - Sheet1.csv')\n",
    "    pa18w8 = pd.read_csv('18paweek8 - Sheet1.csv')\n",
    "    pa18w9 = pd.read_csv('18paweek9 - Sheet1.csv')\n",
    "    pa18w10 = pd.read_csv('18paweek10 - Sheet1.csv')\n",
    "    pa18w11 = pd.read_csv('18paweek11 - Sheet1.csv')\n",
    "    pa18w12 = pd.read_csv('18paweek12 - Sheet1.csv')\n",
    "    pa18w13 = pd.read_csv('18paweek13 - Sheet1.csv')\n",
    "    pa18w14 = pd.read_csv('18paweek14 - Sheet1.csv')\n",
    "    pa18w15 = pd.read_csv('18paweek15 - Sheet1.csv')\n",
    "    pa18w16 = pd.read_csv('18paweek16 - Sheet1.csv')\n",
    "\n",
    "    \n",
    "    return pa18w1, pa18w2, pa18w3, pa18w4, pa18w5, pa18w6, pa18w7, pa18w8, pa18w9, pa18w10, pa18w11, pa18w12, pa18w13, pa18w14, pa18w15, pa18w16\n",
    "    "
   ]
  },
  {
   "cell_type": "code",
   "execution_count": null,
   "id": "2b96c612",
   "metadata": {
    "scrolled": true
   },
   "outputs": [],
   "source": [
    "pass_df = (pa18w1, pa18w2, pa18w3, pa18w4, \n",
    "           pa18w5, pa18w6, pa18w7, pa18w8, \n",
    "           pa18w9, pa18w10, pa18w11, pa18w12, \n",
    "           pa18w13, pa18w14, pa18w15, pa18w16) = get_pass_data()"
   ]
  },
  {
   "cell_type": "code",
   "execution_count": null,
   "id": "7227158f",
   "metadata": {},
   "outputs": [],
   "source": [
    "df_pass_18_w1 = pd.concat(pass_df)\n"
   ]
  },
  {
   "cell_type": "code",
   "execution_count": null,
   "id": "6a67f042",
   "metadata": {},
   "outputs": [],
   "source": [
    "def pass_df_clean(df):\n",
    "    \n",
    "    bad_cols = ['-9999', 'Unnamed: 0', 'Unnamed: 1', 'Unnamed: 2', 'Unnamed: 3', 'Unnamed: 4', 'Unnamed: 5', \n",
    "            'Unnamed: 6', 'Unnamed: 7', 'Unnamed: 8', 'Unnamed: 9', 'Unnamed: 11', 'Unnamed: 12', \n",
    "            'Unnamed: 13', 'Unnamed: 14', 'Unnamed: 15', 'Unnamed: 16', 'Unnamed: 17', 'Unnamed: 18', \n",
    "            'Unnamed: 19', 'Unnamed: 20', 'Unnamed: 21', 'Unnamed: 22', 'Unnamed: 23', 'Unnamed: 24', \n",
    "            'Unnamed: 25', 'Unnamed: 26', 'Unnamed: 27', 'Unnamed: 28', 'Unnamed: 29', 'Unnamed: 30', \n",
    "            'Unnamed: 31', 'Unnamed: 32', 'Unnamed: 33']\n",
    "    \n",
    "    df = df.drop(columns = bad_cols)\n",
    "    \n",
    "    drops = ['G#', 'Date', 'Rate.1', 'Yds.1', 'Sk', 'Sk%', 'Y/A', 'AY/A', 'ANY/A', 'Y/C', \n",
    "             'Cmp%', 'Unnamed: 10', 'Pick6', 'TD%', 'Int%', 'Att', 'Rate', 'Cmp', 'Att.1', 'Inc']\n",
    "    \n",
    "    df = df.drop(columns = drops)\n",
    "    \n",
    "    df['pts'] = (df['Yds'] / 25) + (df['TD'] * 4) + (df['Int'] * -2)\n",
    "    \n",
    "    return df"
   ]
  },
  {
   "cell_type": "code",
   "execution_count": null,
   "id": "62051497",
   "metadata": {},
   "outputs": [],
   "source": [
    "pass_df_clean(df_pass_18_w1)"
   ]
  },
  {
   "cell_type": "code",
   "execution_count": null,
   "id": "f5d39662",
   "metadata": {},
   "outputs": [],
   "source": [
    "df18_pass = df_pass_18_w1.to_csv('df18_pass.csv')"
   ]
  },
  {
   "cell_type": "code",
   "execution_count": null,
   "id": "02849819",
   "metadata": {},
   "outputs": [],
   "source": [
    "def get_rec_data():\n",
    "    \n",
    "    rc18w1 = pd.read_csv('18rcweek1 - Sheet1.csv')\n",
    "    rc18w2 = pd.read_csv('18rcweek2 - Sheet1.csv')\n",
    "    rc18w3 = pd.read_csv('18rcweek3 - Sheet1.csv')\n",
    "    rc18w4 = pd.read_csv('18rcweek4 - Sheet1.csv')\n",
    "    rc18w5 = pd.read_csv('18rcweek5 - Sheet1.csv')\n",
    "    rc18w6 = pd.read_csv('18rcweek6 - Sheet1.csv')\n",
    "    rc18w7 = pd.read_csv('18rcweek7 - Sheet1.csv')\n",
    "    rc18w8 = pd.read_csv('18rcweek8 - Sheet1.csv')\n",
    "    rc18w9 = pd.read_csv('18rcweek9 - Sheet1.csv')\n",
    "    rc18w10 = pd.read_csv('18rcweek10 - Sheet1.csv')\n",
    "    rc18w11 = pd.read_csv('18rcweek11 - Sheet1.csv')\n",
    "    rc18w12 = pd.read_csv('18rcweek12 - Sheet1.csv')\n",
    "    rc18w13 = pd.read_csv('18rcweek13 - Sheet1.csv')\n",
    "    rc18w14 = pd.read_csv('18rcweek14 - Sheet1.csv')\n",
    "    rc18w15 = pd.read_csv('18rcweek15 - Sheet1.csv')\n",
    "    rc18w16 = pd.read_csv('18rcweek16 - Sheet1.csv')\n",
    "\n",
    "    \n",
    "    return rc18w1, rc18w2, rc18w3, rc18w4, rc18w5, rc18w6, rc18w7, rc18w8, rc18w9, rc18w10, rc18w11, rc18w12, rc18w13, rc18w14, rc18w15, rc18w16\n",
    "    "
   ]
  },
  {
   "cell_type": "code",
   "execution_count": null,
   "id": "558fe7d7",
   "metadata": {},
   "outputs": [],
   "source": [
    "rec_df = (rc18w1, rc18w2, rc18w3, rc18w4, \n",
    "          rc18w5, rc18w6, rc18w7, rc18w8, \n",
    "          rc18w9, rc18w10, rc18w11, rc18w12, \n",
    "          rc18w13, rc18w14, rc18w15, rc18w16) = get_rec_data()"
   ]
  },
  {
   "cell_type": "code",
   "execution_count": null,
   "id": "1fdb90ef",
   "metadata": {},
   "outputs": [],
   "source": [
    "df_rec_18_w1 = pd.concat(rec_df)\n"
   ]
  },
  {
   "cell_type": "code",
   "execution_count": null,
   "id": "e1363010",
   "metadata": {},
   "outputs": [],
   "source": [
    "df18_rec = df_rec_18_w1.to_csv('df18_rec.csv')"
   ]
  },
  {
   "cell_type": "code",
   "execution_count": null,
   "id": "55a39c52",
   "metadata": {},
   "outputs": [],
   "source": [
    "bad_rc_cols = ['-9999', 'Unnamed: 0', 'Unnamed: 1', 'Unnamed: 2', 'Unnamed: 3', 'Unnamed: 4',\n",
    "            'Unnamed: 5', 'Unnamed: 6', 'Unnamed: 7', 'Unnamed: 8', 'Unnamed: 9',\n",
    "            'Unnamed: 11', 'Unnamed: 12', 'Unnamed: 13', 'Unnamed: 14',\n",
    "            'Unnamed: 15', 'Unnamed: 16', 'Unnamed: 17', 'Unnamed: 18',\n",
    "            'Unnamed: 19', 'Unnamed: 20', 'Unnamed: 21', 'Unnamed: 22',\n",
    "            'Unnamed: 23']"
   ]
  },
  {
   "cell_type": "code",
   "execution_count": null,
   "id": "4bf0104f",
   "metadata": {},
   "outputs": [],
   "source": [
    "#df_receiving_18_w1 = df_receiving_18_w1.drop(columns = bad_rc_cols)"
   ]
  },
  {
   "cell_type": "code",
   "execution_count": null,
   "id": "0cdd05cc",
   "metadata": {},
   "outputs": [],
   "source": [
    "df_rec_18_w1['pts'] = (df_rec_18_w1['Yds'] / 10) + (df_rec_18_w1['TD'] * 6) + (df_rec_18_w1['Rec'] * 1)"
   ]
  },
  {
   "cell_type": "code",
   "execution_count": null,
   "id": "80f2c3b8",
   "metadata": {},
   "outputs": [],
   "source": [
    "df_rec_18_w1"
   ]
  },
  {
   "cell_type": "code",
   "execution_count": null,
   "id": "ff35c04c",
   "metadata": {},
   "outputs": [],
   "source": [
    "rec18drops = ['G#', '-9999', '1D', 'Yds.1', 'Y/R', 'Ctch%', 'Y/Tgt', 'Date', 'Unnamed: 10', 'Tgt.1']"
   ]
  },
  {
   "cell_type": "code",
   "execution_count": null,
   "id": "bd6728a4",
   "metadata": {},
   "outputs": [],
   "source": [
    "df_rec_18_w1 = df_rec_18_w1.drop(columns = rec18drops)"
   ]
  },
  {
   "cell_type": "code",
   "execution_count": null,
   "id": "64940d94",
   "metadata": {},
   "outputs": [],
   "source": [
    "df_rec_18_w1"
   ]
  },
  {
   "cell_type": "code",
   "execution_count": null,
   "id": "61eb356e",
   "metadata": {},
   "outputs": [],
   "source": [
    "def get_rush_data():\n",
    "    \n",
    "    ru18w1 = pd.read_csv('18ruweek1 - Sheet1.csv')\n",
    "    ru18w2 = pd.read_csv('18ruweek2 - Sheet1.csv')\n",
    "    ru18w3 = pd.read_csv('18ruweek3 - Sheet1.csv')\n",
    "    ru18w4 = pd.read_csv('18ruweek4 - Sheet1.csv')\n",
    "    ru18w5 = pd.read_csv('18ruweek5 - Sheet1.csv')\n",
    "    ru18w6 = pd.read_csv('18ruweek6 - Sheet1.csv')\n",
    "    ru18w7 = pd.read_csv('18ruweek7 - Sheet1.csv')\n",
    "    ru18w8 = pd.read_csv('18ruweek8 - Sheet1.csv')\n",
    "    ru18w9 = pd.read_csv('18ruweek9 - Sheet1.csv')\n",
    "    ru18w10 = pd.read_csv('18ruweek10 - Sheet1.csv')\n",
    "    ru18w11 = pd.read_csv('18ruweek11 - Sheet1.csv')\n",
    "    ru18w12 = pd.read_csv('18ruweek12 - Sheet1.csv')\n",
    "    ru18w13 = pd.read_csv('18ruweek13 - Sheet1.csv')\n",
    "    ru18w14 = pd.read_csv('18ruweek14 - Sheet1.csv')\n",
    "    ru18w15 = pd.read_csv('18ruweek15 - Sheet1.csv')\n",
    "    ru18w16 = pd.read_csv('18ruweek16 - Sheet1.csv')\n",
    "\n",
    "    \n",
    "    return ru18w1, ru18w2, ru18w3, ru18w4, ru18w5, ru18w6, ru18w7, ru18w8, ru18w9, ru18w10, ru18w11, ru18w12, ru18w13, ru18w14, ru18w15, ru18w16\n",
    "    "
   ]
  },
  {
   "cell_type": "code",
   "execution_count": null,
   "id": "8156bc85",
   "metadata": {},
   "outputs": [],
   "source": [
    "rush_df = (ru18w1, ru18w2, ru18w3, ru18w4, \n",
    " ru18w5, ru18w6, ru18w7, ru18w8, \n",
    " ru18w9, ru18w10, ru18w11, ru18w12, \n",
    " ru18w13, ru18w14, ru18w15, ru18w16) = get_rush_data()"
   ]
  },
  {
   "cell_type": "code",
   "execution_count": null,
   "id": "51fd72d1",
   "metadata": {},
   "outputs": [],
   "source": [
    "df_rush_18_w1 = pd.concat(rush_df)"
   ]
  },
  {
   "cell_type": "code",
   "execution_count": null,
   "id": "ef3f339c",
   "metadata": {},
   "outputs": [],
   "source": [
    "df18_rush = df_rush_18_w1.to_csv('df18_rush.csv')"
   ]
  },
  {
   "cell_type": "code",
   "execution_count": null,
   "id": "187ca8c9",
   "metadata": {},
   "outputs": [],
   "source": []
  },
  {
   "cell_type": "code",
   "execution_count": null,
   "id": "22ccb5f5",
   "metadata": {},
   "outputs": [],
   "source": [
    "df_rush_18_w1.columns"
   ]
  },
  {
   "cell_type": "code",
   "execution_count": null,
   "id": "6660bea6",
   "metadata": {},
   "outputs": [],
   "source": [
    "bad_ru_cols = ['-9999', 'Unnamed: 0', 'Unnamed: 1',\n",
    "       'Unnamed: 2', 'Unnamed: 3', 'Unnamed: 4', 'Unnamed: 5', 'Unnamed: 6',\n",
    "       'Unnamed: 7', 'Unnamed: 8', 'Unnamed: 9', 'Unnamed: 10', 'Unnamed: 11', 'Unnamed: 12',\n",
    "       'Unnamed: 13', 'Unnamed: 14', 'Unnamed: 15', 'Unnamed: 16',\n",
    "       'Unnamed: 17', 'Unnamed: 18', 'Unnamed: 19', 'Unnamed: 20']"
   ]
  },
  {
   "cell_type": "code",
   "execution_count": null,
   "id": "a9470f4c",
   "metadata": {},
   "outputs": [],
   "source": [
    "df_rush_18_w1 = df_rush_18_w1.drop(columns = bad_ru_cols)"
   ]
  },
  {
   "cell_type": "code",
   "execution_count": null,
   "id": "9e19b6dd",
   "metadata": {},
   "outputs": [],
   "source": [
    "df_rush_18_w1['pts'] = (df_rush_18_w1['Yds'] / 10) + (df_rush_18_w1['TD'] * 6)"
   ]
  },
  {
   "cell_type": "code",
   "execution_count": null,
   "id": "af678049",
   "metadata": {},
   "outputs": [],
   "source": [
    "df_rush_18_w1"
   ]
  },
  {
   "cell_type": "markdown",
   "id": "a5b00a4a",
   "metadata": {},
   "source": [
    ">>>>>>> # 2019"
   ]
  },
  {
   "cell_type": "code",
   "execution_count": null,
   "id": "628711ca",
   "metadata": {},
   "outputs": [],
   "source": [
    "def get_pass_data19():\n",
    "    \n",
    "    pa19w1 = pd.read_csv('19paweek1 - Sheet1.csv')\n",
    "    pa19w2 = pd.read_csv('19paweek2 - Sheet1.csv')\n",
    "    pa19w3 = pd.read_csv('19paweek3 - Sheet1.csv')\n",
    "    pa19w4 = pd.read_csv('19paweek4 - Sheet1.csv')\n",
    "    pa19w5 = pd.read_csv('19paweek5 - Sheet1.csv')\n",
    "    pa19w6 = pd.read_csv('19paweek6 - Sheet1.csv')\n",
    "    pa19w7 = pd.read_csv('19paweek7 - Sheet1.csv')\n",
    "    pa19w8 = pd.read_csv('19paweek8 - Sheet1.csv')\n",
    "    pa19w9 = pd.read_csv('19paweek9 - Sheet1.csv')\n",
    "    pa19w10 = pd.read_csv('19paweek10 - Sheet1.csv')\n",
    "    pa19w11 = pd.read_csv('19paweek11 - Sheet1.csv')\n",
    "    pa19w12 = pd.read_csv('19paweek12 - Sheet1.csv')\n",
    "    pa19w13 = pd.read_csv('19paweek13 - Sheet1.csv')\n",
    "    pa19w14 = pd.read_csv('19paweek14 - Sheet1.csv')\n",
    "    pa19w15 = pd.read_csv('19paweek15 - Sheet1.csv')\n",
    "    pa19w16 = pd.read_csv('19paweek16 - Sheet1.csv')\n",
    "\n",
    "    \n",
    "    return pa19w1, pa19w2, pa19w3, pa19w4, pa19w5, pa19w6, pa19w7, pa19w8, pa19w9, pa19w10, pa19w11, pa19w12, pa19w13, pa19w14, pa19w15, pa19w16\n",
    "    "
   ]
  },
  {
   "cell_type": "code",
   "execution_count": null,
   "id": "3673b8f8",
   "metadata": {},
   "outputs": [],
   "source": [
    "pass_df = (pa19w1, pa19w2, pa19w3, pa19w4, pa19w5, pa19w6, \n",
    " pa19w7, pa19w8, pa19w9, pa19w10, pa19w11, pa19w12, \n",
    " pa19w13, pa19w14, pa19w15, pa19w16) = get_pass_data19()"
   ]
  },
  {
   "cell_type": "code",
   "execution_count": null,
   "id": "045fea8a",
   "metadata": {},
   "outputs": [],
   "source": [
    "df_pass_19_w1 = pd.concat(pass_df)"
   ]
  },
  {
   "cell_type": "code",
   "execution_count": null,
   "id": "11bc64d6",
   "metadata": {},
   "outputs": [],
   "source": [
    "df19_pass = df_pass_19_w1.to_csv('df19_pass.csv')"
   ]
  },
  {
   "cell_type": "code",
   "execution_count": null,
   "id": "4826b7b7",
   "metadata": {},
   "outputs": [],
   "source": [
    "def clean_df_pass19(df):\n",
    "    \n",
    "    drops = ['-9999', 'G#', 'Date', 'Rate.1', 'Yds.1', 'Sk', 'Sk%', 'Y/A', 'AY/A', 'ANY/A', 'Y/C', \n",
    "             'Cmp%', 'Unnamed: 10', 'Pick6', 'TD%', 'Int%', 'Att', 'Rate', 'Cmp', 'Att.1', 'Inc']\n",
    "    \n",
    "    df = df.drop(columns = drops)\n",
    "    \n",
    "    df['pts'] = (df['Yds'] / 25) + (df['TD'] * 4) + (df['Int'] * -2)\n",
    "    \n",
    "    return df\n",
    "\n",
    "    "
   ]
  },
  {
   "cell_type": "code",
   "execution_count": null,
   "id": "27c7ea71",
   "metadata": {},
   "outputs": [],
   "source": [
    "clean_df_pass19(df_pass_19_w1)"
   ]
  },
  {
   "cell_type": "code",
   "execution_count": null,
   "id": "d424bafb",
   "metadata": {},
   "outputs": [],
   "source": [
    "def get_rec_data19():\n",
    "    \n",
    "    rc19w1 = pd.read_csv('19rcweek1 - Sheet1.csv')\n",
    "    rc19w2 = pd.read_csv('19rcweek2 - Sheet1.csv')\n",
    "    rc19w3 = pd.read_csv('19rcweek3 - Sheet1.csv')\n",
    "    rc19w4 = pd.read_csv('19rcweek4 - Sheet1.csv')\n",
    "    rc19w5 = pd.read_csv('19rcweek5 - Sheet1.csv')\n",
    "    rc19w6 = pd.read_csv('19rcweek6 - Sheet1.csv')\n",
    "    rc19w7 = pd.read_csv('19rcweek7 - Sheet1.csv')\n",
    "    rc19w8 = pd.read_csv('19rcweek8 - Sheet1.csv')\n",
    "    rc19w9 = pd.read_csv('19rcweek9 - Sheet1.csv')\n",
    "    rc19w10 = pd.read_csv('19rcweek10 - Sheet1.csv')\n",
    "    rc19w11 = pd.read_csv('19rcweek11 - Sheet1.csv')\n",
    "    rc19w12 = pd.read_csv('19rcweek12 - Sheet1.csv')\n",
    "    rc19w13 = pd.read_csv('19rcweek13 - Sheet1.csv')\n",
    "    rc19w14 = pd.read_csv('19rcweek14 - Sheet1.csv')\n",
    "    rc19w15 = pd.read_csv('19rcweek15 - Sheet1.csv')\n",
    "    rc19w16 = pd.read_csv('19rcweek16 - Sheet1.csv')\n",
    "\n",
    "    \n",
    "    return rc19w1, rc19w2, rc19w3, rc19w4, rc19w5, rc19w6, rc19w7, rc19w8, rc19w9, rc19w10, rc19w11, rc19w12, rc19w13, rc19w14, rc19w15, rc19w16\n",
    "    "
   ]
  },
  {
   "cell_type": "code",
   "execution_count": null,
   "id": "369b7688",
   "metadata": {},
   "outputs": [],
   "source": [
    "rec_df = (rc19w1, rc19w2, rc19w3, rc19w4, \n",
    "          rc19w5, rc19w6, rc19w7, rc19w8, \n",
    "          rc19w9, rc19w10, rc19w11, rc19w12, \n",
    "          rc19w13, rc19w14, rc19w15, rc19w16) = get_rec_data19()"
   ]
  },
  {
   "cell_type": "code",
   "execution_count": null,
   "id": "aad6f0bb",
   "metadata": {},
   "outputs": [],
   "source": [
    "df_rec_19_w1 = pd.concat(rec_df)\n"
   ]
  },
  {
   "cell_type": "code",
   "execution_count": null,
   "id": "8906196f",
   "metadata": {},
   "outputs": [],
   "source": [
    "df19_rec = df_rec_19_w1.to_csv('df19_rec.csv')"
   ]
  },
  {
   "cell_type": "code",
   "execution_count": null,
   "id": "31bff3dc",
   "metadata": {},
   "outputs": [],
   "source": [
    "df_rec_19_w1['pts'] = (df_rec_19_w1['Yds'] / 10) + (df_rec_19_w1['TD'] * 6) + (df_rec_19_w1['Rec'] * 1)"
   ]
  },
  {
   "cell_type": "code",
   "execution_count": null,
   "id": "a3cecaa7",
   "metadata": {},
   "outputs": [],
   "source": [
    "rec19drops = ['G#', '-9999', '1D', 'Yds.1', 'Y/R', 'Ctch%', 'Y/Tgt', 'Date', 'Unnamed: 10', 'Tgt.1']"
   ]
  },
  {
   "cell_type": "code",
   "execution_count": null,
   "id": "90876659",
   "metadata": {},
   "outputs": [],
   "source": [
    "df_rec_19_w1 = df_rec_19_w1.drop(columns = rec19drops)"
   ]
  },
  {
   "cell_type": "code",
   "execution_count": null,
   "id": "2d53d065",
   "metadata": {},
   "outputs": [],
   "source": [
    "df_rec_19_w1"
   ]
  },
  {
   "cell_type": "code",
   "execution_count": null,
   "id": "5925152e",
   "metadata": {},
   "outputs": [],
   "source": [
    "def get_rush_data19():\n",
    "    \n",
    "    ru19w1 = pd.read_csv('19ruweek1 - Sheet1.csv')\n",
    "    ru19w2 = pd.read_csv('19ruweek2 - Sheet1.csv')\n",
    "    ru19w3 = pd.read_csv('19ruweek3 - Sheet1.csv')\n",
    "    ru19w4 = pd.read_csv('19ruweek4 - Sheet1.csv')\n",
    "    ru19w5 = pd.read_csv('19ruweek5 - Sheet1.csv')\n",
    "    ru19w6 = pd.read_csv('19ruweek6 - Sheet1.csv')\n",
    "    ru19w7 = pd.read_csv('19ruweek7 - Sheet1.csv')\n",
    "    ru19w8 = pd.read_csv('19ruweek8 - Sheet1.csv')\n",
    "    ru19w9 = pd.read_csv('19ruweek9 - Sheet1.csv')\n",
    "    ru19w10 = pd.read_csv('19ruweek10 - Sheet1.csv')\n",
    "    ru19w11 = pd.read_csv('19ruweek11 - Sheet1.csv')\n",
    "    ru19w12 = pd.read_csv('19ruweek12 - Sheet1.csv')\n",
    "    ru19w13 = pd.read_csv('19ruweek13 - Sheet1.csv')\n",
    "    ru19w14 = pd.read_csv('19ruweek14 - Sheet1.csv')\n",
    "    ru19w15 = pd.read_csv('19ruweek15 - Sheet1.csv')\n",
    "    ru19w16 = pd.read_csv('19ruweek16 - Sheet1.csv')\n",
    "\n",
    "    \n",
    "    return ru19w1, ru19w2, ru19w3, ru19w4, ru19w5, ru19w6, ru19w7, ru19w8, ru19w9, ru19w10, ru19w11, ru19w12, ru19w13, ru19w14, ru19w15, ru19w16\n",
    "    "
   ]
  },
  {
   "cell_type": "code",
   "execution_count": null,
   "id": "56cb549e",
   "metadata": {},
   "outputs": [],
   "source": [
    "rush_df = (ru19w1, ru19w2, ru19w3, ru19w4, \n",
    "           ru19w5, ru19w6, ru19w7, ru19w8, \n",
    "           ru19w9, ru19w10, ru19w11, ru19w12, \n",
    "           ru19w13, ru19w14, ru19w15, ru19w16) = get_rush_data19()"
   ]
  },
  {
   "cell_type": "code",
   "execution_count": null,
   "id": "bf297753",
   "metadata": {},
   "outputs": [],
   "source": [
    "df_rush_19_w1 = pd.concat(rush_df)"
   ]
  },
  {
   "cell_type": "code",
   "execution_count": null,
   "id": "2dcc3dca",
   "metadata": {},
   "outputs": [],
   "source": [
    "df19_rush = df_rush_19_w1.to_csv('df19_rush.csv')"
   ]
  },
  {
   "cell_type": "code",
   "execution_count": null,
   "id": "03c93455",
   "metadata": {},
   "outputs": [],
   "source": [
    "rush19drop = ['-9999', 'G#', 'Att', 'Att.1', 'Yds.1', 'Y/A', '1D', 'Unnamed: 10', 'Date']"
   ]
  },
  {
   "cell_type": "code",
   "execution_count": null,
   "id": "5d43f83f",
   "metadata": {},
   "outputs": [],
   "source": [
    "df_rush_19_w1 = df_rush_19_w1.drop(columns = rush19drop)"
   ]
  },
  {
   "cell_type": "code",
   "execution_count": null,
   "id": "b031c620",
   "metadata": {},
   "outputs": [],
   "source": [
    "df_rush_19_w1['pts'] = (df_rush_19_w1['Yds'] / 10) + (df_rush_19_w1['TD'] * 6)"
   ]
  },
  {
   "cell_type": "code",
   "execution_count": null,
   "id": "864975c0",
   "metadata": {},
   "outputs": [],
   "source": [
    "df_rush_19_w1"
   ]
  },
  {
   "cell_type": "markdown",
   "id": "6827fed9",
   "metadata": {},
   "source": [
    ">>>>>>> # 2020"
   ]
  },
  {
   "cell_type": "code",
   "execution_count": null,
   "id": "e083b5d1",
   "metadata": {},
   "outputs": [],
   "source": [
    "def get_pass_data20():\n",
    "    \n",
    "    pa20w1 = pd.read_csv('20paweek1 - Sheet1.csv')\n",
    "    pa20w2 = pd.read_csv('20paweek2 - Sheet1.csv')\n",
    "    pa20w3 = pd.read_csv('20paweek3 - Sheet1.csv')\n",
    "    pa20w4 = pd.read_csv('20paweek4 - Sheet1.csv')\n",
    "    pa20w5 = pd.read_csv('20paweek5 - Sheet1.csv')\n",
    "    pa20w6 = pd.read_csv('20paweek6 - Sheet1.csv')\n",
    "    pa20w7 = pd.read_csv('20paweek7 - Sheet1.csv')\n",
    "    pa20w8 = pd.read_csv('20paweek8 - Sheet1.csv')\n",
    "    pa20w9 = pd.read_csv('20paweek9 - Sheet1.csv')\n",
    "    pa20w10 = pd.read_csv('20paweek10 - Sheet1.csv')\n",
    "    pa20w11 = pd.read_csv('20paweek11 - Sheet1.csv')\n",
    "    pa20w12 = pd.read_csv('20paweek12 - Sheet1.csv')\n",
    "    pa20w13 = pd.read_csv('20paweek13 - Sheet1.csv')\n",
    "    pa20w14 = pd.read_csv('20paweek14 - Sheet1.csv')\n",
    "    pa20w15 = pd.read_csv('20paweek15 - Sheet1.csv')\n",
    "    pa20w16 = pd.read_csv('20paweek16 - Sheet1.csv')\n",
    "\n",
    "    \n",
    "    return pa20w1, pa20w2, pa20w3, pa20w4, pa20w5, pa20w6, pa20w7, pa20w8, pa20w9, pa20w10, pa20w11, pa20w12, pa20w13, pa20w14, pa20w15, pa20w16"
   ]
  },
  {
   "cell_type": "code",
   "execution_count": null,
   "id": "12d1e711",
   "metadata": {},
   "outputs": [],
   "source": [
    "pass_df = (pa20w1, pa20w2, pa20w3, pa20w4, pa20w5, \n",
    "           pa20w6, pa20w7, pa20w8, pa20w9, pa20w10, \n",
    "           pa20w11, pa20w12, pa20w13, pa20w14, pa20w15, \n",
    "           pa20w16) = get_pass_data()"
   ]
  },
  {
   "cell_type": "code",
   "execution_count": null,
   "id": "c6c7296c",
   "metadata": {},
   "outputs": [],
   "source": [
    "df_pass_20_w1 = pd.concat(pass_df)\n"
   ]
  },
  {
   "cell_type": "code",
   "execution_count": null,
   "id": "929d6996",
   "metadata": {},
   "outputs": [],
   "source": [
    "df_pass_20_w1['pts'] = (df_pass_20_w1['Yds'] / 25) + (df_pass_20_w1['TD'] * 4) + (df_pass_20_w1['Int'] * -2)\n"
   ]
  },
  {
   "cell_type": "code",
   "execution_count": null,
   "id": "7152a6a7",
   "metadata": {},
   "outputs": [],
   "source": [
    "df_pass_20_w1"
   ]
  },
  {
   "cell_type": "code",
   "execution_count": null,
   "id": "c5ab00a3",
   "metadata": {},
   "outputs": [],
   "source": [
    "df20_pass = df_pass_20_w1.to_csv('df20_pass.csv')"
   ]
  },
  {
   "cell_type": "code",
   "execution_count": null,
   "id": "0aab6f4c",
   "metadata": {},
   "outputs": [],
   "source": [
    "def get_rec_data20():\n",
    "    \n",
    "    rc20w1 = pd.read_csv('20rcweek1 - Sheet1.csv')\n",
    "    rc20w2 = pd.read_csv('20rcweek2 - Sheet1.csv')\n",
    "    rc20w3 = pd.read_csv('20rcweek3 - Sheet1.csv')\n",
    "    rc20w4 = pd.read_csv('20rcweek4 - Sheet1.csv')\n",
    "    rc20w5 = pd.read_csv('20rcweek5 - Sheet1.csv')\n",
    "    rc20w6 = pd.read_csv('20rcweek6 - Sheet1.csv')\n",
    "    rc20w7 = pd.read_csv('20rcweek7 - Sheet1.csv')\n",
    "    rc20w8 = pd.read_csv('20rcweek8 - Sheet1.csv')\n",
    "    rc20w9 = pd.read_csv('20rcweek9 - Sheet1.csv')\n",
    "    rc20w10 = pd.read_csv('20rcweek10 - Sheet1.csv')\n",
    "    rc20w11 = pd.read_csv('20rcweek11 - Sheet1.csv')\n",
    "    rc20w12 = pd.read_csv('20rcweek12 - Sheet1.csv')\n",
    "    rc20w13 = pd.read_csv('20rcweek13 - Sheet1.csv')\n",
    "    rc20w14 = pd.read_csv('20rcweek14 - Sheet1.csv')\n",
    "    rc20w15 = pd.read_csv('20rcweek15 - Sheet1.csv')\n",
    "    rc20w16 = pd.read_csv('20rcweek16 - Sheet1.csv')\n",
    "\n",
    "    \n",
    "    return rc20w1, rc20w2, rc20w3, rc20w4, rc20w5, rc20w6, rc20w7, rc20w8, rc20w9, rc20w10, rc20w11, rc20w12, rc20w13, rc20w14, rc20w15, rc20w16\n",
    "    "
   ]
  },
  {
   "cell_type": "code",
   "execution_count": null,
   "id": "41a4f543",
   "metadata": {},
   "outputs": [],
   "source": [
    "rec_df20 = (rc20w1, rc20w2, rc20w3, rc20w4, rc20w5, \n",
    "            rc20w6, rc20w7, rc20w8, rc20w9, rc20w10, \n",
    "            rc20w11, rc20w12, rc20w13, rc20w14, rc20w15, \n",
    "            rc20w16) = get_rec_data20()"
   ]
  },
  {
   "cell_type": "code",
   "execution_count": null,
   "id": "a094aebb",
   "metadata": {},
   "outputs": [],
   "source": [
    "df_rec_20_w1 = pd.concat(rec_df20)\n"
   ]
  },
  {
   "cell_type": "code",
   "execution_count": null,
   "id": "b9291236",
   "metadata": {},
   "outputs": [],
   "source": [
    "df_rec_20_w1['pts'] = (df_rec_20_w1['Yds'] / 10) + (df_rec_20_w1['TD'] * 6) + (df_rec_20_w1['Rec'] * 1)"
   ]
  },
  {
   "cell_type": "code",
   "execution_count": null,
   "id": "482e1229",
   "metadata": {},
   "outputs": [],
   "source": [
    "df20_rec = df_rec_20_w1.to_csv('df20_rec.csv')"
   ]
  },
  {
   "cell_type": "code",
   "execution_count": null,
   "id": "8ea3c64d",
   "metadata": {},
   "outputs": [],
   "source": [
    "def get_rush_data20():\n",
    "    \n",
    "    ru20w1 = pd.read_csv('20ruweek1 - Sheet1.csv')\n",
    "    ru20w2 = pd.read_csv('20ruweek2 - Sheet1.csv')\n",
    "    ru20w3 = pd.read_csv('20ruweek3 - Sheet1.csv')\n",
    "    ru20w4 = pd.read_csv('20ruweek4 - Sheet1.csv')\n",
    "    ru20w5 = pd.read_csv('20ruweek5 - Sheet1.csv')\n",
    "    ru20w6 = pd.read_csv('20ruweek6 - Sheet1.csv')\n",
    "    ru20w7 = pd.read_csv('20ruweek7 - Sheet1.csv')\n",
    "    ru20w8 = pd.read_csv('20ruweek8 - Sheet1.csv')\n",
    "    ru20w9 = pd.read_csv('20ruweek9 - Sheet1.csv')\n",
    "    ru20w10 = pd.read_csv('20ruweek10 - Sheet1.csv')\n",
    "    ru20w11 = pd.read_csv('20ruweek11 - Sheet1.csv')\n",
    "    ru20w12 = pd.read_csv('20ruweek12 - Sheet1.csv')\n",
    "    ru20w13 = pd.read_csv('20ruweek13 - Sheet1.csv')\n",
    "    ru20w14 = pd.read_csv('20ruweek14 - Sheet1.csv')\n",
    "    ru20w15 = pd.read_csv('20ruweek15 - Sheet1.csv')\n",
    "    ru20w16 = pd.read_csv('20ruweek16 - Sheet1.csv')\n",
    "\n",
    "    \n",
    "    return ru20w1, ru20w2, ru20w3, ru20w4, ru20w5, ru20w6, ru20w7, ru20w8, ru20w9, ru20w10, ru20w11, ru20w12, ru20w13, ru20w14, ru20w15, ru20w16\n",
    "    "
   ]
  },
  {
   "cell_type": "code",
   "execution_count": null,
   "id": "8d1f6b81",
   "metadata": {},
   "outputs": [],
   "source": [
    "rush_df20 = (ru20w1, ru20w2, ru20w3, ru20w4, ru20w5, \n",
    "             ru20w6, ru20w7, ru20w8, ru20w9, ru20w10, \n",
    "             ru20w11, ru20w12, ru20w13, ru20w14, ru20w15, \n",
    "             ru20w16) = get_rush_data20()"
   ]
  },
  {
   "cell_type": "code",
   "execution_count": null,
   "id": "e65686fd",
   "metadata": {},
   "outputs": [],
   "source": [
    "df_rush_20_w1 = pd.concat(rush_df20)"
   ]
  },
  {
   "cell_type": "code",
   "execution_count": null,
   "id": "285abc60",
   "metadata": {},
   "outputs": [],
   "source": [
    "df_rush_20_w1['pts'] = (df_rush_20_w1['Yds'] / 10) + (df_rush_20_w1['TD'] * 6)"
   ]
  },
  {
   "cell_type": "code",
   "execution_count": null,
   "id": "c1c7a2b5",
   "metadata": {},
   "outputs": [],
   "source": [
    "df20_rush = df_rush_20_w1.to_csv('df20_rush.csv')"
   ]
  },
  {
   "cell_type": "markdown",
   "id": "096656e6",
   "metadata": {},
   "source": [
    ">>>>>>> # 2021"
   ]
  },
  {
   "cell_type": "code",
   "execution_count": null,
   "id": "e7e79dad",
   "metadata": {},
   "outputs": [],
   "source": [
    "def get_pass_data21():\n",
    "    \n",
    "    pa21w1 = pd.read_csv('21paweek1 - Sheet1.csv')\n",
    "    pa21w2 = pd.read_csv('21paweek2 - Sheet1.csv')\n",
    "    pa21w3 = pd.read_csv('21paweek3 - Sheet1.csv')\n",
    "    pa21w4 = pd.read_csv('21paweek4 - Sheet1.csv')\n",
    "    pa21w5 = pd.read_csv('21paweek5 - Sheet1.csv')\n",
    "    pa21w6 = pd.read_csv('21paweek6 - Sheet1.csv')\n",
    "    pa21w7 = pd.read_csv('21paweek7 - Sheet1.csv')\n",
    "    pa21w8 = pd.read_csv('21paweek8 - Sheet1.csv')\n",
    "    pa21w9 = pd.read_csv('21paweek9 - Sheet1.csv')\n",
    "    pa21w10 = pd.read_csv('21paweek10 - Sheet1.csv')\n",
    "    pa21w11 = pd.read_csv('21paweek11 - Sheet1.csv')\n",
    "    pa21w12 = pd.read_csv('21paweek12 - Sheet1.csv')\n",
    "    pa21w13 = pd.read_csv('21paweek13 - Sheet1.csv')\n",
    "    pa21w14 = pd.read_csv('21paweek14 - Sheet1.csv')\n",
    "    pa21w15 = pd.read_csv('21paweek15 - Sheet1.csv')\n",
    "    pa21w16 = pd.read_csv('21paweek16 - Sheet1.csv')\n",
    "    pa21w17 = pd.read_csv('21paweek17 - Sheet1.csv')\n",
    "\n",
    "\n",
    "    \n",
    "    return pa21w1, pa21w2, pa21w3, pa21w4, pa21w5, pa21w6, pa21w7, pa21w8, pa21w9, pa21w10, pa21w11, pa21w12, pa21w13, pa21w14, pa21w15, pa21w16, pa21w17"
   ]
  },
  {
   "cell_type": "code",
   "execution_count": null,
   "id": "b081324b",
   "metadata": {},
   "outputs": [],
   "source": [
    "pass_df21 = (pa21w1, pa21w2, pa21w3, pa21w4, pa21w5, \n",
    "             pa21w6, pa21w7, pa21w8, pa21w9, pa21w10, \n",
    "             pa21w11, pa21w12, pa21w13, pa21w14, pa21w15, \n",
    "             pa21w16, pa21w17) = get_pass_data21()"
   ]
  },
  {
   "cell_type": "code",
   "execution_count": null,
   "id": "ce5071cf",
   "metadata": {},
   "outputs": [],
   "source": [
    "df_pass_21_w1 = pd.concat(pass_df21)\n"
   ]
  },
  {
   "cell_type": "code",
   "execution_count": null,
   "id": "0eac909c",
   "metadata": {},
   "outputs": [],
   "source": [
    "df_pass_21_w1['pts'] = (df_pass_21_w1['Yds'] / 25) + (df_pass_21_w1['TD'] * 4) + (df_pass_21_w1['Int'] * -2)\n"
   ]
  },
  {
   "cell_type": "code",
   "execution_count": null,
   "id": "d259a5b3",
   "metadata": {},
   "outputs": [],
   "source": [
    "df21_pass = df_pass_21_w1.to_csv('df21_pass.csv')"
   ]
  },
  {
   "cell_type": "code",
   "execution_count": null,
   "id": "e0566f50",
   "metadata": {},
   "outputs": [],
   "source": [
    "def get_rec_data21():\n",
    "    \n",
    "    rc21w1 = pd.read_csv('21rcweek1 - Sheet1.csv')\n",
    "    rc21w2 = pd.read_csv('21rcweek2 - Sheet1.csv')\n",
    "    rc21w3 = pd.read_csv('21rcweek3 - Sheet1.csv')\n",
    "    rc21w4 = pd.read_csv('21rcweek4 - Sheet1.csv')\n",
    "    rc21w5 = pd.read_csv('21rcweek5 - Sheet1.csv')\n",
    "    rc21w6 = pd.read_csv('21rcweek6 - Sheet1.csv')\n",
    "    rc21w7 = pd.read_csv('21rcweek7 - Sheet1.csv')\n",
    "    rc21w8 = pd.read_csv('21rcweek8 - Sheet1.csv')\n",
    "    rc21w9 = pd.read_csv('21rcweek9 - Sheet1.csv')\n",
    "    rc21w10 = pd.read_csv('21rcweek10 - Sheet1.csv')\n",
    "    rc21w11 = pd.read_csv('21rcweek11 - Sheet1.csv')\n",
    "    rc21w12 = pd.read_csv('21rcweek12 - Sheet1.csv')\n",
    "    rc21w13 = pd.read_csv('21rcweek13 - Sheet1.csv')\n",
    "    rc21w14 = pd.read_csv('21rcweek14 - Sheet1.csv')\n",
    "    rc21w15 = pd.read_csv('21rcweek15 - Sheet1.csv')\n",
    "    rc21w16 = pd.read_csv('21rcweek16 - Sheet1.csv')\n",
    "    rc21w17 = pd.read_csv('21rcweek17 - Sheet1.csv')\n",
    "\n",
    "\n",
    "    \n",
    "    return rc21w1, rc21w2, rc21w3, rc21w4, rc21w5, rc21w6, rc21w7, rc21w8, rc21w9, rc21w10, rc21w11, rc21w12, rc21w13, rc21w14, rc21w15, rc21w16, rc21w17\n",
    "    "
   ]
  },
  {
   "cell_type": "code",
   "execution_count": null,
   "id": "b4aa7c37",
   "metadata": {},
   "outputs": [],
   "source": [
    "rec_df21 = (rc21w1, rc21w2, rc21w3, rc21w4, rc21w5, \n",
    "            rc21w6, rc21w7, rc21w8, rc21w9, rc21w10, \n",
    "            rc21w11, rc21w12, rc21w13, rc21w14, rc21w15, \n",
    "            rc21w16, rc21w17) = get_rec_data21()"
   ]
  },
  {
   "cell_type": "code",
   "execution_count": null,
   "id": "228cc001",
   "metadata": {},
   "outputs": [],
   "source": [
    "df_rec_21_w1 = pd.concat(rec_df21)"
   ]
  },
  {
   "cell_type": "code",
   "execution_count": null,
   "id": "d58d3f1d",
   "metadata": {},
   "outputs": [],
   "source": [
    "df_rec_21_w1['pts'] = (df_rec_21_w1['Yds'] / 10) + (df_rec_21_w1['TD'] * 6) + (df_rec_21_w1['Rec'] * 1)"
   ]
  },
  {
   "cell_type": "code",
   "execution_count": null,
   "id": "d5e75504",
   "metadata": {},
   "outputs": [],
   "source": [
    "df21_rec = df_rec_21_w1.to_csv('df21_rec.csv')"
   ]
  },
  {
   "cell_type": "code",
   "execution_count": null,
   "id": "d8d1b667",
   "metadata": {},
   "outputs": [],
   "source": [
    "def get_rush_data21():\n",
    "    \n",
    "    ru21w1 = pd.read_csv('21ruweek1 - Sheet1.csv')\n",
    "    ru21w2 = pd.read_csv('21ruweek2 - Sheet1.csv')\n",
    "    ru21w3 = pd.read_csv('21ruweek3 - Sheet1.csv')\n",
    "    ru21w4 = pd.read_csv('21ruweek4 - Sheet1.csv')\n",
    "    ru21w5 = pd.read_csv('21ruweek5 - Sheet1.csv')\n",
    "    ru21w6 = pd.read_csv('21ruweek6 - Sheet1.csv')\n",
    "    ru21w7 = pd.read_csv('21ruweek7 - Sheet1.csv')\n",
    "    ru21w8 = pd.read_csv('21ruweek8 - Sheet1.csv')\n",
    "    ru21w9 = pd.read_csv('21ruweek9 - Sheet1.csv')\n",
    "    ru21w10 = pd.read_csv('21ruweek10 - Sheet1.csv')\n",
    "    ru21w11 = pd.read_csv('21ruweek11 - Sheet1.csv')\n",
    "    ru21w12 = pd.read_csv('21ruweek12 - Sheet1.csv')\n",
    "    ru21w13 = pd.read_csv('21ruweek13 - Sheet1.csv')\n",
    "    ru21w14 = pd.read_csv('21ruweek14 - Sheet1.csv')\n",
    "    ru21w15 = pd.read_csv('21ruweek15 - Sheet1.csv')\n",
    "    ru21w16 = pd.read_csv('21ruweek16 - Sheet1.csv')\n",
    "    ru21w17 = pd.read_csv('21ruweek17 - Sheet1.csv')\n",
    "\n",
    "    \n",
    "    return ru21w1, ru21w2, ru21w3, ru21w4, ru21w5, ru21w6, ru21w7, ru21w8, ru21w9, ru21w10, ru21w11, ru21w12, ru21w13, ru21w14, ru21w15, ru21w16, ru21w17\n",
    "    "
   ]
  },
  {
   "cell_type": "code",
   "execution_count": null,
   "id": "fe21d0cd",
   "metadata": {},
   "outputs": [],
   "source": [
    "rush_df21 = (ru21w1, ru21w2, ru21w3, ru21w4, ru21w5, \n",
    "             ru21w6, ru21w7, ru21w8, ru21w9, ru21w10, \n",
    "             ru21w11, ru21w12, ru21w13, ru21w14, ru21w15, \n",
    "             ru21w16, ru21w17) = get_rush_data21()"
   ]
  },
  {
   "cell_type": "code",
   "execution_count": null,
   "id": "22ae6b65",
   "metadata": {},
   "outputs": [],
   "source": [
    "df_rush_21_w1 = pd.concat(rush_df21)"
   ]
  },
  {
   "cell_type": "code",
   "execution_count": null,
   "id": "774e39ab",
   "metadata": {},
   "outputs": [],
   "source": [
    "df_rush_21_w1['pts'] = (df_rush_21_w1['Yds'] / 10) + (df_rush_21_w1['TD'] * 6)"
   ]
  },
  {
   "cell_type": "code",
   "execution_count": null,
   "id": "ce323223",
   "metadata": {},
   "outputs": [],
   "source": [
    "df21_rush = df_rush_21_w1.to_csv('df21_rush.csv')"
   ]
  },
  {
   "cell_type": "markdown",
   "id": "52353207",
   "metadata": {},
   "source": [
    ">>>>>>> # 2022"
   ]
  },
  {
   "cell_type": "code",
   "execution_count": null,
   "id": "11fd32b0",
   "metadata": {},
   "outputs": [],
   "source": [
    "def get_pass_data22():\n",
    "    \n",
    "    pa22w1 = pd.read_csv('22paweek1 - Sheet1.csv')\n",
    "    pa22w2 = pd.read_csv('22paweek2 - Sheet1.csv')\n",
    "    pa22w3 = pd.read_csv('22paweek3 - Sheet1.csv')\n",
    "    pa22w4 = pd.read_csv('22paweek4 - Sheet1.csv')\n",
    "    pa22w5 = pd.read_csv('22paweek5 - Sheet1.csv')\n",
    "    pa22w6 = pd.read_csv('22paweek6 - Sheet1.csv')\n",
    "    pa22w7 = pd.read_csv('22paweek7 - Sheet1.csv')\n",
    "    pa22w8 = pd.read_csv('22paweek8 - Sheet1.csv')\n",
    "    pa22w9 = pd.read_csv('22paweek9 - Sheet1.csv')\n",
    "    pa22w10 = pd.read_csv('22paweek10 - Sheet1.csv')\n",
    "    pa22w11 = pd.read_csv('22paweek11 - Sheet1.csv')\n",
    "    pa22w12 = pd.read_csv('22paweek12 - Sheet1.csv')\n",
    "    pa22w13 = pd.read_csv('22paweek13 - Sheet1.csv')\n",
    "    pa22w14 = pd.read_csv('22paweek14 - Sheet1.csv')\n",
    "    pa22w15 = pd.read_csv('22paweek15 - Sheet1.csv')\n",
    "    pa22w16 = pd.read_csv('22paweek16 - Sheet1.csv')\n",
    "    pa22w17 = pd.read_csv('22paweek17 - Sheet1.csv')\n",
    "\n",
    "\n",
    "    \n",
    "    return pa22w1, pa22w2, pa22w3, pa22w4, pa22w5, pa22w6, pa22w7, pa22w8, pa22w9, pa22w10, pa22w11, pa22w12, pa22w13, pa22w14, pa22w15, pa22w16, pa22w17"
   ]
  },
  {
   "cell_type": "code",
   "execution_count": null,
   "id": "bc9d2470",
   "metadata": {},
   "outputs": [],
   "source": [
    "pass_df22 = (pa22w1, pa22w2, pa22w3, pa22w4, pa22w5, \n",
    "             pa22w6, pa22w7, pa22w8, pa22w9, pa22w10, \n",
    "             pa22w11, pa22w12, pa22w13, pa22w14, pa22w15, \n",
    "             pa22w16, pa22w17) = get_pass_data22()"
   ]
  },
  {
   "cell_type": "code",
   "execution_count": null,
   "id": "f47ee528",
   "metadata": {},
   "outputs": [],
   "source": [
    "df_pass_22_w1 = pd.concat(pass_df22)"
   ]
  },
  {
   "cell_type": "code",
   "execution_count": null,
   "id": "52e2e162",
   "metadata": {},
   "outputs": [],
   "source": [
    "df_pass_22_w1['pts'] = (df_pass_22_w1['Yds'] / 25) + (df_pass_22_w1['TD'] * 4) + (df_pass_22_w1['Int'] * -2)"
   ]
  },
  {
   "cell_type": "code",
   "execution_count": null,
   "id": "567e583c",
   "metadata": {},
   "outputs": [],
   "source": [
    "df22_pass = df_pass_22_w1.to_csv('df22_pass.csv')"
   ]
  },
  {
   "cell_type": "code",
   "execution_count": null,
   "id": "d0e2695f",
   "metadata": {},
   "outputs": [],
   "source": [
    "def get_rec_data22():\n",
    "    \n",
    "    rc22w1 = pd.read_csv('22rcweek1 - Sheet1.csv')\n",
    "    rc22w2 = pd.read_csv('22rcweek2 - Sheet1.csv')\n",
    "    rc22w3 = pd.read_csv('22rcweek3 - Sheet1.csv')\n",
    "    rc22w4 = pd.read_csv('22rcweek4 - Sheet1.csv')\n",
    "    rc22w5 = pd.read_csv('22rcweek5 - Sheet1.csv')\n",
    "    rc22w6 = pd.read_csv('22rcweek6 - Sheet1.csv')\n",
    "    rc22w7 = pd.read_csv('22rcweek7 - Sheet1.csv')\n",
    "    rc22w8 = pd.read_csv('22rcweek8 - Sheet1.csv')\n",
    "    rc22w9 = pd.read_csv('22rcweek9 - Sheet1.csv')\n",
    "    rc22w10 = pd.read_csv('22rcweek10 - Sheet1.csv')\n",
    "    rc22w11 = pd.read_csv('22rcweek11 - Sheet1.csv')\n",
    "    rc22w12 = pd.read_csv('22rcweek12 - Sheet1.csv')\n",
    "    rc22w13 = pd.read_csv('22rcweek13 - Sheet1.csv')\n",
    "    rc22w14 = pd.read_csv('22rcweek14 - Sheet1.csv')\n",
    "    rc22w15 = pd.read_csv('22rcweek15 - Sheet1.csv')\n",
    "    rc22w16 = pd.read_csv('22rcweek16 - Sheet1.csv')\n",
    "    rc22w17 = pd.read_csv('22rcweek17 - Sheet1.csv')\n",
    "\n",
    "\n",
    "    \n",
    "    return rc22w1, rc22w2, rc22w3, rc22w4, rc22w5, rc22w6, rc22w7, rc22w8, rc22w9, rc22w10, rc22w11, rc22w12, rc22w13, rc22w14, rc22w15, rc22w16, rc22w17\n",
    "    "
   ]
  },
  {
   "cell_type": "code",
   "execution_count": null,
   "id": "105bdcc9",
   "metadata": {},
   "outputs": [],
   "source": [
    "rec_df22 = (rc22w1, rc22w2, rc22w3, rc22w4, rc22w5, \n",
    "            rc22w6, rc22w7, rc22w8, rc22w9, rc22w10, \n",
    "            rc22w11, rc22w12, rc22w13, rc22w14, rc22w15, \n",
    "            rc22w16, rc22w17) = get_rec_data22()"
   ]
  },
  {
   "cell_type": "code",
   "execution_count": null,
   "id": "b9f7b332",
   "metadata": {},
   "outputs": [],
   "source": [
    "df_rec_22_w1 = pd.concat(rec_df22)"
   ]
  },
  {
   "cell_type": "code",
   "execution_count": null,
   "id": "3e98fbec",
   "metadata": {},
   "outputs": [],
   "source": [
    "df_rec_22_w1['pts'] = (df_rec_22_w1['Yds'] / 10) + (df_rec_22_w1['TD'] * 6) + (df_rec_22_w1['Rec'] * 1)"
   ]
  },
  {
   "cell_type": "code",
   "execution_count": null,
   "id": "9f786e7b",
   "metadata": {},
   "outputs": [],
   "source": [
    "df22_rec = df_rec_22_w1.to_csv('df22_rec.csv')"
   ]
  },
  {
   "cell_type": "code",
   "execution_count": null,
   "id": "288f7dce",
   "metadata": {},
   "outputs": [],
   "source": [
    "def get_rush_data22():\n",
    "    \n",
    "    ru22w1 = pd.read_csv('22ruweek1 - Sheet1.csv')\n",
    "    ru22w2 = pd.read_csv('22ruweek2 - Sheet1.csv')\n",
    "    ru22w3 = pd.read_csv('22ruweek3 - Sheet1.csv')\n",
    "    ru22w4 = pd.read_csv('22ruweek4 - Sheet1.csv')\n",
    "    ru22w5 = pd.read_csv('22ruweek5 - Sheet1.csv')\n",
    "    ru22w6 = pd.read_csv('22ruweek6 - Sheet1.csv')\n",
    "    ru22w7 = pd.read_csv('22ruweek7 - Sheet1.csv')\n",
    "    ru22w8 = pd.read_csv('22ruweek8 - Sheet1.csv')\n",
    "    ru22w9 = pd.read_csv('22ruweek9 - Sheet1.csv')\n",
    "    ru22w10 = pd.read_csv('22ruweek10 - Sheet1.csv')\n",
    "    ru22w11 = pd.read_csv('22ruweek11 - Sheet1.csv')\n",
    "    ru22w12 = pd.read_csv('22ruweek12 - Sheet1.csv')\n",
    "    ru22w13 = pd.read_csv('22ruweek13 - Sheet1.csv')\n",
    "    ru22w14 = pd.read_csv('22ruweek14 - Sheet1.csv')\n",
    "    ru22w15 = pd.read_csv('22ruweek15 - Sheet1.csv')\n",
    "    ru22w16 = pd.read_csv('22ruweek16 - Sheet1.csv')\n",
    "    ru22w17 = pd.read_csv('22ruweek17 - Sheet1.csv')\n",
    "\n",
    "    \n",
    "    return ru22w1, ru22w2, ru22w3, ru22w4, ru22w5, ru22w6, ru22w7, ru22w8, ru22w9, ru22w10, ru22w11, ru22w12, ru22w13, ru22w14, ru22w15, ru22w16, ru22w17\n",
    "    "
   ]
  },
  {
   "cell_type": "code",
   "execution_count": null,
   "id": "3c9789a6",
   "metadata": {},
   "outputs": [],
   "source": [
    "rush_df22 = (ru22w1, ru22w2, ru22w3, ru22w4, ru22w5, \n",
    "             ru22w6, ru22w7, ru22w8, ru22w9, ru22w10, \n",
    "             ru22w11, ru22w12, ru22w13, ru22w14, ru22w15, \n",
    "             ru22w16, ru22w17) = get_rush_data22()"
   ]
  },
  {
   "cell_type": "code",
   "execution_count": null,
   "id": "6957a474",
   "metadata": {},
   "outputs": [],
   "source": [
    "df_rush_22_w1 = pd.concat(rush_df22)"
   ]
  },
  {
   "cell_type": "code",
   "execution_count": null,
   "id": "48c3aa71",
   "metadata": {},
   "outputs": [],
   "source": [
    "df_rush_22_w1['pts'] = (df_rush_22_w1['Yds'] / 10) + (df_rush_22_w1['TD'] * 6)"
   ]
  },
  {
   "cell_type": "code",
   "execution_count": null,
   "id": "d4021dde",
   "metadata": {},
   "outputs": [],
   "source": [
    "df22_rush = df_rush_22_w1.to_csv('df22_rush.csv')"
   ]
  },
  {
   "cell_type": "code",
   "execution_count": null,
   "id": "4593fbf4",
   "metadata": {},
   "outputs": [],
   "source": [
    "df22_rush = pd.read_csv('df22_rush.csv', index_col = 0)"
   ]
  },
  {
   "cell_type": "code",
   "execution_count": null,
   "id": "38e9ed95",
   "metadata": {},
   "outputs": [],
   "source": [
    "df22_rush"
   ]
  },
  {
   "cell_type": "code",
   "execution_count": null,
   "id": "d22fb950",
   "metadata": {},
   "outputs": [],
   "source": [
    "def rushing_dfs():\n",
    "    df22_rush = pd.read_csv('df22_rush.csv', index_col = 0)\n",
    "    df21_rush = pd.read_csv('df21_rush.csv', index_col = 0)\n",
    "    df20_rush = pd.read_csv('df20_rush.csv', index_col = 0)\n",
    "    df19_rush = pd.read_csv('df19_rush.csv', index_col = 0)\n",
    "    df18_rush = pd.read_csv('df18_rush.csv', index_col = 0)\n",
    "    \n",
    "    rush_df = pd.concat([df22_rush, df21_rush, df20_rush, df19_rush, df18_rush])\n",
    "    \n",
    "    return rush_df"
   ]
  },
  {
   "cell_type": "code",
   "execution_count": null,
   "id": "db0b24d7",
   "metadata": {},
   "outputs": [],
   "source": [
    "rush_df = rushing_dfs()"
   ]
  },
  {
   "cell_type": "code",
   "execution_count": null,
   "id": "48afe527",
   "metadata": {},
   "outputs": [],
   "source": [
    "rush_df.columns"
   ]
  },
  {
   "cell_type": "code",
   "execution_count": null,
   "id": "bd50874a",
   "metadata": {},
   "outputs": [],
   "source": [
    "rush_dropcol = ['-9999', 'Unnamed: 0', 'Unnamed: 1', 'Unnamed: 2', \n",
    "                'Unnamed: 3', 'Unnamed: 4', 'Unnamed: 5', 'Unnamed: 6', \n",
    "                'Unnamed: 7', 'Unnamed: 8', 'Unnamed: 9', 'Unnamed: 11', \n",
    "                'Unnamed: 12', 'Unnamed: 13', 'Unnamed: 14', 'Unnamed: 15', \n",
    "                'Unnamed: 16', 'Unnamed: 17', 'Unnamed: 18', 'Unnamed: 19', 'Unnamed: 20']"
   ]
  },
  {
   "cell_type": "code",
   "execution_count": null,
   "id": "abaa2867",
   "metadata": {},
   "outputs": [],
   "source": [
    "rush_df = rush_df.drop(columns = rush_dropcol)"
   ]
  },
  {
   "cell_type": "code",
   "execution_count": null,
   "id": "f7a4df33",
   "metadata": {},
   "outputs": [],
   "source": [
    "rush_df = rush_df.drop(columns = ['Yds.1', 'Att.1'])"
   ]
  },
  {
   "cell_type": "code",
   "execution_count": null,
   "id": "a10e90b5",
   "metadata": {},
   "outputs": [],
   "source": [
    "rush_df.columns = rush_df.columns.str.lower()"
   ]
  },
  {
   "cell_type": "code",
   "execution_count": null,
   "id": "7159e126",
   "metadata": {},
   "outputs": [],
   "source": [
    "rush_df"
   ]
  },
  {
   "cell_type": "code",
   "execution_count": null,
   "id": "c066299f",
   "metadata": {},
   "outputs": [],
   "source": [
    "rush_df.to_csv('rushing_df.csv')"
   ]
  },
  {
   "cell_type": "code",
   "execution_count": null,
   "id": "954ee231",
   "metadata": {},
   "outputs": [],
   "source": [
    "def receiving_dfs():\n",
    "    df22_rec = pd.read_csv('df22_rec.csv', index_col = 0)\n",
    "    df21_rec = pd.read_csv('df21_rec.csv', index_col = 0)\n",
    "    df20_rec = pd.read_csv('df20_rec.csv', index_col = 0)\n",
    "    df19_rec = pd.read_csv('df19_rec.csv', index_col = 0)\n",
    "    df18_rec = pd.read_csv('df18_rec.csv', index_col = 0)\n",
    "    \n",
    "    rec_df = pd.concat([df22_rec, df21_rec, df20_rec, df19_rec, df18_rec])\n",
    "    \n",
    "    return rec_df"
   ]
  },
  {
   "cell_type": "code",
   "execution_count": null,
   "id": "cc6ef4ff",
   "metadata": {},
   "outputs": [],
   "source": [
    "rec_df = receiving_dfs()"
   ]
  },
  {
   "cell_type": "code",
   "execution_count": null,
   "id": "c1843b26",
   "metadata": {},
   "outputs": [],
   "source": [
    "rec_df.columns"
   ]
  },
  {
   "cell_type": "code",
   "execution_count": null,
   "id": "30e9281d",
   "metadata": {},
   "outputs": [],
   "source": [
    "rec_df = rec_df.drop(columns = ['-9999', 'Tgt.1', 'Yds.1'])"
   ]
  },
  {
   "cell_type": "code",
   "execution_count": null,
   "id": "7e6b8ddd",
   "metadata": {},
   "outputs": [],
   "source": [
    "rec_df.columns = rec_df.columns.str.lower()"
   ]
  },
  {
   "cell_type": "code",
   "execution_count": null,
   "id": "5af0c1c3",
   "metadata": {},
   "outputs": [],
   "source": [
    "rec_df.to_csv('receiving_df.csv')"
   ]
  },
  {
   "cell_type": "code",
   "execution_count": null,
   "id": "8b3aebe1",
   "metadata": {},
   "outputs": [],
   "source": [
    "def passing_dfs():\n",
    "    df22_pass = pd.read_csv('df22_pass.csv', index_col = 0)\n",
    "    df21_pass = pd.read_csv('df21_pass.csv', index_col = 0)\n",
    "    df20_pass = pd.read_csv('df20_pass.csv', index_col = 0)\n",
    "    df19_pass = pd.read_csv('df19_pass.csv', index_col = 0)\n",
    "    df18_pass = pd.read_csv('df18_pass.csv', index_col = 0)\n",
    "    \n",
    "    pass_df = pd.concat([df22_pass, df21_pass, df20_pass, df19_pass, df18_pass])\n",
    "    \n",
    "    return pass_df"
   ]
  },
  {
   "cell_type": "code",
   "execution_count": null,
   "id": "8aa640a3",
   "metadata": {},
   "outputs": [],
   "source": [
    "pass_df = passing_dfs()"
   ]
  },
  {
   "cell_type": "code",
   "execution_count": null,
   "id": "74bdfe83",
   "metadata": {},
   "outputs": [],
   "source": [
    "pass_df.columns"
   ]
  },
  {
   "cell_type": "code",
   "execution_count": null,
   "id": "fbacc163",
   "metadata": {},
   "outputs": [],
   "source": [
    "bad_cols_pass = ['Unnamed: 0', 'Unnamed: 1', 'Unnamed: 2', 'Unnamed: 3', 'Unnamed: 4',\n",
    "       'Unnamed: 5', 'Unnamed: 6', 'Unnamed: 7', 'Unnamed: 8', 'Unnamed: 9',\n",
    "       'Unnamed: 11', 'Unnamed: 12', 'Unnamed: 13', 'Unnamed: 14',\n",
    "       'Unnamed: 15', 'Unnamed: 16', 'Unnamed: 17', 'Unnamed: 18',\n",
    "       'Unnamed: 19', 'Unnamed: 20', 'Unnamed: 21', 'Unnamed: 22',\n",
    "       'Unnamed: 23', 'Unnamed: 24', 'Unnamed: 25', 'Unnamed: 26',\n",
    "       'Unnamed: 27', 'Unnamed: 28', 'Unnamed: 29', 'Unnamed: 30',\n",
    "       'Unnamed: 31', 'Unnamed: 32', 'Unnamed: 33', '-9999', 'Rate.1', 'Yds.1', 'Att.1']"
   ]
  },
  {
   "cell_type": "code",
   "execution_count": null,
   "id": "3c8d1445",
   "metadata": {},
   "outputs": [],
   "source": [
    "pass_df = pass_df.drop(columns = bad_cols_pass)"
   ]
  },
  {
   "cell_type": "code",
   "execution_count": null,
   "id": "58d34400",
   "metadata": {},
   "outputs": [],
   "source": [
    "pass_df.columns = pass_df.columns.str.lower()"
   ]
  },
  {
   "cell_type": "code",
   "execution_count": null,
   "id": "e4dc6bd5",
   "metadata": {},
   "outputs": [],
   "source": [
    "pass_df.to_csv('passing_df.csv')"
   ]
  },
  {
   "cell_type": "code",
   "execution_count": 20,
   "id": "20b64ddf",
   "metadata": {},
   "outputs": [],
   "source": [
    "df2014 = pd.read_csv('2014_fantasy.csv')"
   ]
  },
  {
   "cell_type": "code",
   "execution_count": 21,
   "id": "a56a6d09",
   "metadata": {},
   "outputs": [],
   "source": [
    "df2014['year'] = 2014"
   ]
  },
  {
   "cell_type": "code",
   "execution_count": 22,
   "id": "974d86d9",
   "metadata": {},
   "outputs": [],
   "source": [
    "df2015 = pd.read_csv('2015_fantasy.csv')"
   ]
  },
  {
   "cell_type": "code",
   "execution_count": 25,
   "id": "a82bdb51",
   "metadata": {},
   "outputs": [],
   "source": [
    "df2015['year'] = 2015"
   ]
  },
  {
   "cell_type": "code",
   "execution_count": 26,
   "id": "4f135a9d",
   "metadata": {},
   "outputs": [],
   "source": [
    "df2016 = pd.read_csv('2016_fantasy.csv')"
   ]
  },
  {
   "cell_type": "code",
   "execution_count": 27,
   "id": "7498df84",
   "metadata": {},
   "outputs": [],
   "source": [
    "df2016['year'] = 2016"
   ]
  },
  {
   "cell_type": "code",
   "execution_count": 28,
   "id": "76396f1f",
   "metadata": {},
   "outputs": [],
   "source": [
    "df2017 = pd.read_csv('2017_fantasy.csv')"
   ]
  },
  {
   "cell_type": "code",
   "execution_count": 29,
   "id": "122dddd7",
   "metadata": {},
   "outputs": [],
   "source": [
    "df2017['year'] = 2017"
   ]
  },
  {
   "cell_type": "code",
   "execution_count": 30,
   "id": "1130f8a7",
   "metadata": {},
   "outputs": [],
   "source": [
    "df2018 = pd.read_csv('2018_fantasy.csv')"
   ]
  },
  {
   "cell_type": "code",
   "execution_count": 31,
   "id": "02db20d7",
   "metadata": {},
   "outputs": [],
   "source": [
    "df2018['year'] = 2018"
   ]
  },
  {
   "cell_type": "code",
   "execution_count": 32,
   "id": "afe4146a",
   "metadata": {},
   "outputs": [],
   "source": [
    "df2019 = pd.read_csv('2019_fantasy.csv')"
   ]
  },
  {
   "cell_type": "code",
   "execution_count": 33,
   "id": "f675967a",
   "metadata": {},
   "outputs": [],
   "source": [
    "df2019['year'] = 2019"
   ]
  },
  {
   "cell_type": "code",
   "execution_count": 34,
   "id": "1b9bfcf4",
   "metadata": {},
   "outputs": [],
   "source": [
    "df2020 = pd.read_csv('2020_fantasy.csv')"
   ]
  },
  {
   "cell_type": "code",
   "execution_count": 35,
   "id": "b2582834",
   "metadata": {},
   "outputs": [],
   "source": [
    "df2020['year'] = 2020"
   ]
  },
  {
   "cell_type": "code",
   "execution_count": 36,
   "id": "a0213059",
   "metadata": {},
   "outputs": [],
   "source": [
    "df2021 = pd.read_csv('2021_fantasy.csv')"
   ]
  },
  {
   "cell_type": "code",
   "execution_count": 37,
   "id": "76c18b7a",
   "metadata": {},
   "outputs": [],
   "source": [
    "df2021['year'] = 2021"
   ]
  },
  {
   "cell_type": "code",
   "execution_count": 38,
   "id": "8f1b0fed",
   "metadata": {},
   "outputs": [],
   "source": [
    "df2022 = pd.read_csv('2022_fantasy.csv')"
   ]
  },
  {
   "cell_type": "code",
   "execution_count": 39,
   "id": "cb50123c",
   "metadata": {},
   "outputs": [],
   "source": [
    "df2022['year'] = 2022"
   ]
  },
  {
   "cell_type": "code",
   "execution_count": 40,
   "id": "352ca97d",
   "metadata": {},
   "outputs": [],
   "source": [
    "ffb_df = pd.concat([df2014, df2015, df2016, df2017, \n",
    "         df2018, df2019, df2020, df2021, df2022])"
   ]
  },
  {
   "cell_type": "code",
   "execution_count": 41,
   "id": "f2fc2aef",
   "metadata": {},
   "outputs": [
    {
     "data": {
      "text/html": [
       "<div>\n",
       "<style scoped>\n",
       "    .dataframe tbody tr th:only-of-type {\n",
       "        vertical-align: middle;\n",
       "    }\n",
       "\n",
       "    .dataframe tbody tr th {\n",
       "        vertical-align: top;\n",
       "    }\n",
       "\n",
       "    .dataframe thead th {\n",
       "        text-align: right;\n",
       "    }\n",
       "</style>\n",
       "<table border=\"1\" class=\"dataframe\">\n",
       "  <thead>\n",
       "    <tr style=\"text-align: right;\">\n",
       "      <th></th>\n",
       "      <th>Rk</th>\n",
       "      <th>Player</th>\n",
       "      <th>Tm</th>\n",
       "      <th>FantPos</th>\n",
       "      <th>Age</th>\n",
       "      <th>G</th>\n",
       "      <th>GS</th>\n",
       "      <th>Cmp</th>\n",
       "      <th>Att</th>\n",
       "      <th>Yds</th>\n",
       "      <th>...</th>\n",
       "      <th>2PP</th>\n",
       "      <th>FantPt</th>\n",
       "      <th>PPR</th>\n",
       "      <th>DKPt</th>\n",
       "      <th>FDPt</th>\n",
       "      <th>VBD</th>\n",
       "      <th>PosRank</th>\n",
       "      <th>OvRank</th>\n",
       "      <th>-9999</th>\n",
       "      <th>year</th>\n",
       "    </tr>\n",
       "  </thead>\n",
       "  <tbody>\n",
       "    <tr>\n",
       "      <th>0</th>\n",
       "      <td>1</td>\n",
       "      <td>DeMarco Murray*+</td>\n",
       "      <td>DAL</td>\n",
       "      <td>RB</td>\n",
       "      <td>26</td>\n",
       "      <td>16</td>\n",
       "      <td>16</td>\n",
       "      <td>0.0</td>\n",
       "      <td>0.0</td>\n",
       "      <td>0.0</td>\n",
       "      <td>...</td>\n",
       "      <td>NaN</td>\n",
       "      <td>294.0</td>\n",
       "      <td>351.1</td>\n",
       "      <td>362.1</td>\n",
       "      <td>322.6</td>\n",
       "      <td>173.0</td>\n",
       "      <td>1</td>\n",
       "      <td>1.0</td>\n",
       "      <td>MurrDe00</td>\n",
       "      <td>2014</td>\n",
       "    </tr>\n",
       "    <tr>\n",
       "      <th>1</th>\n",
       "      <td>2</td>\n",
       "      <td>Le'Veon Bell*+</td>\n",
       "      <td>PIT</td>\n",
       "      <td>RB</td>\n",
       "      <td>22</td>\n",
       "      <td>16</td>\n",
       "      <td>16</td>\n",
       "      <td>0.0</td>\n",
       "      <td>0.0</td>\n",
       "      <td>0.0</td>\n",
       "      <td>...</td>\n",
       "      <td>NaN</td>\n",
       "      <td>288.0</td>\n",
       "      <td>370.5</td>\n",
       "      <td>376.5</td>\n",
       "      <td>329.0</td>\n",
       "      <td>167.0</td>\n",
       "      <td>2</td>\n",
       "      <td>2.0</td>\n",
       "      <td>BellLe00</td>\n",
       "      <td>2014</td>\n",
       "    </tr>\n",
       "    <tr>\n",
       "      <th>2</th>\n",
       "      <td>3</td>\n",
       "      <td>Marshawn Lynch*</td>\n",
       "      <td>SEA</td>\n",
       "      <td>RB</td>\n",
       "      <td>28</td>\n",
       "      <td>16</td>\n",
       "      <td>14</td>\n",
       "      <td>0.0</td>\n",
       "      <td>0.0</td>\n",
       "      <td>0.0</td>\n",
       "      <td>...</td>\n",
       "      <td>NaN</td>\n",
       "      <td>265.0</td>\n",
       "      <td>302.3</td>\n",
       "      <td>310.3</td>\n",
       "      <td>283.8</td>\n",
       "      <td>144.0</td>\n",
       "      <td>3</td>\n",
       "      <td>3.0</td>\n",
       "      <td>LyncMa00</td>\n",
       "      <td>2014</td>\n",
       "    </tr>\n",
       "    <tr>\n",
       "      <th>3</th>\n",
       "      <td>4</td>\n",
       "      <td>Antonio Brown*+</td>\n",
       "      <td>PIT</td>\n",
       "      <td>WR</td>\n",
       "      <td>26</td>\n",
       "      <td>16</td>\n",
       "      <td>16</td>\n",
       "      <td>2.0</td>\n",
       "      <td>2.0</td>\n",
       "      <td>20.0</td>\n",
       "      <td>...</td>\n",
       "      <td>NaN</td>\n",
       "      <td>258.0</td>\n",
       "      <td>386.9</td>\n",
       "      <td>391.9</td>\n",
       "      <td>322.4</td>\n",
       "      <td>136.0</td>\n",
       "      <td>1</td>\n",
       "      <td>4.0</td>\n",
       "      <td>BrowAn04</td>\n",
       "      <td>2014</td>\n",
       "    </tr>\n",
       "    <tr>\n",
       "      <th>4</th>\n",
       "      <td>5</td>\n",
       "      <td>Matt Forte</td>\n",
       "      <td>CHI</td>\n",
       "      <td>RB</td>\n",
       "      <td>29</td>\n",
       "      <td>16</td>\n",
       "      <td>16</td>\n",
       "      <td>0.0</td>\n",
       "      <td>0.0</td>\n",
       "      <td>0.0</td>\n",
       "      <td>...</td>\n",
       "      <td>NaN</td>\n",
       "      <td>245.0</td>\n",
       "      <td>346.6</td>\n",
       "      <td>354.6</td>\n",
       "      <td>295.6</td>\n",
       "      <td>124.0</td>\n",
       "      <td>4</td>\n",
       "      <td>5.0</td>\n",
       "      <td>FortMa00</td>\n",
       "      <td>2014</td>\n",
       "    </tr>\n",
       "    <tr>\n",
       "      <th>...</th>\n",
       "      <td>...</td>\n",
       "      <td>...</td>\n",
       "      <td>...</td>\n",
       "      <td>...</td>\n",
       "      <td>...</td>\n",
       "      <td>...</td>\n",
       "      <td>...</td>\n",
       "      <td>...</td>\n",
       "      <td>...</td>\n",
       "      <td>...</td>\n",
       "      <td>...</td>\n",
       "      <td>...</td>\n",
       "      <td>...</td>\n",
       "      <td>...</td>\n",
       "      <td>...</td>\n",
       "      <td>...</td>\n",
       "      <td>...</td>\n",
       "      <td>...</td>\n",
       "      <td>...</td>\n",
       "      <td>...</td>\n",
       "      <td>...</td>\n",
       "    </tr>\n",
       "    <tr>\n",
       "      <th>645</th>\n",
       "      <td>646</td>\n",
       "      <td>Ihmir Smith-Marsette</td>\n",
       "      <td>2TM</td>\n",
       "      <td>WR</td>\n",
       "      <td>23</td>\n",
       "      <td>8</td>\n",
       "      <td>0</td>\n",
       "      <td>0.0</td>\n",
       "      <td>0.0</td>\n",
       "      <td>0.0</td>\n",
       "      <td>...</td>\n",
       "      <td>NaN</td>\n",
       "      <td>-1.0</td>\n",
       "      <td>0.4</td>\n",
       "      <td>1.4</td>\n",
       "      <td>-0.1</td>\n",
       "      <td>NaN</td>\n",
       "      <td>252</td>\n",
       "      <td>NaN</td>\n",
       "      <td>SmitIh00</td>\n",
       "      <td>2022</td>\n",
       "    </tr>\n",
       "    <tr>\n",
       "      <th>646</th>\n",
       "      <td>647</td>\n",
       "      <td>KaVontae Turpin*</td>\n",
       "      <td>DAL</td>\n",
       "      <td>WR</td>\n",
       "      <td>26</td>\n",
       "      <td>17</td>\n",
       "      <td>0</td>\n",
       "      <td>0.0</td>\n",
       "      <td>0.0</td>\n",
       "      <td>0.0</td>\n",
       "      <td>...</td>\n",
       "      <td>NaN</td>\n",
       "      <td>-1.0</td>\n",
       "      <td>-0.4</td>\n",
       "      <td>1.6</td>\n",
       "      <td>-0.9</td>\n",
       "      <td>NaN</td>\n",
       "      <td>254</td>\n",
       "      <td>NaN</td>\n",
       "      <td>TurpKa00</td>\n",
       "      <td>2022</td>\n",
       "    </tr>\n",
       "    <tr>\n",
       "      <th>647</th>\n",
       "      <td>648</td>\n",
       "      <td>Taiwan Jones</td>\n",
       "      <td>BUF</td>\n",
       "      <td>NaN</td>\n",
       "      <td>34</td>\n",
       "      <td>16</td>\n",
       "      <td>0</td>\n",
       "      <td>0.0</td>\n",
       "      <td>0.0</td>\n",
       "      <td>0.0</td>\n",
       "      <td>...</td>\n",
       "      <td>NaN</td>\n",
       "      <td>-2.0</td>\n",
       "      <td>-2.0</td>\n",
       "      <td>-1.0</td>\n",
       "      <td>-2.0</td>\n",
       "      <td>NaN</td>\n",
       "      <td>173</td>\n",
       "      <td>NaN</td>\n",
       "      <td>JoneTa00</td>\n",
       "      <td>2022</td>\n",
       "    </tr>\n",
       "    <tr>\n",
       "      <th>648</th>\n",
       "      <td>649</td>\n",
       "      <td>Chester Rogers</td>\n",
       "      <td>CLE</td>\n",
       "      <td>NaN</td>\n",
       "      <td>28</td>\n",
       "      <td>3</td>\n",
       "      <td>0</td>\n",
       "      <td>0.0</td>\n",
       "      <td>0.0</td>\n",
       "      <td>0.0</td>\n",
       "      <td>...</td>\n",
       "      <td>NaN</td>\n",
       "      <td>-2.0</td>\n",
       "      <td>-2.0</td>\n",
       "      <td>-1.0</td>\n",
       "      <td>-2.0</td>\n",
       "      <td>NaN</td>\n",
       "      <td>255</td>\n",
       "      <td>NaN</td>\n",
       "      <td>RogeCh02</td>\n",
       "      <td>2022</td>\n",
       "    </tr>\n",
       "    <tr>\n",
       "      <th>649</th>\n",
       "      <td>650</td>\n",
       "      <td>Tim Boyle</td>\n",
       "      <td>CHI</td>\n",
       "      <td>QB</td>\n",
       "      <td>28</td>\n",
       "      <td>1</td>\n",
       "      <td>0</td>\n",
       "      <td>2.0</td>\n",
       "      <td>8.0</td>\n",
       "      <td>33.0</td>\n",
       "      <td>...</td>\n",
       "      <td>NaN</td>\n",
       "      <td>-3.0</td>\n",
       "      <td>-2.9</td>\n",
       "      <td>-0.9</td>\n",
       "      <td>-0.9</td>\n",
       "      <td>NaN</td>\n",
       "      <td>84</td>\n",
       "      <td>NaN</td>\n",
       "      <td>BoylTi00</td>\n",
       "      <td>2022</td>\n",
       "    </tr>\n",
       "  </tbody>\n",
       "</table>\n",
       "<p>5568 rows × 35 columns</p>\n",
       "</div>"
      ],
      "text/plain": [
       "      Rk                Player   Tm FantPos  Age   G  GS  Cmp  Att   Yds  ...  \\\n",
       "0      1      DeMarco Murray*+  DAL      RB   26  16  16  0.0  0.0   0.0  ...   \n",
       "1      2        Le'Veon Bell*+  PIT      RB   22  16  16  0.0  0.0   0.0  ...   \n",
       "2      3       Marshawn Lynch*  SEA      RB   28  16  14  0.0  0.0   0.0  ...   \n",
       "3      4       Antonio Brown*+  PIT      WR   26  16  16  2.0  2.0  20.0  ...   \n",
       "4      5            Matt Forte  CHI      RB   29  16  16  0.0  0.0   0.0  ...   \n",
       "..   ...                   ...  ...     ...  ...  ..  ..  ...  ...   ...  ...   \n",
       "645  646  Ihmir Smith-Marsette  2TM      WR   23   8   0  0.0  0.0   0.0  ...   \n",
       "646  647      KaVontae Turpin*  DAL      WR   26  17   0  0.0  0.0   0.0  ...   \n",
       "647  648          Taiwan Jones  BUF     NaN   34  16   0  0.0  0.0   0.0  ...   \n",
       "648  649        Chester Rogers  CLE     NaN   28   3   0  0.0  0.0   0.0  ...   \n",
       "649  650             Tim Boyle  CHI      QB   28   1   0  2.0  8.0  33.0  ...   \n",
       "\n",
       "     2PP  FantPt    PPR   DKPt   FDPt    VBD  PosRank  OvRank     -9999  year  \n",
       "0    NaN   294.0  351.1  362.1  322.6  173.0        1     1.0  MurrDe00  2014  \n",
       "1    NaN   288.0  370.5  376.5  329.0  167.0        2     2.0  BellLe00  2014  \n",
       "2    NaN   265.0  302.3  310.3  283.8  144.0        3     3.0  LyncMa00  2014  \n",
       "3    NaN   258.0  386.9  391.9  322.4  136.0        1     4.0  BrowAn04  2014  \n",
       "4    NaN   245.0  346.6  354.6  295.6  124.0        4     5.0  FortMa00  2014  \n",
       "..   ...     ...    ...    ...    ...    ...      ...     ...       ...   ...  \n",
       "645  NaN    -1.0    0.4    1.4   -0.1    NaN      252     NaN  SmitIh00  2022  \n",
       "646  NaN    -1.0   -0.4    1.6   -0.9    NaN      254     NaN  TurpKa00  2022  \n",
       "647  NaN    -2.0   -2.0   -1.0   -2.0    NaN      173     NaN  JoneTa00  2022  \n",
       "648  NaN    -2.0   -2.0   -1.0   -2.0    NaN      255     NaN  RogeCh02  2022  \n",
       "649  NaN    -3.0   -2.9   -0.9   -0.9    NaN       84     NaN  BoylTi00  2022  \n",
       "\n",
       "[5568 rows x 35 columns]"
      ]
     },
     "execution_count": 41,
     "metadata": {},
     "output_type": "execute_result"
    }
   ],
   "source": [
    "ffb_df"
   ]
  },
  {
   "cell_type": "code",
   "execution_count": 42,
   "id": "760e5caf",
   "metadata": {},
   "outputs": [],
   "source": [
    "ffb_df.to_csv('ffb_df.csv')"
   ]
  },
  {
   "cell_type": "code",
   "execution_count": null,
   "id": "9aa5c17c",
   "metadata": {},
   "outputs": [],
   "source": []
  }
 ],
 "metadata": {
  "kernelspec": {
   "display_name": "Python 3 (ipykernel)",
   "language": "python",
   "name": "python3"
  },
  "language_info": {
   "codemirror_mode": {
    "name": "ipython",
    "version": 3
   },
   "file_extension": ".py",
   "mimetype": "text/x-python",
   "name": "python",
   "nbconvert_exporter": "python",
   "pygments_lexer": "ipython3",
   "version": "3.9.13"
  }
 },
 "nbformat": 4,
 "nbformat_minor": 5
}
